{
  "cells": [
    {
      "cell_type": "markdown",
      "id": "ed742606",
      "metadata": {},
      "source": [
        "Ejecutado desde VERTEX AI Notebooks Colab Enterprise"
      ]
    },
    {
      "cell_type": "code",
      "execution_count": 1,
      "id": "RwOdiM2_UVAd",
      "metadata": {
        "executionInfo": {
          "elapsed": 2740,
          "status": "ok",
          "timestamp": 1694289094663,
          "user": {
            "displayName": "",
            "userId": ""
          },
          "user_tz": 180
        },
        "id": "RwOdiM2_UVAd"
      },
      "outputs": [],
      "source": [
        "import pandas as pd\n",
        "import pyarrow as pa\n",
        "import pyarrow.parquet as pq\n",
        "import os\n",
        "import tempfile\n",
        "from google.cloud import storage"
      ]
    },
    {
      "cell_type": "markdown",
      "id": "ODqtwhGKXXTD",
      "metadata": {
        "id": "ODqtwhGKXXTD"
      },
      "source": [
        "### Google Metadata"
      ]
    },
    {
      "cell_type": "markdown",
      "id": "YWs8HoPwYDTi",
      "metadata": {
        "id": "YWs8HoPwYDTi"
      },
      "source": [
        "Paths de entrada y salida"
      ]
    },
    {
      "cell_type": "code",
      "execution_count": 2,
      "id": "cZNSSVJcUeDM",
      "metadata": {
        "executionInfo": {
          "elapsed": 1664,
          "status": "ok",
          "timestamp": 1694289275274,
          "user": {
            "displayName": "",
            "userId": ""
          },
          "user_tz": 180
        },
        "id": "cZNSSVJcUeDM"
      },
      "outputs": [],
      "source": [
        "bucket_name = \"json-bucket-datos\"\n",
        "input_folder_name = \"Google/metadata-sitios-parquet\"\n",
        "output_folder_name = \"Google/ETL\"\n",
        "output_file_name = \"metadata.parquet\"\n",
        "\n",
        "# Crear cliente de Google Cloud Storage\n",
        "storage_client = storage.Client()\n",
        "\n",
        "bucket = storage_client.get_bucket(bucket_name)\n",
        "\n",
        "# Crear directorio temporal para trabajar con los archivos\n",
        "temp_dir = tempfile.mkdtemp()\n",
        "\n",
        "# Crear referencia al archivo de salida de Parquet\n",
        "output_blob_name = os.path.join(output_folder_name, output_file_name)\n",
        "output_blob = bucket.blob(output_blob_name)\n",
        "\n",
        "# Vamos a guardar los datos transformados en un nuevo archivo de Parquet\n",
        "output_file_path = os.path.join(temp_dir, output_file_name)"
      ]
    },
    {
      "cell_type": "markdown",
      "id": "UK2WxoajYIjQ",
      "metadata": {
        "id": "UK2WxoajYIjQ"
      },
      "source": [
        "Leer los parquets a un dataframe"
      ]
    },
    {
      "cell_type": "code",
      "execution_count": 3,
      "id": "Z0hILqmQWwas",
      "metadata": {
        "executionInfo": {
          "elapsed": 53719,
          "status": "ok",
          "timestamp": 1694289335336,
          "user": {
            "displayName": "",
            "userId": ""
          },
          "user_tz": 180
        },
        "id": "Z0hILqmQWwas"
      },
      "outputs": [],
      "source": [
        "# Listar archivos en carpeta origen\n",
        "blobs = bucket.list_blobs(prefix=input_folder_name)\n",
        "\n",
        "# Lista para data\n",
        "parquet_data = []\n",
        "\n",
        "for blob in blobs:\n",
        "    if blob.name.endswith(\".parquet\"):\n",
        "        # Bajar archivo parquet\n",
        "        temp_dir = tempfile.mkdtemp()\n",
        "        local_file_path = os.path.join(temp_dir, os.path.basename(blob.name))\n",
        "        blob.download_to_filename(local_file_path)\n",
        "\n",
        "        # Leer la tabla y agregarla a la lista\n",
        "        parquet_table = pq.read_table(local_file_path)\n",
        "        parquet_data.append(parquet_table.to_pandas())\n",
        "\n",
        "        # Limpiar directorio temporal\n",
        "        os.remove(local_file_path)\n",
        "        os.rmdir(temp_dir)\n",
        "\n",
        "# Armar dataframe\n",
        "df_metadata = pd.concat(parquet_data)"
      ]
    },
    {
      "cell_type": "code",
      "execution_count": 4,
      "id": "40fUG5GHY2EH",
      "metadata": {
        "colab": {
          "base_uri": "https://localhost:8080/"
        },
        "executionInfo": {
          "elapsed": 1263,
          "status": "ok",
          "timestamp": 1694289340774,
          "user": {
            "displayName": "",
            "userId": ""
          },
          "user_tz": 180
        },
        "id": "40fUG5GHY2EH",
        "outputId": "5e5bb04f-432f-4e20-d60a-314ecd825a26"
      },
      "outputs": [
        {
          "name": "stdout",
          "output_type": "stream",
          "text": [
            "<class 'pandas.core.frame.DataFrame'>\n",
            "Int64Index: 3025011 entries, 0 to 275000\n",
            "Data columns (total 15 columns):\n",
            " #   Column            Dtype  \n",
            "---  ------            -----  \n",
            " 0   name              object \n",
            " 1   address           object \n",
            " 2   gmap_id           object \n",
            " 3   description       object \n",
            " 4   latitude          float64\n",
            " 5   longitude         float64\n",
            " 6   category          object \n",
            " 7   avg_rating        float64\n",
            " 8   num_of_reviews    int64  \n",
            " 9   price             object \n",
            " 10  hours             object \n",
            " 11  MISC              object \n",
            " 12  state             object \n",
            " 13  relative_results  object \n",
            " 14  url               object \n",
            "dtypes: float64(3), int64(1), object(11)\n",
            "memory usage: 369.3+ MB\n"
          ]
        }
      ],
      "source": [
        "df_metadata.info()"
      ]
    },
    {
      "cell_type": "markdown",
      "id": "VOHYpB8wcYLb",
      "metadata": {
        "id": "VOHYpB8wcYLb"
      },
      "source": [
        "Liberar referencia"
      ]
    },
    {
      "cell_type": "code",
      "execution_count": 5,
      "id": "4oqxYfXNbJ69",
      "metadata": {
        "executionInfo": {
          "elapsed": 1230,
          "status": "ok",
          "timestamp": 1694289347334,
          "user": {
            "displayName": "",
            "userId": ""
          },
          "user_tz": 180
        },
        "id": "4oqxYfXNbJ69"
      },
      "outputs": [],
      "source": [
        "del parquet_data"
      ]
    },
    {
      "cell_type": "markdown",
      "id": "WV5sxaqBccyN",
      "metadata": {
        "id": "WV5sxaqBccyN"
      },
      "source": [
        "Eliminar columnas"
      ]
    },
    {
      "cell_type": "code",
      "execution_count": 6,
      "id": "EFwQQpo7ZW6J",
      "metadata": {
        "executionInfo": {
          "elapsed": 8317,
          "status": "ok",
          "timestamp": 1694289394296,
          "user": {
            "displayName": "",
            "userId": ""
          },
          "user_tz": 180
        },
        "id": "EFwQQpo7ZW6J"
      },
      "outputs": [],
      "source": [
        "eliminar_metadata = ['MISC','price', 'state', 'hours', 'relative_results', 'url', 'description']\n",
        "\n",
        "df_metadata.drop(columns=eliminar_metadata, inplace=True)\n"
      ]
    },
    {
      "cell_type": "markdown",
      "id": "_P16A-1AZWnN",
      "metadata": {
        "id": "_P16A-1AZWnN"
      },
      "source": [
        "Eliminar duplicados"
      ]
    },
    {
      "cell_type": "code",
      "execution_count": 9,
      "id": "G6wd0fp4hmlS",
      "metadata": {
        "executionInfo": {
          "elapsed": 937,
          "status": "ok",
          "timestamp": 1694289555594,
          "user": {
            "displayName": "",
            "userId": ""
          },
          "user_tz": 180
        },
        "id": "G6wd0fp4hmlS"
      },
      "outputs": [],
      "source": [
        "df_metadata = df_metadata[~df_metadata.duplicated(subset='gmap_id', keep=False)]"
      ]
    },
    {
      "cell_type": "code",
      "execution_count": 10,
      "id": "pn9HA6LIhMN9",
      "metadata": {
        "colab": {
          "base_uri": "https://localhost:8080/"
        },
        "executionInfo": {
          "elapsed": 985,
          "status": "ok",
          "timestamp": 1694289562986,
          "user": {
            "displayName": "",
            "userId": ""
          },
          "user_tz": 180
        },
        "id": "pn9HA6LIhMN9",
        "outputId": "84201f71-5a28-4939-a6a1-ecec2e331dfe"
      },
      "outputs": [
        {
          "name": "stdout",
          "output_type": "stream",
          "text": [
            "<class 'pandas.core.frame.DataFrame'>\n",
            "Int64Index: 2971855 entries, 53146 to 275000\n",
            "Data columns (total 8 columns):\n",
            " #   Column          Dtype  \n",
            "---  ------          -----  \n",
            " 0   name            object \n",
            " 1   address         object \n",
            " 2   gmap_id         object \n",
            " 3   latitude        float64\n",
            " 4   longitude       float64\n",
            " 5   category        object \n",
            " 6   avg_rating      float64\n",
            " 7   num_of_reviews  int64  \n",
            "dtypes: float64(3), int64(1), object(4)\n",
            "memory usage: 204.1+ MB\n"
          ]
        }
      ],
      "source": [
        "df_metadata.info()"
      ]
    },
    {
      "cell_type": "markdown",
      "id": "AB3mSDtHeBqX",
      "metadata": {
        "id": "AB3mSDtHeBqX"
      },
      "source": [
        "Aislar Holiday Inn"
      ]
    },
    {
      "cell_type": "code",
      "execution_count": 11,
      "id": "vjB9GOzCb9VO",
      "metadata": {
        "executionInfo": {
          "elapsed": 5227,
          "status": "ok",
          "timestamp": 1694289593318,
          "user": {
            "displayName": "",
            "userId": ""
          },
          "user_tz": 180
        },
        "id": "vjB9GOzCb9VO"
      },
      "outputs": [],
      "source": [
        "hotel = ['Holiday Inn','holiday inn','Holiday inn', 'HolidayInn']\n",
        "\n",
        "df_holiday = df_metadata[df_metadata['name'].str.contains('|'.join(hotel)) | df_metadata['address'].str.contains('|'.join(hotel))]"
      ]
    },
    {
      "cell_type": "code",
      "execution_count": 12,
      "id": "HPpAv3O2dX1k",
      "metadata": {
        "colab": {
          "base_uri": "https://localhost:8080/"
        },
        "executionInfo": {
          "elapsed": 2,
          "status": "ok",
          "timestamp": 1694289596150,
          "user": {
            "displayName": "",
            "userId": ""
          },
          "user_tz": 180
        },
        "id": "HPpAv3O2dX1k",
        "outputId": "1d0e3b1a-96b4-4ec0-eaf2-df73b7807ebc"
      },
      "outputs": [
        {
          "name": "stdout",
          "output_type": "stream",
          "text": [
            "<class 'pandas.core.frame.DataFrame'>\n",
            "Int64Index: 130 entries, 71118 to 208314\n",
            "Data columns (total 8 columns):\n",
            " #   Column          Non-Null Count  Dtype  \n",
            "---  ------          --------------  -----  \n",
            " 0   name            130 non-null    object \n",
            " 1   address         130 non-null    object \n",
            " 2   gmap_id         130 non-null    object \n",
            " 3   latitude        130 non-null    float64\n",
            " 4   longitude       130 non-null    float64\n",
            " 5   category        129 non-null    object \n",
            " 6   avg_rating      130 non-null    float64\n",
            " 7   num_of_reviews  130 non-null    int64  \n",
            "dtypes: float64(3), int64(1), object(4)\n",
            "memory usage: 9.1+ KB\n"
          ]
        }
      ],
      "source": [
        "df_holiday.info()\n"
      ]
    },
    {
      "cell_type": "markdown",
      "id": "5Hr30JfveFEV",
      "metadata": {
        "id": "5Hr30JfveFEV"
      },
      "source": [
        "Aislar Competencia"
      ]
    },
    {
      "cell_type": "code",
      "execution_count": 13,
      "id": "ymtD4_3KdO1q",
      "metadata": {
        "executionInfo": {
          "elapsed": 7350,
          "status": "ok",
          "timestamp": 1694289613022,
          "user": {
            "displayName": "",
            "userId": ""
          },
          "user_tz": 180
        },
        "id": "ymtD4_3KdO1q"
      },
      "outputs": [],
      "source": [
        "hotels_words = ['best western', 'Hyatt', 'Marriott', 'hilton', 'Wyndham', 'Belmondo', 'accor', 'Radisson', 'Meliá']\n",
        "check_category = ['lodging', 'hotel', 'motel', 'travel agency', 'hostels', 'resort']\n",
        "\n",
        "regex_pattern = '|'.join(hotels_words)\n",
        "regex_category = '|'.join(check_category)\n",
        "\n",
        "def contains_category(categories, check_categories):\n",
        "    if categories is None:\n",
        "        return False\n",
        "    for category in categories:\n",
        "        if isinstance(category, str) and any(category.lower() in check.lower() for check in check_categories):\n",
        "            return True\n",
        "    return False\n",
        "\n",
        "all_hotels_words = df_metadata[df_metadata['name'].str.contains(regex_pattern, case=False, na=False)]\n",
        "df_competidores = all_hotels_words[all_hotels_words['category'].apply(contains_category, check_categories=check_category)]"
      ]
    },
    {
      "cell_type": "code",
      "execution_count": 14,
      "id": "s06Czp1RddwH",
      "metadata": {
        "colab": {
          "base_uri": "https://localhost:8080/"
        },
        "executionInfo": {
          "elapsed": 1024,
          "status": "ok",
          "timestamp": 1694289630870,
          "user": {
            "displayName": "",
            "userId": ""
          },
          "user_tz": 180
        },
        "id": "s06Czp1RddwH",
        "outputId": "8b04b94c-8497-4755-8552-7d356690390f"
      },
      "outputs": [
        {
          "name": "stdout",
          "output_type": "stream",
          "text": [
            "<class 'pandas.core.frame.DataFrame'>\n",
            "Int64Index: 330 entries, 63928 to 272746\n",
            "Data columns (total 8 columns):\n",
            " #   Column          Non-Null Count  Dtype  \n",
            "---  ------          --------------  -----  \n",
            " 0   name            330 non-null    object \n",
            " 1   address         330 non-null    object \n",
            " 2   gmap_id         330 non-null    object \n",
            " 3   latitude        330 non-null    float64\n",
            " 4   longitude       330 non-null    float64\n",
            " 5   category        330 non-null    object \n",
            " 6   avg_rating      330 non-null    float64\n",
            " 7   num_of_reviews  330 non-null    int64  \n",
            "dtypes: float64(3), int64(1), object(4)\n",
            "memory usage: 23.2+ KB\n"
          ]
        }
      ],
      "source": [
        "df_competidores.info()\n"
      ]
    },
    {
      "cell_type": "markdown",
      "id": "8VnPBfISeuhP",
      "metadata": {
        "id": "8VnPBfISeuhP"
      },
      "source": [
        "Unir"
      ]
    },
    {
      "cell_type": "code",
      "execution_count": 21,
      "id": "jlWRlFBzeYM5",
      "metadata": {
        "executionInfo": {
          "elapsed": 413,
          "status": "ok",
          "timestamp": 1694290230711,
          "user": {
            "displayName": "",
            "userId": ""
          },
          "user_tz": 180
        },
        "id": "jlWRlFBzeYM5"
      },
      "outputs": [],
      "source": [
        "df_metadata = pd.concat([df_holiday, df_competidores], axis=0)"
      ]
    },
    {
      "cell_type": "markdown",
      "id": "QWfv2BeCe8tX",
      "metadata": {
        "id": "QWfv2BeCe8tX"
      },
      "source": [
        "Obtener Gmap Ids para pasos posteriores"
      ]
    },
    {
      "cell_type": "code",
      "execution_count": 22,
      "id": "KhfjSw2ye3Jk",
      "metadata": {
        "executionInfo": {
          "elapsed": 2,
          "status": "ok",
          "timestamp": 1694290236176,
          "user": {
            "displayName": "",
            "userId": ""
          },
          "user_tz": 180
        },
        "id": "KhfjSw2ye3Jk"
      },
      "outputs": [],
      "source": [
        "gmap_ids = df_metadata['gmap_id'].tolist()"
      ]
    },
    {
      "cell_type": "markdown",
      "id": "a2uqe8N4fWFT",
      "metadata": {
        "id": "a2uqe8N4fWFT"
      },
      "source": [
        "Listar ids Holiday Inn"
      ]
    },
    {
      "cell_type": "code",
      "execution_count": 23,
      "id": "yRrar7H4fbXo",
      "metadata": {
        "executionInfo": {
          "elapsed": 2,
          "status": "ok",
          "timestamp": 1694290239232,
          "user": {
            "displayName": "",
            "userId": ""
          },
          "user_tz": 180
        },
        "id": "yRrar7H4fbXo"
      },
      "outputs": [],
      "source": [
        "holiday_business_ids = df_holiday['gmap_id'].tolist()"
      ]
    },
    {
      "cell_type": "code",
      "execution_count": 24,
      "id": "WDoOZBzlkWuZ",
      "metadata": {
        "colab": {
          "base_uri": "https://localhost:8080/"
        },
        "executionInfo": {
          "elapsed": 4,
          "status": "ok",
          "timestamp": 1694290258172,
          "user": {
            "displayName": "",
            "userId": ""
          },
          "user_tz": 180
        },
        "id": "WDoOZBzlkWuZ",
        "outputId": "fd0f4dd9-8587-41f0-fb9e-800aa06750b4"
      },
      "outputs": [
        {
          "name": "stdout",
          "output_type": "stream",
          "text": [
            "<class 'pandas.core.frame.DataFrame'>\n",
            "Int64Index: 460 entries, 71118 to 272746\n",
            "Data columns (total 8 columns):\n",
            " #   Column          Non-Null Count  Dtype  \n",
            "---  ------          --------------  -----  \n",
            " 0   name            460 non-null    object \n",
            " 1   address         460 non-null    object \n",
            " 2   gmap_id         460 non-null    object \n",
            " 3   latitude        460 non-null    float64\n",
            " 4   longitude       460 non-null    float64\n",
            " 5   category        459 non-null    object \n",
            " 6   avg_rating      460 non-null    float64\n",
            " 7   num_of_reviews  460 non-null    int64  \n",
            "dtypes: float64(3), int64(1), object(4)\n",
            "memory usage: 32.3+ KB\n"
          ]
        }
      ],
      "source": [
        "df_metadata.info()"
      ]
    },
    {
      "cell_type": "markdown",
      "id": "vRPwM7LqgO4C",
      "metadata": {
        "id": "vRPwM7LqgO4C"
      },
      "source": [
        "Agregar columnas en base a address"
      ]
    },
    {
      "cell_type": "code",
      "execution_count": 25,
      "id": "BhWfMr1OgPQB",
      "metadata": {
        "colab": {
          "base_uri": "https://localhost:8080/"
        },
        "executionInfo": {
          "elapsed": 872,
          "status": "ok",
          "timestamp": 1694290606231,
          "user": {
            "displayName": "",
            "userId": ""
          },
          "user_tz": 180
        },
        "id": "BhWfMr1OgPQB",
        "outputId": "e21ac25b-8c2b-4314-f34c-60a71435bd72"
      },
      "outputs": [
        {
          "name": "stderr",
          "output_type": "stream",
          "text": [
            "<ipython-input-25-1f62c369e273>:6: FutureWarning: In a future version of pandas all arguments of StringMethods.split except for the argument 'pat' will be keyword-only.\n",
            "  result[['location', 'state_zip']] = result[address_column_name].str.split(', ', 1, expand=True)\n",
            "<ipython-input-25-1f62c369e273>:9: FutureWarning: In a future version of pandas all arguments of StringMethods.rsplit except for the argument 'pat' will be keyword-only.\n",
            "  result[['city', 'state_zip']] = result['state_zip'].str.rsplit(', ', 1, expand=True)\n",
            "<ipython-input-25-1f62c369e273>:12: FutureWarning: In a future version of pandas all arguments of StringMethods.split except for the argument 'pat' will be keyword-only.\n",
            "  result[['state', 'postal_code']] = result['state_zip'].str.split(' ', 1, expand=True)\n"
          ]
        }
      ],
      "source": [
        "def extract_city_state_zip(dataframe, address_column_name):\n",
        "    # Hacer una copia del DataFrame original para conservar todas las columnas\n",
        "    result = dataframe.copy()\n",
        "\n",
        "    # Dividir la columna de direcciones en varias columnas usando la coma como separador\n",
        "    result[['location', 'state_zip']] = result[address_column_name].str.split(', ', 1, expand=True)\n",
        "\n",
        "    # Dividir la columna \"state_zip\" en las columnas \"city\" y \"state_zip\" usando la coma como separador\n",
        "    result[['city', 'state_zip']] = result['state_zip'].str.rsplit(', ', 1, expand=True)\n",
        "\n",
        "    # Separar la columna \"state_zip\" en las columnas \"state\" y \"postal_code\" usando el espacio como separador\n",
        "    result[['state', 'postal_code']] = result['state_zip'].str.split(' ', 1, expand=True)\n",
        "\n",
        "    # Eliminar las columnas intermedias si es necesario\n",
        "    result.drop(['location', 'state_zip'], axis=1, inplace=True)\n",
        "\n",
        "    # Conservar solo el nombre de la ciudad después de la última coma\n",
        "    result['city'] = result['city'].str.split(',').str[-1].str.strip()\n",
        "\n",
        "    return result\n",
        "\n",
        "# Llamar a la función para extraer la información\n",
        "df_metadata = extract_city_state_zip(df_metadata, 'address')\n",
        "\n"
      ]
    },
    {
      "cell_type": "code",
      "execution_count": 26,
      "id": "82u0QmwOlwPl",
      "metadata": {
        "colab": {
          "base_uri": "https://localhost:8080/"
        },
        "executionInfo": {
          "elapsed": 916,
          "status": "ok",
          "timestamp": 1694290626722,
          "user": {
            "displayName": "",
            "userId": ""
          },
          "user_tz": 180
        },
        "id": "82u0QmwOlwPl",
        "outputId": "0192db8c-34fb-4880-be11-3beda03b434a"
      },
      "outputs": [
        {
          "name": "stdout",
          "output_type": "stream",
          "text": [
            "<class 'pandas.core.frame.DataFrame'>\n",
            "Int64Index: 460 entries, 71118 to 272746\n",
            "Data columns (total 11 columns):\n",
            " #   Column          Non-Null Count  Dtype  \n",
            "---  ------          --------------  -----  \n",
            " 0   name            460 non-null    object \n",
            " 1   address         460 non-null    object \n",
            " 2   gmap_id         460 non-null    object \n",
            " 3   latitude        460 non-null    float64\n",
            " 4   longitude       460 non-null    float64\n",
            " 5   category        459 non-null    object \n",
            " 6   avg_rating      460 non-null    float64\n",
            " 7   num_of_reviews  460 non-null    int64  \n",
            " 8   city            460 non-null    object \n",
            " 9   state           460 non-null    object \n",
            " 10  postal_code     460 non-null    object \n",
            "dtypes: float64(3), int64(1), object(7)\n",
            "memory usage: 43.1+ KB\n"
          ]
        }
      ],
      "source": [
        "df_metadata.info()"
      ]
    },
    {
      "cell_type": "code",
      "execution_count": 27,
      "id": "nJPBqcnhmKNJ",
      "metadata": {
        "executionInfo": {
          "elapsed": 2,
          "status": "ok",
          "timestamp": 1694290771739,
          "user": {
            "displayName": "",
            "userId": ""
          },
          "user_tz": 180
        },
        "id": "nJPBqcnhmKNJ"
      },
      "outputs": [],
      "source": [
        "df_metadata.reset_index(inplace=True)"
      ]
    },
    {
      "cell_type": "code",
      "execution_count": 28,
      "id": "dKqZOM7Fls7w",
      "metadata": {
        "executionInfo": {
          "elapsed": 953,
          "status": "ok",
          "timestamp": 1694290784790,
          "user": {
            "displayName": "",
            "userId": ""
          },
          "user_tz": 180
        },
        "id": "dKqZOM7Fls7w"
      },
      "outputs": [],
      "source": [
        "# Modificar las columnas para los índices especificados\n",
        "indices_modificar = {\n",
        "    97: {'city': 'Medford', 'state': 'OR', 'postal_code': '97501'},\n",
        "    105: {'city': 'Homewood', 'state': 'AL', 'postal_code': '35209'},\n",
        "    117: {'city': 'Denver', 'state': 'CO', 'postal_code': '80249'},\n",
        "    156: {'city': 'Waimea', 'state': 'Hawaii', 'postal_code': '96743'},\n",
        "    367: {'city': 'Mansfield Center', 'state': 'CT', 'postal_code': '06250'},\n",
        "    374: {'city': 'Bloomington', 'state': 'MN', 'postal_code': '55425'},\n",
        "    377: {'city': 'Terrell', 'state': 'TX', 'postal_code': '75160'},\n",
        "    386: {'city': 'San Antonio', 'state': 'TX', 'postal_code': '78232'},\n",
        "    387: {'city': 'Arlington', 'state': 'VA', 'postal_code': '22202'},\n",
        "    388: {'city': 'Los Angeles', 'state': 'CA', 'postal_code': '90045'},\n",
        "    403: {'city': 'Claremore', 'state': 'OK', 'postal_code': '74017'},\n",
        "    405: {'city': 'West Sacramento', 'state': 'CA', 'postal_code': '95605'},\n",
        "    411: {'city': 'Colorado Springs', 'state': 'CO', 'postal_code': '80904'},\n",
        "    412: {'city': 'San Diego', 'state': 'CA', 'postal_code': '92129'},\n",
        "    423: {'city': 'Jacksonville', 'state': 'FL', 'postal_code': '32256'},\n",
        "    425: {'city': 'Tulsa', 'state': 'OK', 'postal_code': '74145'},\n",
        "    426: {'city': 'East Lansing', 'state': 'MI', 'postal_code': '48823'}\n",
        "}\n",
        "\n",
        "for indice, modificaciones in indices_modificar.items():\n",
        "    df_metadata.at[indice, 'city'] = modificaciones['city']\n",
        "    df_metadata.at[indice, 'state'] = modificaciones['state']\n",
        "    df_metadata.at[indice, 'postal_code'] = modificaciones['postal_code']"
      ]
    },
    {
      "cell_type": "code",
      "execution_count": 30,
      "id": "aJwBdiJcmb8S",
      "metadata": {
        "colab": {
          "base_uri": "https://localhost:8080/"
        },
        "executionInfo": {
          "elapsed": 3,
          "status": "ok",
          "timestamp": 1694291052626,
          "user": {
            "displayName": "",
            "userId": ""
          },
          "user_tz": 180
        },
        "id": "aJwBdiJcmb8S",
        "outputId": "d111dd76-9316-492e-9f18-a03ca532e169"
      },
      "outputs": [
        {
          "name": "stdout",
          "output_type": "stream",
          "text": [
            "<class 'pandas.core.frame.DataFrame'>\n",
            "RangeIndex: 460 entries, 0 to 459\n",
            "Data columns (total 12 columns):\n",
            " #   Column          Non-Null Count  Dtype  \n",
            "---  ------          --------------  -----  \n",
            " 0   index           460 non-null    int64  \n",
            " 1   name            460 non-null    object \n",
            " 2   address         460 non-null    object \n",
            " 3   gmap_id         460 non-null    object \n",
            " 4   latitude        460 non-null    float64\n",
            " 5   longitude       460 non-null    float64\n",
            " 6   category        459 non-null    object \n",
            " 7   avg_rating      460 non-null    float64\n",
            " 8   num_of_reviews  460 non-null    int64  \n",
            " 9   city            460 non-null    object \n",
            " 10  state           460 non-null    object \n",
            " 11  postal_code     460 non-null    object \n",
            "dtypes: float64(3), int64(2), object(7)\n",
            "memory usage: 43.2+ KB\n"
          ]
        }
      ],
      "source": [
        "df_metadata.info()\n"
      ]
    },
    {
      "cell_type": "markdown",
      "id": "YAb9pjvYfxFN",
      "metadata": {
        "id": "YAb9pjvYfxFN"
      },
      "source": [
        "Creamos campo is_holiday_inn para identificar los hoteles Holiday Inn"
      ]
    },
    {
      "cell_type": "code",
      "execution_count": 31,
      "id": "hagRIW2Rfx6X",
      "metadata": {
        "executionInfo": {
          "elapsed": 2,
          "status": "ok",
          "timestamp": 1694291057269,
          "user": {
            "displayName": "",
            "userId": ""
          },
          "user_tz": 180
        },
        "id": "hagRIW2Rfx6X"
      },
      "outputs": [],
      "source": [
        "df_metadata['is_holiday_inn'] = df_metadata['gmap_id'].isin(holiday_business_ids).astype(int)"
      ]
    },
    {
      "cell_type": "code",
      "execution_count": 37,
      "id": "OBTmgbYHiNFZ",
      "metadata": {
        "colab": {
          "base_uri": "https://localhost:8080/"
        },
        "executionInfo": {
          "elapsed": 451,
          "status": "ok",
          "timestamp": 1694291278382,
          "user": {
            "displayName": "",
            "userId": ""
          },
          "user_tz": 180
        },
        "id": "OBTmgbYHiNFZ",
        "outputId": "f2393704-89a6-4ec9-9a5d-18e9e7959ddf"
      },
      "outputs": [
        {
          "name": "stdout",
          "output_type": "stream",
          "text": [
            "<class 'pandas.core.frame.DataFrame'>\n",
            "RangeIndex: 460 entries, 0 to 459\n",
            "Data columns (total 13 columns):\n",
            " #   Column          Non-Null Count  Dtype  \n",
            "---  ------          --------------  -----  \n",
            " 0   index           460 non-null    int64  \n",
            " 1   name            460 non-null    object \n",
            " 2   address         460 non-null    object \n",
            " 3   gmap_id         460 non-null    object \n",
            " 4   latitude        460 non-null    float64\n",
            " 5   longitude       460 non-null    float64\n",
            " 6   category        459 non-null    object \n",
            " 7   avg_rating      460 non-null    float64\n",
            " 8   num_of_reviews  460 non-null    int64  \n",
            " 9   city            460 non-null    object \n",
            " 10  state           460 non-null    object \n",
            " 11  postal_code     460 non-null    object \n",
            " 12  is_holiday_inn  460 non-null    int64  \n",
            "dtypes: float64(3), int64(3), object(7)\n",
            "memory usage: 46.8+ KB\n"
          ]
        }
      ],
      "source": [
        "df_metadata.info()\n"
      ]
    },
    {
      "cell_type": "code",
      "execution_count": 40,
      "id": "3xFDeL_Pjc8w",
      "metadata": {
        "executionInfo": {
          "elapsed": 2,
          "status": "ok",
          "timestamp": 1694291318612,
          "user": {
            "displayName": "",
            "userId": ""
          },
          "user_tz": 180
        },
        "id": "3xFDeL_Pjc8w"
      },
      "outputs": [],
      "source": [
        "new_column_order = [\n",
        "    'gmap_id',\n",
        "    'name',\n",
        "    'address',\n",
        "    'city',\n",
        "    'state',\n",
        "    'postal_code',\n",
        "    'latitude',\n",
        "    'longitude',\n",
        "    'category',\n",
        "    'avg_rating',\n",
        "    'is_holiday_inn'\n",
        "    ]\n",
        "\n",
        "df_metadata = df_metadata[new_column_order]\n"
      ]
    },
    {
      "cell_type": "code",
      "execution_count": 42,
      "id": "hV-x-gnIoeIy",
      "metadata": {
        "colab": {
          "base_uri": "https://localhost:8080/"
        },
        "executionInfo": {
          "elapsed": 2,
          "status": "ok",
          "timestamp": 1694291373178,
          "user": {
            "displayName": "",
            "userId": ""
          },
          "user_tz": 180
        },
        "id": "hV-x-gnIoeIy",
        "outputId": "7bd8f55c-8d1d-4f07-9a74-7a3d88464e20"
      },
      "outputs": [
        {
          "name": "stdout",
          "output_type": "stream",
          "text": [
            "<class 'pandas.core.frame.DataFrame'>\n",
            "RangeIndex: 460 entries, 0 to 459\n",
            "Data columns (total 11 columns):\n",
            " #   Column          Non-Null Count  Dtype  \n",
            "---  ------          --------------  -----  \n",
            " 0   gmap_id         460 non-null    object \n",
            " 1   name            460 non-null    object \n",
            " 2   address         460 non-null    object \n",
            " 3   city            460 non-null    object \n",
            " 4   state           460 non-null    object \n",
            " 5   postal_code     460 non-null    object \n",
            " 6   latitude        460 non-null    float64\n",
            " 7   longitude       460 non-null    float64\n",
            " 8   category        459 non-null    object \n",
            " 9   avg_rating      460 non-null    float64\n",
            " 10  is_holiday_inn  460 non-null    int64  \n",
            "dtypes: float64(3), int64(1), object(7)\n",
            "memory usage: 39.7+ KB\n"
          ]
        }
      ],
      "source": [
        "df_metadata.info()"
      ]
    },
    {
      "cell_type": "code",
      "execution_count": 43,
      "id": "aH_9j0tAnnnY",
      "metadata": {
        "executionInfo": {
          "elapsed": 1,
          "status": "ok",
          "timestamp": 1694291534243,
          "user": {
            "displayName": "",
            "userId": ""
          },
          "user_tz": 180
        },
        "id": "aH_9j0tAnnnY"
      },
      "outputs": [],
      "source": [
        "df_metadata.reset_index(drop=True, inplace=True)\n"
      ]
    },
    {
      "cell_type": "code",
      "execution_count": 44,
      "id": "o3AQnpl6pFlc",
      "metadata": {
        "colab": {
          "base_uri": "https://localhost:8080/",
          "height": 211
        },
        "executionInfo": {
          "elapsed": 1359,
          "status": "error",
          "timestamp": 1694291537811,
          "user": {
            "displayName": "",
            "userId": ""
          },
          "user_tz": 180
        },
        "id": "o3AQnpl6pFlc",
        "outputId": "beb7511e-71f3-49db-ef0b-6350eecc43e0"
      },
      "outputs": [
        {
          "ename": "FileNotFoundError",
          "evalue": "ignored",
          "output_type": "error",
          "traceback": [
            "\u001b[0;31m---------------------------------------------------------------------------\u001b[0m",
            "\u001b[0;31mFileNotFoundError\u001b[0m                         Traceback (most recent call last)",
            "\u001b[0;32m<ipython-input-44-cdc2ef347943>\u001b[0m in \u001b[0;36m<cell line: 10>\u001b[0;34m()\u001b[0m\n\u001b[1;32m      8\u001b[0m \u001b[0;31m# Limpieza del directorio temporal\u001b[0m\u001b[0;34m\u001b[0m\u001b[0;34m\u001b[0m\u001b[0m\n\u001b[1;32m      9\u001b[0m \u001b[0mos\u001b[0m\u001b[0;34m.\u001b[0m\u001b[0mremove\u001b[0m\u001b[0;34m(\u001b[0m\u001b[0moutput_file_path\u001b[0m\u001b[0;34m)\u001b[0m\u001b[0;34m\u001b[0m\u001b[0;34m\u001b[0m\u001b[0m\n\u001b[0;32m---> 10\u001b[0;31m \u001b[0mos\u001b[0m\u001b[0;34m.\u001b[0m\u001b[0mrmdir\u001b[0m\u001b[0;34m(\u001b[0m\u001b[0mtemp_dir\u001b[0m\u001b[0;34m)\u001b[0m\u001b[0;34m\u001b[0m\u001b[0;34m\u001b[0m\u001b[0m\n\u001b[0m",
            "\u001b[0;31mFileNotFoundError\u001b[0m: [Errno 2] No such file or directory: '/tmp/tmpkf5z79ko'"
          ]
        }
      ],
      "source": [
        "# Guardar el DataFrame como archivo Parquet\n",
        "table = pa.Table.from_pandas(df_metadata)\n",
        "pq.write_table(table, output_file_path)\n",
        "\n",
        "# Subir el archivo resultante Parquet a la carpeta\n",
        "output_blob.upload_from_filename(output_file_path)\n",
        "\n",
        "# Limpieza del directorio temporal\n",
        "os.remove(output_file_path)\n",
        "os.rmdir(temp_dir)"
      ]
    },
    {
      "cell_type": "code",
      "execution_count": 45,
      "id": "8eT9m_PYsF4K",
      "metadata": {
        "executionInfo": {
          "elapsed": 1137,
          "status": "ok",
          "timestamp": 1694292283473,
          "user": {
            "displayName": "",
            "userId": ""
          },
          "user_tz": 180
        },
        "id": "8eT9m_PYsF4K"
      },
      "outputs": [],
      "source": [
        "del df_metadata"
      ]
    }
  ],
  "metadata": {
    "colab": {
      "provenance": []
    },
    "kernelspec": {
      "display_name": "Python 3 (ipykernel)",
      "language": "python",
      "name": "python3"
    },
    "language_info": {
      "codemirror_mode": {
        "name": "ipython",
        "version": 3
      },
      "file_extension": ".py",
      "mimetype": "text/x-python",
      "name": "python",
      "nbconvert_exporter": "python",
      "pygments_lexer": "ipython3",
      "version": "3.10.4"
    }
  },
  "nbformat": 4,
  "nbformat_minor": 5
}
