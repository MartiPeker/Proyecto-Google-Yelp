{
  "cells": [
    {
      "cell_type": "markdown",
      "id": "ec88d9a3",
      "metadata": {},
      "source": [
        "Ejecutado desde VERTEX AI Notebooks Colab Enterprise"
      ]
    },
    {
      "cell_type": "code",
      "execution_count": 1,
      "id": "WPRo9Arjp5Xx",
      "metadata": {
        "executionInfo": {
          "elapsed": 1836,
          "status": "ok",
          "timestamp": 1694294662195,
          "user": {
            "displayName": "",
            "userId": ""
          },
          "user_tz": 180
        },
        "id": "WPRo9Arjp5Xx"
      },
      "outputs": [],
      "source": [
        "import pandas as pd\n",
        "import pyarrow as pa\n",
        "import pyarrow.parquet as pq\n",
        "import os\n",
        "import tempfile\n",
        "from google.cloud import storage"
      ]
    },
    {
      "cell_type": "markdown",
      "id": "MuOwr3x0qBuj",
      "metadata": {
        "id": "MuOwr3x0qBuj"
      },
      "source": [
        "### Google Reviews"
      ]
    },
    {
      "cell_type": "markdown",
      "id": "MVeFrJuwqFwB",
      "metadata": {
        "id": "MVeFrJuwqFwB"
      },
      "source": [
        "Paths de Entrada y Salida"
      ]
    },
    {
      "cell_type": "code",
      "execution_count": 2,
      "id": "EiVcOg3zqEpr",
      "metadata": {
        "executionInfo": {
          "elapsed": 1659,
          "status": "ok",
          "timestamp": 1694294763576,
          "user": {
            "displayName": "",
            "userId": ""
          },
          "user_tz": 180
        },
        "id": "EiVcOg3zqEpr"
      },
      "outputs": [],
      "source": [
        "bucket_name = \"json-bucket-datos\"\n",
        "input_folder_name = \"Google/reviews-estados-parquet\"\n",
        "output_folder_name = \"Google/ETL\"\n",
        "output_file_name = \"reviews.parquet\"\n",
        "metadata_file_name = \"metadata.parquet\"\n",
        "\n",
        "# Crear cliente de Google Cloud Storage\n",
        "storage_client = storage.Client()\n",
        "bucket = storage_client.get_bucket(bucket_name)\n",
        "\n",
        "# Construir la referencia al archivo de origen en la carpeta especificada\n",
        "read_blob_name = os.path.join(output_folder_name, metadata_file_name)\n",
        "read_input_blob = bucket.blob(read_blob_name)\n",
        "\n",
        "# Crear directorio temporal para trabajar con los archivos\n",
        "temp_dir = tempfile.mkdtemp()\n",
        "\n",
        "# Asignar el archivo de origen al directorio temporal\n",
        "read_input_file_path = os.path.join(temp_dir, metadata_file_name)\n",
        "read_input_blob.download_to_filename(read_input_file_path)\n",
        "\n",
        "# Crear referencia al archivo de salida de Parquet\n",
        "output_blob_name = os.path.join(output_folder_name, output_file_name)\n",
        "output_blob = bucket.blob(output_blob_name)\n",
        "\n",
        "# Vamos a guardar los datos transformados en un nuevo archivo de Parquet\n",
        "output_file_path = os.path.join(temp_dir, output_file_name)"
      ]
    },
    {
      "cell_type": "markdown",
      "id": "uYQ4f_1YwCaV",
      "metadata": {
        "id": "uYQ4f_1YwCaV"
      },
      "source": [
        "Obtenemos ids de archivo metadata"
      ]
    },
    {
      "cell_type": "code",
      "execution_count": 3,
      "id": "EX2XHiirwCvE",
      "metadata": {
        "executionInfo": {
          "elapsed": 1798,
          "status": "ok",
          "timestamp": 1694294770018,
          "user": {
            "displayName": "",
            "userId": ""
          },
          "user_tz": 180
        },
        "id": "EX2XHiirwCvE"
      },
      "outputs": [],
      "source": [
        "df_metadata = pd.read_parquet(read_input_file_path)"
      ]
    },
    {
      "cell_type": "code",
      "execution_count": 4,
      "id": "G6HS2Q6BwHKu",
      "metadata": {
        "executionInfo": {
          "elapsed": 2,
          "status": "ok",
          "timestamp": 1694294775446,
          "user": {
            "displayName": "",
            "userId": ""
          },
          "user_tz": 180
        },
        "id": "G6HS2Q6BwHKu"
      },
      "outputs": [],
      "source": [
        "gmap_ids = df_metadata['gmap_id'].tolist()\n"
      ]
    },
    {
      "cell_type": "code",
      "execution_count": 6,
      "id": "nTOd5-Cm1qIS",
      "metadata": {
        "executionInfo": {
          "elapsed": 1183,
          "status": "ok",
          "timestamp": 1694294828219,
          "user": {
            "displayName": "",
            "userId": ""
          },
          "user_tz": 180
        },
        "id": "nTOd5-Cm1qIS"
      },
      "outputs": [],
      "source": [
        "del df_metadata"
      ]
    },
    {
      "cell_type": "markdown",
      "id": "H0v33bsxt9F1",
      "metadata": {
        "id": "H0v33bsxt9F1"
      },
      "source": [
        "Función para limpiar cada archivo"
      ]
    },
    {
      "cell_type": "code",
      "execution_count": 19,
      "id": "pvHbaKFHt9cZ",
      "metadata": {
        "executionInfo": {
          "elapsed": 2,
          "status": "ok",
          "timestamp": 1694298061645,
          "user": {
            "displayName": "",
            "userId": ""
          },
          "user_tz": 180
        },
        "id": "pvHbaKFHt9cZ"
      },
      "outputs": [],
      "source": [
        "def clean_dataframe(df):\n",
        "    # Filtramos sólo los hoteles de metadata\n",
        "    df = df[df['gmap_id'].isin(gmap_ids)]\n",
        "\n",
        "    # Filtramos Columnas\n",
        "    df = df[['gmap_id', 'user_id', 'time', 'rating', 'text', 'resp']]\n",
        "\n",
        "    # Reseteamos índice\n",
        "    df.reset_index(drop=True, inplace=True)\n",
        "\n",
        "    return df"
      ]
    },
    {
      "cell_type": "markdown",
      "id": "jFP2e5Citzu0",
      "metadata": {
        "id": "jFP2e5Citzu0"
      },
      "source": [
        "Llamar a cada archivo"
      ]
    },
    {
      "cell_type": "code",
      "execution_count": 20,
      "id": "7UA4V5SbqtRL",
      "metadata": {
        "executionInfo": {
          "elapsed": 132983,
          "status": "ok",
          "timestamp": 1694298198631,
          "user": {
            "displayName": "",
            "userId": ""
          },
          "user_tz": 180
        },
        "id": "7UA4V5SbqtRL"
      },
      "outputs": [],
      "source": [
        "# Listar archivos parquet en la carpeta\n",
        "blobs = bucket.list_blobs(prefix=input_folder_name)\n",
        "\n",
        "# Crear lista para almacenar las tablas parquet\n",
        "parquet_data = []\n",
        "\n",
        "for blob in blobs:\n",
        "    if blob.name.endswith(\".parquet\"):\n",
        "        # Bajar archivo parquet\n",
        "        temp_dir = tempfile.mkdtemp()\n",
        "        local_file_path = os.path.join(temp_dir, os.path.basename(blob.name))\n",
        "        blob.download_to_filename(local_file_path)\n",
        "\n",
        "        # Convertir las tablas parquet a pandas y agregar a la lista\n",
        "        df = pd.read_parquet(local_file_path)\n",
        "        df = clean_dataframe(df)\n",
        "        parquet_data.append(df)\n",
        "\n",
        "        # Limpiar directorio temporal\n",
        "        os.remove(local_file_path)\n",
        "        os.rmdir(temp_dir)\n",
        "\n"
      ]
    },
    {
      "cell_type": "code",
      "execution_count": 21,
      "id": "fzLe_i5C4a9s",
      "metadata": {
        "colab": {
          "base_uri": "https://localhost:8080/"
        },
        "executionInfo": {
          "elapsed": 4,
          "status": "ok",
          "timestamp": 1694298203487,
          "user": {
            "displayName": "",
            "userId": ""
          },
          "user_tz": 180
        },
        "id": "fzLe_i5C4a9s",
        "outputId": "1c77bdb2-410c-493a-9b76-41cdcf5484d7"
      },
      "outputs": [
        {
          "data": {
            "text/plain": [
              "25"
            ]
          },
          "execution_count": 21,
          "metadata": {},
          "output_type": "execute_result"
        }
      ],
      "source": [
        "len(parquet_data)"
      ]
    },
    {
      "cell_type": "code",
      "execution_count": 92,
      "id": "ZWhm-RLhB1EE",
      "metadata": {
        "executionInfo": {
          "elapsed": 2,
          "status": "ok",
          "timestamp": 1694301765947,
          "user": {
            "displayName": "",
            "userId": ""
          },
          "user_tz": 180
        },
        "id": "ZWhm-RLhB1EE"
      },
      "outputs": [],
      "source": [
        "# Concatenar los dataframes de pandas\n",
        "df_reviews = pd.concat(parquet_data, ignore_index=True)"
      ]
    },
    {
      "cell_type": "code",
      "execution_count": 93,
      "id": "kLEMudtGCOPU",
      "metadata": {
        "colab": {
          "base_uri": "https://localhost:8080/"
        },
        "executionInfo": {
          "elapsed": 2,
          "status": "ok",
          "timestamp": 1694301771111,
          "user": {
            "displayName": "",
            "userId": ""
          },
          "user_tz": 180
        },
        "id": "kLEMudtGCOPU",
        "outputId": "91b4eb89-6703-4f66-e924-c3804992fb94"
      },
      "outputs": [
        {
          "name": "stdout",
          "output_type": "stream",
          "text": [
            "<class 'pandas.core.frame.DataFrame'>\n",
            "RangeIndex: 6901 entries, 0 to 6900\n",
            "Data columns (total 6 columns):\n",
            " #   Column   Non-Null Count  Dtype \n",
            "---  ------   --------------  ----- \n",
            " 0   gmap_id  6901 non-null   object\n",
            " 1   user_id  6901 non-null   object\n",
            " 2   time     6901 non-null   int64 \n",
            " 3   rating   6901 non-null   int64 \n",
            " 4   text     4781 non-null   object\n",
            " 5   resp     915 non-null    object\n",
            "dtypes: int64(2), object(4)\n",
            "memory usage: 323.6+ KB\n"
          ]
        }
      ],
      "source": [
        "df_reviews.info()"
      ]
    },
    {
      "cell_type": "code",
      "execution_count": 94,
      "id": "3bD0Nwq7Komb",
      "metadata": {
        "executionInfo": {
          "elapsed": 2,
          "status": "ok",
          "timestamp": 1694301778706,
          "user": {
            "displayName": "",
            "userId": ""
          },
          "user_tz": 180
        },
        "id": "3bD0Nwq7Komb"
      },
      "outputs": [],
      "source": [
        "df_reviews['time'] = pd.to_datetime(df_reviews['time'], unit='ms')"
      ]
    },
    {
      "cell_type": "code",
      "execution_count": 95,
      "id": "lk1NLvL_HVVu",
      "metadata": {
        "colab": {
          "base_uri": "https://localhost:8080/"
        },
        "executionInfo": {
          "elapsed": 2,
          "status": "ok",
          "timestamp": 1694301783116,
          "user": {
            "displayName": "",
            "userId": ""
          },
          "user_tz": 180
        },
        "id": "lk1NLvL_HVVu",
        "outputId": "069c640c-8b8c-49de-8c00-f9d55345f5e5"
      },
      "outputs": [
        {
          "name": "stdout",
          "output_type": "stream",
          "text": [
            "<class 'pandas.core.frame.DataFrame'>\n",
            "RangeIndex: 6901 entries, 0 to 6900\n",
            "Data columns (total 6 columns):\n",
            " #   Column   Non-Null Count  Dtype         \n",
            "---  ------   --------------  -----         \n",
            " 0   gmap_id  6901 non-null   object        \n",
            " 1   user_id  6901 non-null   object        \n",
            " 2   time     6901 non-null   datetime64[ns]\n",
            " 3   rating   6901 non-null   int64         \n",
            " 4   text     4781 non-null   object        \n",
            " 5   resp     915 non-null    object        \n",
            "dtypes: datetime64[ns](1), int64(1), object(4)\n",
            "memory usage: 323.6+ KB\n"
          ]
        }
      ],
      "source": [
        "df_reviews.info()"
      ]
    },
    {
      "cell_type": "code",
      "execution_count": 96,
      "id": "L7DsMcVeMLTA",
      "metadata": {
        "executionInfo": {
          "elapsed": 1,
          "status": "ok",
          "timestamp": 1694301788393,
          "user": {
            "displayName": "",
            "userId": ""
          },
          "user_tz": 180
        },
        "id": "L7DsMcVeMLTA"
      },
      "outputs": [],
      "source": [
        "df_reviews = df_reviews[(df_reviews['time'].dt.year >= 2016) & (df_reviews['time'].dt.year <= 2020)]"
      ]
    },
    {
      "cell_type": "code",
      "execution_count": 100,
      "id": "AL4eNrG5IhWA",
      "metadata": {
        "colab": {
          "base_uri": "https://localhost:8080/"
        },
        "executionInfo": {
          "elapsed": 3,
          "status": "ok",
          "timestamp": 1694301911460,
          "user": {
            "displayName": "",
            "userId": ""
          },
          "user_tz": 180
        },
        "id": "AL4eNrG5IhWA",
        "outputId": "8a0aaf7d-82bb-4333-d8b1-2f14d043c6fb"
      },
      "outputs": [
        {
          "name": "stdout",
          "output_type": "stream",
          "text": [
            "<class 'pandas.core.frame.DataFrame'>\n",
            "Int64Index: 6476 entries, 0 to 6900\n",
            "Data columns (total 6 columns):\n",
            " #   Column   Non-Null Count  Dtype         \n",
            "---  ------   --------------  -----         \n",
            " 0   gmap_id  6476 non-null   object        \n",
            " 1   user_id  6476 non-null   object        \n",
            " 2   time     6476 non-null   datetime64[ns]\n",
            " 3   rating   6476 non-null   int64         \n",
            " 4   text     4458 non-null   object        \n",
            " 5   resp     845 non-null    object        \n",
            "dtypes: datetime64[ns](1), int64(1), object(4)\n",
            "memory usage: 354.2+ KB\n"
          ]
        }
      ],
      "source": [
        "df_reviews.info()\n"
      ]
    },
    {
      "cell_type": "code",
      "execution_count": 99,
      "id": "JvMllsHDQt7s",
      "metadata": {
        "executionInfo": {
          "elapsed": 970,
          "status": "ok",
          "timestamp": 1694301904876,
          "user": {
            "displayName": "",
            "userId": ""
          },
          "user_tz": 180
        },
        "id": "JvMllsHDQt7s"
      },
      "outputs": [],
      "source": [
        "# Funcion para convertir 'time' a timestamp\n",
        "def convert_time(resp):\n",
        "    if resp is not None and 'time' in resp:\n",
        "        resp['time'] = pd.to_datetime(resp['time'], unit='ms')\n",
        "    return resp\n",
        "\n",
        "# aplciar conversion\n",
        "df_reviews['resp'] = df_reviews['resp'].apply(convert_time)"
      ]
    },
    {
      "cell_type": "code",
      "execution_count": 101,
      "id": "Pd8DQFTYMmh8",
      "metadata": {
        "executionInfo": {
          "elapsed": 1211,
          "status": "ok",
          "timestamp": 1694301921676,
          "user": {
            "displayName": "",
            "userId": ""
          },
          "user_tz": 180
        },
        "id": "Pd8DQFTYMmh8"
      },
      "outputs": [],
      "source": [
        "df_reviews.reset_index(drop=True, inplace=True)"
      ]
    },
    {
      "cell_type": "markdown",
      "id": "SbxU1TjM4GH2",
      "metadata": {
        "id": "SbxU1TjM4GH2"
      },
      "source": [
        "Guardar"
      ]
    },
    {
      "cell_type": "code",
      "execution_count": null,
      "id": "3LGkkZo9RSQt",
      "metadata": {
        "id": "3LGkkZo9RSQt"
      },
      "outputs": [],
      "source": [
        "# Guardar el DataFrame como archivo Parquet\n",
        "table = pa.Table.from_pandas(df_reviews)\n",
        "pq.write_table(table, output_file_path)\n",
        "\n",
        "# Subir el archivo resultante Parquet a la carpeta\n",
        "output_blob.upload_from_filename(output_file_path)\n",
        "\n",
        "# Limpieza del directorio temporal\n",
        "os.remove(output_file_path)\n",
        "os.rmdir(temp_dir)"
      ]
    }
  ],
  "metadata": {
    "colab": {
      "provenance": []
    },
    "kernelspec": {
      "display_name": "Python 3 (ipykernel)",
      "language": "python",
      "name": "python3"
    },
    "language_info": {
      "codemirror_mode": {
        "name": "ipython",
        "version": 3
      },
      "file_extension": ".py",
      "mimetype": "text/x-python",
      "name": "python",
      "nbconvert_exporter": "python",
      "pygments_lexer": "ipython3",
      "version": "3.10.4"
    }
  },
  "nbformat": 4,
  "nbformat_minor": 5
}
