{
  "cells": [
    {
      "cell_type": "markdown",
      "id": "97d11c2c",
      "metadata": {},
      "source": [
        "Ejecutado desde VERTEX AI Notebooks Colab Enterprise"
      ]
    },
    {
      "cell_type": "code",
      "execution_count": 2,
      "id": "6Bm_JoKzqJSt",
      "metadata": {
        "executionInfo": {
          "elapsed": 2442,
          "status": "ok",
          "timestamp": 1694227238271,
          "user": {
            "displayName": "",
            "userId": ""
          },
          "user_tz": 180
        },
        "id": "6Bm_JoKzqJSt"
      },
      "outputs": [],
      "source": [
        "import pandas as pd\n",
        "import pyarrow as pa\n",
        "import pyarrow.parquet as pq\n",
        "import json\n",
        "import os\n",
        "import tempfile\n",
        "from google.cloud import storage"
      ]
    },
    {
      "cell_type": "markdown",
      "id": "kz5vK0sJqNd6",
      "metadata": {
        "id": "kz5vK0sJqNd6"
      },
      "source": [
        "Configuramos paths"
      ]
    },
    {
      "cell_type": "code",
      "execution_count": 6,
      "id": "jrLVtzXHqNzj",
      "metadata": {
        "executionInfo": {
          "elapsed": 25172,
          "status": "ok",
          "timestamp": 1694227421117,
          "user": {
            "displayName": "",
            "userId": ""
          },
          "user_tz": 180
        },
        "id": "jrLVtzXHqNzj"
      },
      "outputs": [],
      "source": [
        "bucket_name = \"json-bucket-datos\"\n",
        "input_folder_name = \"Yelp\"\n",
        "output_folder_name = \"Yelp/ETL\"\n",
        "\n",
        "# Crear cliente de Google Cloud Storage\n",
        "storage_client = storage.Client()\n",
        "\n",
        "# Construir la referencia al archivo de origen en la carpeta especificada\n",
        "bucket = storage_client.get_bucket(bucket_name)\n",
        "\n",
        "input_file_name = \"user.parquet\"\n",
        "output_file_name = \"user.parquet\"\n",
        "review_file_name = \"review.parquet\"\n",
        "\n",
        "# Construir la referencia al archivo de origen en la carpeta especificada\n",
        "read_blob_name = os.path.join(output_folder_name, review_file_name)\n",
        "read_input_blob = bucket.blob(read_blob_name)\n",
        "blob_name = os.path.join(input_folder_name, input_file_name)\n",
        "input_blob = bucket.blob(blob_name)\n",
        "\n",
        "# Crear directorio temporal para trabajar con los archivos\n",
        "temp_dir = tempfile.mkdtemp()\n",
        "\n",
        "# Asignar el archivo de origen al directorio temporal\n",
        "input_file_path = os.path.join(temp_dir, input_file_name)\n",
        "input_blob.download_to_filename(input_file_path)\n",
        "# Asignar el archivo de origen al directorio temporal\n",
        "read_input_file_path = os.path.join(temp_dir, review_file_name)\n",
        "read_input_blob.download_to_filename(read_input_file_path)\n",
        "\n",
        "# Crear referencia al archivo de salida de Parquet\n",
        "output_blob_name = os.path.join(output_folder_name, output_file_name)\n",
        "output_blob = bucket.blob(output_blob_name)\n",
        "\n",
        "# Vamos a guardar los datos transformados en un nuevo archivo de Parquet\n",
        "output_file_path = os.path.join(temp_dir, output_file_name)"
      ]
    },
    {
      "cell_type": "markdown",
      "id": "yTCCTI7h26Cn",
      "metadata": {
        "id": "yTCCTI7h26Cn"
      },
      "source": [
        "Leemos el archivos reviews para obtener los ids de los usuarios"
      ]
    },
    {
      "cell_type": "code",
      "execution_count": 7,
      "id": "1_znZ0Fw0WwV",
      "metadata": {
        "executionInfo": {
          "elapsed": 4560,
          "status": "ok",
          "timestamp": 1694227433813,
          "user": {
            "displayName": "",
            "userId": ""
          },
          "user_tz": 180
        },
        "id": "1_znZ0Fw0WwV"
      },
      "outputs": [],
      "source": [
        "df_reviews = pd.read_parquet(read_input_file_path)"
      ]
    },
    {
      "cell_type": "code",
      "execution_count": 8,
      "id": "DImEPyuozWJg",
      "metadata": {
        "executionInfo": {
          "elapsed": 2,
          "status": "ok",
          "timestamp": 1694227455010,
          "user": {
            "displayName": "",
            "userId": ""
          },
          "user_tz": 180
        },
        "id": "DImEPyuozWJg"
      },
      "outputs": [],
      "source": [
        "yelp_users_ids = df_reviews['user_id'].tolist()"
      ]
    },
    {
      "cell_type": "code",
      "execution_count": null,
      "id": "u2-d138N27wg",
      "metadata": {
        "id": "u2-d138N27wg"
      },
      "outputs": [],
      "source": [
        "Abrimos el achivo de usuarios"
      ]
    },
    {
      "cell_type": "code",
      "execution_count": 9,
      "id": "8_zrN4Ry03dm",
      "metadata": {
        "executionInfo": {
          "elapsed": 13027,
          "status": "ok",
          "timestamp": 1694227493351,
          "user": {
            "displayName": "",
            "userId": ""
          },
          "user_tz": 180
        },
        "id": "8_zrN4Ry03dm"
      },
      "outputs": [],
      "source": [
        "df_users = pd.read_parquet(input_file_path)"
      ]
    },
    {
      "cell_type": "code",
      "execution_count": 10,
      "id": "j9yA3p5T1BsV",
      "metadata": {
        "colab": {
          "base_uri": "https://localhost:8080/"
        },
        "executionInfo": {
          "elapsed": 429,
          "status": "ok",
          "timestamp": 1694227519962,
          "user": {
            "displayName": "",
            "userId": ""
          },
          "user_tz": 180
        },
        "id": "j9yA3p5T1BsV",
        "outputId": "8551a0dd-fc9e-4864-8faf-9c44192722ef"
      },
      "outputs": [
        {
          "name": "stdout",
          "output_type": "stream",
          "text": [
            "<class 'pandas.core.frame.DataFrame'>\n",
            "RangeIndex: 2105597 entries, 0 to 2105596\n",
            "Data columns (total 22 columns):\n",
            " #   Column              Dtype  \n",
            "---  ------              -----  \n",
            " 0   user_id             object \n",
            " 1   name                object \n",
            " 2   review_count        int64  \n",
            " 3   yelping_since       object \n",
            " 4   useful              int64  \n",
            " 5   funny               int64  \n",
            " 6   cool                int64  \n",
            " 7   elite               object \n",
            " 8   friends             object \n",
            " 9   fans                int64  \n",
            " 10  average_stars       float64\n",
            " 11  compliment_hot      int64  \n",
            " 12  compliment_more     int64  \n",
            " 13  compliment_profile  int64  \n",
            " 14  compliment_cute     int64  \n",
            " 15  compliment_list     int64  \n",
            " 16  compliment_note     int64  \n",
            " 17  compliment_plain    int64  \n",
            " 18  compliment_cool     int64  \n",
            " 19  compliment_funny    int64  \n",
            " 20  compliment_writer   int64  \n",
            " 21  compliment_photos   int64  \n",
            "dtypes: float64(1), int64(16), object(5)\n",
            "memory usage: 353.4+ MB\n"
          ]
        }
      ],
      "source": [
        "df_users.info()"
      ]
    },
    {
      "cell_type": "markdown",
      "id": "ychEDNga3B5_",
      "metadata": {
        "id": "ychEDNga3B5_"
      },
      "source": [
        "Leemos el archivos reviews para obtener los ids de los usuarios"
      ]
    },
    {
      "cell_type": "code",
      "execution_count": 11,
      "id": "83SWrU9V1LiQ",
      "metadata": {
        "executionInfo": {
          "elapsed": 3,
          "status": "ok",
          "timestamp": 1694227550504,
          "user": {
            "displayName": "",
            "userId": ""
          },
          "user_tz": 180
        },
        "id": "83SWrU9V1LiQ"
      },
      "outputs": [],
      "source": [
        "df_users = df_users[df_users['user_id'].isin(yelp_users_ids)]"
      ]
    },
    {
      "cell_type": "code",
      "execution_count": 12,
      "id": "ysSVspHs1Ox0",
      "metadata": {
        "colab": {
          "base_uri": "https://localhost:8080/"
        },
        "executionInfo": {
          "elapsed": 2,
          "status": "ok",
          "timestamp": 1694227562453,
          "user": {
            "displayName": "",
            "userId": ""
          },
          "user_tz": 180
        },
        "id": "ysSVspHs1Ox0",
        "outputId": "b55150fb-3878-4e44-c71a-335b333607f2"
      },
      "outputs": [
        {
          "name": "stdout",
          "output_type": "stream",
          "text": [
            "<class 'pandas.core.frame.DataFrame'>\n",
            "Int64Index: 28166 entries, 0 to 2105467\n",
            "Data columns (total 22 columns):\n",
            " #   Column              Non-Null Count  Dtype  \n",
            "---  ------              --------------  -----  \n",
            " 0   user_id             28166 non-null  object \n",
            " 1   name                28166 non-null  object \n",
            " 2   review_count        28166 non-null  int64  \n",
            " 3   yelping_since       28166 non-null  object \n",
            " 4   useful              28166 non-null  int64  \n",
            " 5   funny               28166 non-null  int64  \n",
            " 6   cool                28166 non-null  int64  \n",
            " 7   elite               28166 non-null  object \n",
            " 8   friends             28166 non-null  object \n",
            " 9   fans                28166 non-null  int64  \n",
            " 10  average_stars       28166 non-null  float64\n",
            " 11  compliment_hot      28166 non-null  int64  \n",
            " 12  compliment_more     28166 non-null  int64  \n",
            " 13  compliment_profile  28166 non-null  int64  \n",
            " 14  compliment_cute     28166 non-null  int64  \n",
            " 15  compliment_list     28166 non-null  int64  \n",
            " 16  compliment_note     28166 non-null  int64  \n",
            " 17  compliment_plain    28166 non-null  int64  \n",
            " 18  compliment_cool     28166 non-null  int64  \n",
            " 19  compliment_funny    28166 non-null  int64  \n",
            " 20  compliment_writer   28166 non-null  int64  \n",
            " 21  compliment_photos   28166 non-null  int64  \n",
            "dtypes: float64(1), int64(16), object(5)\n",
            "memory usage: 4.9+ MB\n"
          ]
        }
      ],
      "source": [
        "df_users.info()"
      ]
    },
    {
      "cell_type": "markdown",
      "id": "ZXlQDdbH3DwA",
      "metadata": {
        "id": "ZXlQDdbH3DwA"
      },
      "source": [
        "Filtramos Columnas"
      ]
    },
    {
      "cell_type": "code",
      "execution_count": 13,
      "id": "e-vZ30NT1duG",
      "metadata": {
        "executionInfo": {
          "elapsed": 2,
          "status": "ok",
          "timestamp": 1694227623536,
          "user": {
            "displayName": "",
            "userId": ""
          },
          "user_tz": 180
        },
        "id": "e-vZ30NT1duG"
      },
      "outputs": [],
      "source": [
        "df_users = df_users[['user_id', 'review_count', 'friends', 'fans', 'average_stars']]\n"
      ]
    },
    {
      "cell_type": "markdown",
      "id": "9khNWHKt3JYI",
      "metadata": {
        "id": "9khNWHKt3JYI"
      },
      "source": [
        "Reseteamos el Índice"
      ]
    },
    {
      "cell_type": "code",
      "execution_count": 14,
      "id": "7QLzOJa91n_b",
      "metadata": {
        "executionInfo": {
          "elapsed": 2,
          "status": "ok",
          "timestamp": 1694227672509,
          "user": {
            "displayName": "",
            "userId": ""
          },
          "user_tz": 180
        },
        "id": "7QLzOJa91n_b"
      },
      "outputs": [],
      "source": [
        "df_users.reset_index(drop=True, inplace=True)"
      ]
    },
    {
      "cell_type": "markdown",
      "id": "7NstPoSq3Lp-",
      "metadata": {
        "id": "7NstPoSq3Lp-"
      },
      "source": [
        "Guardamos el archivo limpio"
      ]
    },
    {
      "cell_type": "code",
      "execution_count": null,
      "id": "D0zdEAJw2nDi",
      "metadata": {
        "id": "D0zdEAJw2nDi"
      },
      "outputs": [],
      "source": [
        "# Guardar el DataFrame como archivo Parquet\n",
        "table = pa.Table.from_pandas(df_users)\n",
        "pq.write_table(table, output_file_path)\n",
        "\n",
        "# Subir el archivo resultante Parquet a la carpeta\n",
        "output_blob.upload_from_filename(output_file_path)\n",
        "\n",
        "# Limpieza del directorio temporal\n",
        "# Limpieza del directorio temporal\n",
        "os.remove(input_file_path)\n",
        "os.remove(output_file_path)\n",
        "os.rmdir(temp_dir)"
      ]
    }
  ],
  "metadata": {
    "colab": {
      "provenance": []
    },
    "kernelspec": {
      "display_name": "Python 3 (ipykernel)",
      "language": "python",
      "name": "python3"
    },
    "language_info": {
      "codemirror_mode": {
        "name": "ipython",
        "version": 3
      },
      "file_extension": ".py",
      "mimetype": "text/x-python",
      "name": "python",
      "nbconvert_exporter": "python",
      "pygments_lexer": "ipython3",
      "version": "3.10.4"
    }
  },
  "nbformat": 4,
  "nbformat_minor": 5
}
