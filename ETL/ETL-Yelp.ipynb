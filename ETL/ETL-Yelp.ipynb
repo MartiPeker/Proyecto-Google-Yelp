{
  "cells": [
    {
      "cell_type": "markdown",
      "id": "50dd6a07",
      "metadata": {},
      "source": [
        "Ejecutado desde VERTEX AI Notebooks Colab Enterprise"
      ]
    },
    {
      "cell_type": "code",
      "execution_count": 1,
      "id": "0vRGxD5zFjXq",
      "metadata": {
        "executionInfo": {
          "elapsed": 1379,
          "status": "ok",
          "timestamp": 1694229132914,
          "user": {
            "displayName": "",
            "userId": ""
          },
          "user_tz": 180
        },
        "id": "0vRGxD5zFjXq"
      },
      "outputs": [],
      "source": [
        "import pandas as pd\n",
        "import pyarrow as pa\n",
        "import pyarrow.parquet as pq\n",
        "import json\n",
        "import os\n",
        "import tempfile\n",
        "from google.cloud import storage"
      ]
    },
    {
      "cell_type": "markdown",
      "id": "_Qg6VIZwIUSn",
      "metadata": {
        "id": "_Qg6VIZwIUSn"
      },
      "source": [
        "### Business"
      ]
    },
    {
      "cell_type": "markdown",
      "id": "Mih7k1ERHNuD",
      "metadata": {
        "id": "Mih7k1ERHNuD"
      },
      "source": [
        "Configuración de Paths de entrada y salida\n",
        "\n"
      ]
    },
    {
      "cell_type": "code",
      "execution_count": 2,
      "id": "SpqudXhDFg7M",
      "metadata": {
        "executionInfo": {
          "elapsed": 2927,
          "status": "ok",
          "timestamp": 1694229143591,
          "user": {
            "displayName": "",
            "userId": ""
          },
          "user_tz": 180
        },
        "id": "SpqudXhDFg7M"
      },
      "outputs": [],
      "source": [
        "bucket_name = \"json-bucket-datos\"\n",
        "input_folder_name = \"Yelp\"\n",
        "input_file_name = \"business.pkl\"\n",
        "output_folder_name = \"Yelp/ETL\"\n",
        "output_file_name = \"business.parquet\"\n",
        "\n",
        "# Crear cliente de Google Cloud Storage\n",
        "storage_client = storage.Client()\n",
        "\n",
        "# Construir la referencia al archivo de origen en la carpeta especificada\n",
        "bucket = storage_client.get_bucket(bucket_name)\n",
        "blob_name = os.path.join(input_folder_name, input_file_name)\n",
        "input_blob = bucket.blob(blob_name)\n",
        "\n",
        "# Crear directorio temporal para trabajar con los archivos\n",
        "temp_dir = tempfile.mkdtemp()\n",
        "\n",
        "# Asignar el archivo de origen al directorio temporal\n",
        "input_file_path = os.path.join(temp_dir, input_file_name)\n",
        "input_blob.download_to_filename(input_file_path)\n",
        "\n",
        "# Crear referencia al archivo de salida de Parquet en la misma carpeta\n",
        "output_blob_name = os.path.join(output_folder_name, output_file_name)\n",
        "output_blob = bucket.blob(output_blob_name)\n",
        "\n",
        "# Vamos a guardar los datos transformados en un nuevo archivo de Parquet\n",
        "output_file_path = os.path.join(temp_dir, output_file_name)"
      ]
    },
    {
      "cell_type": "code",
      "execution_count": 3,
      "id": "8l8oaUMSFYDq",
      "metadata": {
        "executionInfo": {
          "elapsed": 3413,
          "status": "ok",
          "timestamp": 1694229149463,
          "user": {
            "displayName": "",
            "userId": ""
          },
          "user_tz": 180
        },
        "id": "8l8oaUMSFYDq"
      },
      "outputs": [],
      "source": [
        "# Leer pickle a pandas\n",
        "df = pd.read_pickle(input_file_path)"
      ]
    },
    {
      "cell_type": "code",
      "execution_count": 4,
      "id": "IzAxsyz-I4uc",
      "metadata": {
        "colab": {
          "base_uri": "https://localhost:8080/"
        },
        "executionInfo": {
          "elapsed": 6,
          "status": "ok",
          "timestamp": 1694229149464,
          "user": {
            "displayName": "",
            "userId": ""
          },
          "user_tz": 180
        },
        "id": "IzAxsyz-I4uc",
        "outputId": "fd91d9eb-a760-44c3-8952-2b562a680d84"
      },
      "outputs": [
        {
          "name": "stdout",
          "output_type": "stream",
          "text": [
            "<class 'pandas.core.frame.DataFrame'>\n",
            "Int64Index: 150346 entries, 0 to 150345\n",
            "Data columns (total 28 columns):\n",
            " #   Column        Non-Null Count   Dtype \n",
            "---  ------        --------------   ----- \n",
            " 0   business_id   150346 non-null  object\n",
            " 1   name          150346 non-null  object\n",
            " 2   address       150346 non-null  object\n",
            " 3   city          150346 non-null  object\n",
            " 4   state         150343 non-null  object\n",
            " 5   postal_code   150346 non-null  object\n",
            " 6   latitude      150346 non-null  object\n",
            " 7   longitude     150346 non-null  object\n",
            " 8   stars         150346 non-null  object\n",
            " 9   review_count  150346 non-null  object\n",
            " 10  is_open       150346 non-null  object\n",
            " 11  attributes    136602 non-null  object\n",
            " 12  categories    150243 non-null  object\n",
            " 13  hours         127123 non-null  object\n",
            " 14  business_id   5 non-null       object\n",
            " 15  name          5 non-null       object\n",
            " 16  address       5 non-null       object\n",
            " 17  city          5 non-null       object\n",
            " 18  state         5 non-null       object\n",
            " 19  postal_code   5 non-null       object\n",
            " 20  latitude      5 non-null       object\n",
            " 21  longitude     5 non-null       object\n",
            " 22  stars         5 non-null       object\n",
            " 23  review_count  5 non-null       object\n",
            " 24  is_open       5 non-null       object\n",
            " 25  attributes    5 non-null       object\n",
            " 26  categories    5 non-null       object\n",
            " 27  hours         5 non-null       object\n",
            "dtypes: object(28)\n",
            "memory usage: 33.3+ MB\n"
          ]
        }
      ],
      "source": [
        "df.info()"
      ]
    },
    {
      "cell_type": "code",
      "execution_count": 5,
      "id": "OdfZLqRNI_y8",
      "metadata": {
        "colab": {
          "base_uri": "https://localhost:8080/"
        },
        "executionInfo": {
          "elapsed": 5,
          "status": "ok",
          "timestamp": 1694229149464,
          "user": {
            "displayName": "",
            "userId": ""
          },
          "user_tz": 180
        },
        "id": "OdfZLqRNI_y8",
        "outputId": "48d2b57b-1dab-499a-c041-2167cb5f2c8e"
      },
      "outputs": [
        {
          "name": "stderr",
          "output_type": "stream",
          "text": [
            "<ipython-input-5-f320263e72cd>:5: SettingWithCopyWarning: \n",
            "A value is trying to be set on a copy of a slice from a DataFrame.\n",
            "Try using .loc[row_indexer,col_indexer] = value instead\n",
            "\n",
            "See the caveats in the documentation: https://pandas.pydata.org/pandas-docs/stable/user_guide/indexing.html#returning-a-view-versus-a-copy\n",
            "  df[\"state\"] = df[\"state\"].shift(-3)\n"
          ]
        }
      ],
      "source": [
        "# Eliminar duplicados\n",
        "df = df.loc[:, ~df.columns.duplicated()]\n",
        "\n",
        "# Desplazar la columna hacia arriba\n",
        "df[\"state\"] = df[\"state\"].shift(-3)"
      ]
    },
    {
      "cell_type": "code",
      "execution_count": 7,
      "id": "sV7QWUrbJF1s",
      "metadata": {
        "colab": {
          "base_uri": "https://localhost:8080/"
        },
        "executionInfo": {
          "elapsed": 1037,
          "status": "ok",
          "timestamp": 1694218604815,
          "user": {
            "displayName": "",
            "userId": ""
          },
          "user_tz": 180
        },
        "id": "sV7QWUrbJF1s",
        "outputId": "174719b5-eb52-41b5-8e79-6db984676220"
      },
      "outputs": [
        {
          "name": "stdout",
          "output_type": "stream",
          "text": [
            "<class 'pandas.core.frame.DataFrame'>\n",
            "Int64Index: 150346 entries, 0 to 150345\n",
            "Data columns (total 14 columns):\n",
            " #   Column        Non-Null Count   Dtype \n",
            "---  ------        --------------   ----- \n",
            " 0   business_id   150346 non-null  object\n",
            " 1   name          150346 non-null  object\n",
            " 2   address       150346 non-null  object\n",
            " 3   city          150346 non-null  object\n",
            " 4   state         150343 non-null  object\n",
            " 5   postal_code   150346 non-null  object\n",
            " 6   latitude      150346 non-null  object\n",
            " 7   longitude     150346 non-null  object\n",
            " 8   stars         150346 non-null  object\n",
            " 9   review_count  150346 non-null  object\n",
            " 10  is_open       150346 non-null  object\n",
            " 11  attributes    136602 non-null  object\n",
            " 12  categories    150243 non-null  object\n",
            " 13  hours         127123 non-null  object\n",
            "dtypes: object(14)\n",
            "memory usage: 17.2+ MB\n"
          ]
        }
      ],
      "source": [
        "df.info()"
      ]
    },
    {
      "cell_type": "markdown",
      "id": "x1JBawR0JMTi",
      "metadata": {
        "id": "x1JBawR0JMTi"
      },
      "source": [
        "Filtramos por Hoteles Holiday Inn y eliminamos registros con datos inadecuados (verificados manual en EDA)"
      ]
    },
    {
      "cell_type": "code",
      "execution_count": 6,
      "id": "PJLtslj8JLrb",
      "metadata": {
        "executionInfo": {
          "elapsed": 1,
          "status": "ok",
          "timestamp": 1694229150670,
          "user": {
            "displayName": "",
            "userId": ""
          },
          "user_tz": 180
        },
        "id": "PJLtslj8JLrb"
      },
      "outputs": [],
      "source": [
        "# Filtro que aisla hoteles Holiday Inn\n",
        "filtro = (df['name'].str.contains(r'\\bHoliday Inn'))\n",
        "\n",
        "df_holiday = df.loc[filtro]\n",
        "\n",
        "# Eliminar la primera fila\n",
        "df_holiday = df_holiday.drop(df_holiday.index[0])\n",
        "\n",
        "# Eliminar la última fila\n",
        "df_holiday = df_holiday.drop(df_holiday.index[-1])"
      ]
    },
    {
      "cell_type": "code",
      "execution_count": 7,
      "id": "DYFjlvmcJS58",
      "metadata": {
        "colab": {
          "base_uri": "https://localhost:8080/"
        },
        "executionInfo": {
          "elapsed": 2,
          "status": "ok",
          "timestamp": 1694229151567,
          "user": {
            "displayName": "",
            "userId": ""
          },
          "user_tz": 180
        },
        "id": "DYFjlvmcJS58",
        "outputId": "6d44b5c5-9b7e-4883-f38a-2c3f55802c82"
      },
      "outputs": [
        {
          "name": "stdout",
          "output_type": "stream",
          "text": [
            "<class 'pandas.core.frame.DataFrame'>\n",
            "Int64Index: 144 entries, 4006 to 148306\n",
            "Data columns (total 14 columns):\n",
            " #   Column        Non-Null Count  Dtype \n",
            "---  ------        --------------  ----- \n",
            " 0   business_id   144 non-null    object\n",
            " 1   name          144 non-null    object\n",
            " 2   address       144 non-null    object\n",
            " 3   city          144 non-null    object\n",
            " 4   state         144 non-null    object\n",
            " 5   postal_code   144 non-null    object\n",
            " 6   latitude      144 non-null    object\n",
            " 7   longitude     144 non-null    object\n",
            " 8   stars         144 non-null    object\n",
            " 9   review_count  144 non-null    object\n",
            " 10  is_open       144 non-null    object\n",
            " 11  attributes    141 non-null    object\n",
            " 12  categories    144 non-null    object\n",
            " 13  hours         126 non-null    object\n",
            "dtypes: object(14)\n",
            "memory usage: 16.9+ KB\n"
          ]
        }
      ],
      "source": [
        "df_holiday.info()"
      ]
    },
    {
      "cell_type": "markdown",
      "id": "IaACrjsgJrc2",
      "metadata": {
        "id": "IaACrjsgJrc2"
      },
      "source": [
        "Filtramos sólo hoteles de la competencia"
      ]
    },
    {
      "cell_type": "code",
      "execution_count": 8,
      "id": "6gaW90rOJbhz",
      "metadata": {
        "executionInfo": {
          "elapsed": 1875,
          "status": "ok",
          "timestamp": 1694229155098,
          "user": {
            "displayName": "",
            "userId": ""
          },
          "user_tz": 180
        },
        "id": "6gaW90rOJbhz"
      },
      "outputs": [],
      "source": [
        "# Lista Competidores\n",
        "lista_competidores = [\"best western\", \"hyatt\", \"radisson\", \"marriott\", \"hilton\", \"wyndham\", \"belmond\", \"accor\", \"Meliá\"]\n",
        "\n",
        "# Filtrar el DataFrame con las condiciones\n",
        "df_competidores = df[df['name'].str.lower().str.contains('|'.join(lista_competidores))]"
      ]
    },
    {
      "cell_type": "code",
      "execution_count": 11,
      "id": "NO7qiqX-Jdf1",
      "metadata": {
        "colab": {
          "base_uri": "https://localhost:8080/"
        },
        "executionInfo": {
          "elapsed": 2,
          "status": "ok",
          "timestamp": 1694218620466,
          "user": {
            "displayName": "",
            "userId": ""
          },
          "user_tz": 180
        },
        "id": "NO7qiqX-Jdf1",
        "outputId": "e096c514-0fa5-46ba-a86e-ffac6a11e9a5"
      },
      "outputs": [
        {
          "name": "stdout",
          "output_type": "stream",
          "text": [
            "<class 'pandas.core.frame.DataFrame'>\n",
            "Int64Index: 757 entries, 482 to 150331\n",
            "Data columns (total 14 columns):\n",
            " #   Column        Non-Null Count  Dtype \n",
            "---  ------        --------------  ----- \n",
            " 0   business_id   757 non-null    object\n",
            " 1   name          757 non-null    object\n",
            " 2   address       757 non-null    object\n",
            " 3   city          757 non-null    object\n",
            " 4   state         757 non-null    object\n",
            " 5   postal_code   757 non-null    object\n",
            " 6   latitude      757 non-null    object\n",
            " 7   longitude     757 non-null    object\n",
            " 8   stars         757 non-null    object\n",
            " 9   review_count  757 non-null    object\n",
            " 10  is_open       757 non-null    object\n",
            " 11  attributes    707 non-null    object\n",
            " 12  categories    757 non-null    object\n",
            " 13  hours         606 non-null    object\n",
            "dtypes: object(14)\n",
            "memory usage: 88.7+ KB\n"
          ]
        }
      ],
      "source": [
        "df_competidores.info()"
      ]
    },
    {
      "cell_type": "markdown",
      "id": "a4QgCJclJmLF",
      "metadata": {
        "id": "a4QgCJclJmLF"
      },
      "source": [
        "Generamos un dataframe que originará un archivo unificado para tabla de BigQuery\n"
      ]
    },
    {
      "cell_type": "code",
      "execution_count": 9,
      "id": "HwLJEWmjJivR",
      "metadata": {
        "executionInfo": {
          "elapsed": 1,
          "status": "ok",
          "timestamp": 1694229160094,
          "user": {
            "displayName": "",
            "userId": ""
          },
          "user_tz": 180
        },
        "id": "HwLJEWmjJivR"
      },
      "outputs": [],
      "source": [
        "df_business = pd.concat([df_holiday, df_competidores], axis=0)"
      ]
    },
    {
      "cell_type": "markdown",
      "id": "tvfTTHz2KPA7",
      "metadata": {
        "id": "tvfTTHz2KPA7"
      },
      "source": [
        "Eliminamos columnas que no se utilizarán"
      ]
    },
    {
      "cell_type": "code",
      "execution_count": 10,
      "id": "q3GyGFCRKRi9",
      "metadata": {
        "executionInfo": {
          "elapsed": 1,
          "status": "ok",
          "timestamp": 1694229161868,
          "user": {
            "displayName": "",
            "userId": ""
          },
          "user_tz": 180
        },
        "id": "q3GyGFCRKRi9"
      },
      "outputs": [],
      "source": [
        "df_business.drop(columns=['categories', 'attributes', 'hours'], inplace=True)"
      ]
    },
    {
      "cell_type": "code",
      "execution_count": 11,
      "id": "PCwMf5zBKTXu",
      "metadata": {
        "executionInfo": {
          "elapsed": 2,
          "status": "ok",
          "timestamp": 1694229163810,
          "user": {
            "displayName": "",
            "userId": ""
          },
          "user_tz": 180
        },
        "id": "PCwMf5zBKTXu"
      },
      "outputs": [],
      "source": [
        "df_business = df_business.reset_index(drop=True)"
      ]
    },
    {
      "cell_type": "code",
      "execution_count": 15,
      "id": "OKBveWfeKaou",
      "metadata": {
        "colab": {
          "base_uri": "https://localhost:8080/"
        },
        "executionInfo": {
          "elapsed": 2,
          "status": "ok",
          "timestamp": 1694218629284,
          "user": {
            "displayName": "",
            "userId": ""
          },
          "user_tz": 180
        },
        "id": "OKBveWfeKaou",
        "outputId": "6a13ed6b-5de0-4082-a50f-701c7fa64d32"
      },
      "outputs": [
        {
          "name": "stdout",
          "output_type": "stream",
          "text": [
            "<class 'pandas.core.frame.DataFrame'>\n",
            "RangeIndex: 901 entries, 0 to 900\n",
            "Data columns (total 11 columns):\n",
            " #   Column        Non-Null Count  Dtype \n",
            "---  ------        --------------  ----- \n",
            " 0   business_id   901 non-null    object\n",
            " 1   name          901 non-null    object\n",
            " 2   address       901 non-null    object\n",
            " 3   city          901 non-null    object\n",
            " 4   state         901 non-null    object\n",
            " 5   postal_code   901 non-null    object\n",
            " 6   latitude      901 non-null    object\n",
            " 7   longitude     901 non-null    object\n",
            " 8   stars         901 non-null    object\n",
            " 9   review_count  901 non-null    object\n",
            " 10  is_open       901 non-null    object\n",
            "dtypes: object(11)\n",
            "memory usage: 77.6+ KB\n"
          ]
        }
      ],
      "source": [
        "df_business.info()"
      ]
    },
    {
      "cell_type": "markdown",
      "id": "ws1ZUQhaKf0z",
      "metadata": {
        "id": "ws1ZUQhaKf0z"
      },
      "source": [
        "Listamos business id generales para uso en pasos siguientes"
      ]
    },
    {
      "cell_type": "code",
      "execution_count": 12,
      "id": "ABcGxSTfKhfF",
      "metadata": {
        "executionInfo": {
          "elapsed": 1063,
          "status": "ok",
          "timestamp": 1694229168906,
          "user": {
            "displayName": "",
            "userId": ""
          },
          "user_tz": 180
        },
        "id": "ABcGxSTfKhfF"
      },
      "outputs": [],
      "source": [
        "yelp_business_ids = df_business['business_id'].tolist()"
      ]
    },
    {
      "cell_type": "markdown",
      "id": "3y1xUcbcKkd5",
      "metadata": {
        "id": "3y1xUcbcKkd5"
      },
      "source": [
        "Listamos business id de hoteles Holiday Inn"
      ]
    },
    {
      "cell_type": "code",
      "execution_count": 11,
      "id": "uLu1ZGMVKjzk",
      "metadata": {
        "executionInfo": {
          "elapsed": 1,
          "status": "ok",
          "timestamp": 1694223289505,
          "user": {
            "displayName": "",
            "userId": ""
          },
          "user_tz": 180
        },
        "id": "uLu1ZGMVKjzk"
      },
      "outputs": [],
      "source": [
        "holiday_business_ids = df_holiday['business_id'].tolist()"
      ]
    },
    {
      "cell_type": "markdown",
      "id": "UI8u0mhiKpMi",
      "metadata": {
        "id": "UI8u0mhiKpMi"
      },
      "source": [
        "Listamos business id de hoteles de competidores"
      ]
    },
    {
      "cell_type": "code",
      "execution_count": 12,
      "id": "aPiGHXxPKpg9",
      "metadata": {
        "executionInfo": {
          "elapsed": 2,
          "status": "ok",
          "timestamp": 1694223290642,
          "user": {
            "displayName": "",
            "userId": ""
          },
          "user_tz": 180
        },
        "id": "aPiGHXxPKpg9"
      },
      "outputs": [],
      "source": [
        "other_business_ids = df_competidores['business_id'].tolist()"
      ]
    },
    {
      "cell_type": "markdown",
      "id": "9sEGI7SyKwrQ",
      "metadata": {
        "id": "9sEGI7SyKwrQ"
      },
      "source": [
        "Creamos campo is_holiday_inn para identificar los hoteles Holiday Inn"
      ]
    },
    {
      "cell_type": "code",
      "execution_count": 19,
      "id": "fTPAcizJK0iP",
      "metadata": {
        "executionInfo": {
          "elapsed": 1,
          "status": "ok",
          "timestamp": 1694218638273,
          "user": {
            "displayName": "",
            "userId": ""
          },
          "user_tz": 180
        },
        "id": "fTPAcizJK0iP"
      },
      "outputs": [],
      "source": [
        "df_business['is_holiday_inn'] = df_business['business_id'].isin(holiday_business_ids).astype(int)"
      ]
    },
    {
      "cell_type": "code",
      "execution_count": 20,
      "id": "DwrdXcGmK2vs",
      "metadata": {
        "colab": {
          "base_uri": "https://localhost:8080/"
        },
        "executionInfo": {
          "elapsed": 2,
          "status": "ok",
          "timestamp": 1694218639509,
          "user": {
            "displayName": "",
            "userId": ""
          },
          "user_tz": 180
        },
        "id": "DwrdXcGmK2vs",
        "outputId": "a736a734-5784-48e2-9fba-170cb1c41f23"
      },
      "outputs": [
        {
          "name": "stdout",
          "output_type": "stream",
          "text": [
            "<class 'pandas.core.frame.DataFrame'>\n",
            "RangeIndex: 901 entries, 0 to 900\n",
            "Data columns (total 12 columns):\n",
            " #   Column          Non-Null Count  Dtype \n",
            "---  ------          --------------  ----- \n",
            " 0   business_id     901 non-null    object\n",
            " 1   name            901 non-null    object\n",
            " 2   address         901 non-null    object\n",
            " 3   city            901 non-null    object\n",
            " 4   state           901 non-null    object\n",
            " 5   postal_code     901 non-null    object\n",
            " 6   latitude        901 non-null    object\n",
            " 7   longitude       901 non-null    object\n",
            " 8   stars           901 non-null    object\n",
            " 9   review_count    901 non-null    object\n",
            " 10  is_open         901 non-null    object\n",
            " 11  is_holiday_inn  901 non-null    int64 \n",
            "dtypes: int64(1), object(11)\n",
            "memory usage: 84.6+ KB\n"
          ]
        }
      ],
      "source": [
        "df_business.info()"
      ]
    },
    {
      "cell_type": "markdown",
      "id": "DReZWATSLt9i",
      "metadata": {
        "id": "DReZWATSLt9i"
      },
      "source": [
        "Guardamos a Parquet"
      ]
    },
    {
      "cell_type": "code",
      "execution_count": 23,
      "id": "jqEJSViXMOsd",
      "metadata": {
        "executionInfo": {
          "elapsed": 768,
          "status": "ok",
          "timestamp": 1694216888544,
          "user": {
            "displayName": "",
            "userId": ""
          },
          "user_tz": 180
        },
        "id": "jqEJSViXMOsd"
      },
      "outputs": [],
      "source": [
        "# Guardar el DataFrame como archivo Parquet\n",
        "table = pa.Table.from_pandas(df_business)\n",
        "pq.write_table(table, output_file_path)\n",
        "\n",
        "# Subir el archivo resultante Parquet a la carpeta\n",
        "output_blob.upload_from_filename(output_file_path)\n",
        "\n",
        "# Limpieza del directorio temporal\n",
        "os.remove(input_file_path)\n",
        "os.remove(output_file_path)\n",
        "os.rmdir(temp_dir)"
      ]
    },
    {
      "cell_type": "markdown",
      "id": "kLSqvZb5Mvoj",
      "metadata": {
        "id": "kLSqvZb5Mvoj"
      },
      "source": [
        "### Checkins"
      ]
    },
    {
      "cell_type": "markdown",
      "id": "7Pjc3NpvM0xP",
      "metadata": {
        "id": "7Pjc3NpvM0xP"
      },
      "source": [
        "Configuración de Paths de entrada y salida"
      ]
    },
    {
      "cell_type": "code",
      "execution_count": 24,
      "id": "MoInSfWGMxkj",
      "metadata": {
        "executionInfo": {
          "elapsed": 3737,
          "status": "ok",
          "timestamp": 1694217108592,
          "user": {
            "displayName": "",
            "userId": ""
          },
          "user_tz": 180
        },
        "id": "MoInSfWGMxkj"
      },
      "outputs": [],
      "source": [
        "input_file_name = \"checkin.json\"\n",
        "output_file_name = \"checkin.parquet\"\n",
        "\n",
        "# Construir la referencia al archivo de origen en la carpeta especificada\n",
        "blob_name = os.path.join(input_folder_name, input_file_name)\n",
        "input_blob = bucket.blob(blob_name)\n",
        "\n",
        "# Crear directorio temporal para trabajar con los archivos\n",
        "temp_dir = tempfile.mkdtemp()\n",
        "\n",
        "# Asignar el archivo de origen al directorio temporal\n",
        "input_file_path = os.path.join(temp_dir, input_file_name)\n",
        "input_blob.download_to_filename(input_file_path)\n",
        "\n",
        "# Crear referencia al archivo de salida de Parquet\n",
        "output_blob_name = os.path.join(output_folder_name, output_file_name)\n",
        "output_blob = bucket.blob(output_blob_name)\n",
        "\n",
        "# Vamos a guardar los datos transformados en un nuevo archivo de Parquet\n",
        "output_file_path = os.path.join(temp_dir, output_file_name)"
      ]
    },
    {
      "cell_type": "markdown",
      "id": "06fsvxNPNave",
      "metadata": {
        "id": "06fsvxNPNave"
      },
      "source": [
        "Leemos data del json"
      ]
    },
    {
      "cell_type": "code",
      "execution_count": 25,
      "id": "0lh_RcnrNcsw",
      "metadata": {
        "executionInfo": {
          "elapsed": 19792,
          "status": "ok",
          "timestamp": 1694217201556,
          "user": {
            "displayName": "",
            "userId": ""
          },
          "user_tz": 180
        },
        "id": "0lh_RcnrNcsw"
      },
      "outputs": [],
      "source": [
        "data = []\n",
        "\n",
        "with open(input_file_path, 'r') as file:\n",
        "    for line in file:\n",
        "        json_obj = json.loads(line)\n",
        "        business_id = json_obj['business_id']\n",
        "        dates_concatenated = json_obj['date']\n",
        "\n",
        "        dates_list = [date.strip() for date in dates_concatenated.split(\",\")]\n",
        "\n",
        "        for date in dates_list:\n",
        "            data.append({\"business_id\": business_id, \"date\": date})\n",
        "\n",
        "for checkin in data:\n",
        "    business_id = checkin['business_id']\n",
        "    date = checkin['date']"
      ]
    },
    {
      "cell_type": "markdown",
      "id": "EyRKYmarNuJQ",
      "metadata": {
        "id": "EyRKYmarNuJQ"
      },
      "source": [
        "Convertimos a Dataframe"
      ]
    },
    {
      "cell_type": "code",
      "execution_count": 26,
      "id": "9_YWqxWSNr2V",
      "metadata": {
        "executionInfo": {
          "elapsed": 8536,
          "status": "ok",
          "timestamp": 1694217218761,
          "user": {
            "displayName": "",
            "userId": ""
          },
          "user_tz": 180
        },
        "id": "9_YWqxWSNr2V"
      },
      "outputs": [],
      "source": [
        "df_checkins = pd.DataFrame(data)"
      ]
    },
    {
      "cell_type": "code",
      "execution_count": 27,
      "id": "Yy3bcCuINsUm",
      "metadata": {
        "colab": {
          "base_uri": "https://localhost:8080/"
        },
        "executionInfo": {
          "elapsed": 3,
          "status": "ok",
          "timestamp": 1694217218761,
          "user": {
            "displayName": "",
            "userId": ""
          },
          "user_tz": 180
        },
        "id": "Yy3bcCuINsUm",
        "outputId": "8ddbbc2f-0bb7-467c-dcd7-fc252f62efd6"
      },
      "outputs": [
        {
          "name": "stdout",
          "output_type": "stream",
          "text": [
            "<class 'pandas.core.frame.DataFrame'>\n",
            "RangeIndex: 13356875 entries, 0 to 13356874\n",
            "Data columns (total 2 columns):\n",
            " #   Column       Dtype \n",
            "---  ------       ----- \n",
            " 0   business_id  object\n",
            " 1   date         object\n",
            "dtypes: object(2)\n",
            "memory usage: 203.8+ MB\n"
          ]
        }
      ],
      "source": [
        "df_checkins.info()"
      ]
    },
    {
      "cell_type": "markdown",
      "id": "4uk7XymdN3Vk",
      "metadata": {
        "id": "4uk7XymdN3Vk"
      },
      "source": [
        "Corregimos tipo de dato"
      ]
    },
    {
      "cell_type": "code",
      "execution_count": 28,
      "id": "xBQ8rkrtN3no",
      "metadata": {
        "executionInfo": {
          "elapsed": 1052,
          "status": "ok",
          "timestamp": 1694217258837,
          "user": {
            "displayName": "",
            "userId": ""
          },
          "user_tz": 180
        },
        "id": "xBQ8rkrtN3no"
      },
      "outputs": [],
      "source": [
        "df_checkins['date'] = pd.to_datetime(df_checkins['date'], format='%Y-%m-%d %H:%M:%S')"
      ]
    },
    {
      "cell_type": "code",
      "execution_count": 29,
      "id": "OlVgbtMQN-d3",
      "metadata": {
        "colab": {
          "base_uri": "https://localhost:8080/"
        },
        "executionInfo": {
          "elapsed": 1075,
          "status": "ok",
          "timestamp": 1694217270350,
          "user": {
            "displayName": "",
            "userId": ""
          },
          "user_tz": 180
        },
        "id": "OlVgbtMQN-d3",
        "outputId": "d449d4bf-2d0b-4205-d7ef-1da5c6daa93e"
      },
      "outputs": [
        {
          "name": "stdout",
          "output_type": "stream",
          "text": [
            "<class 'pandas.core.frame.DataFrame'>\n",
            "RangeIndex: 13356875 entries, 0 to 13356874\n",
            "Data columns (total 2 columns):\n",
            " #   Column       Dtype         \n",
            "---  ------       -----         \n",
            " 0   business_id  object        \n",
            " 1   date         datetime64[ns]\n",
            "dtypes: datetime64[ns](1), object(1)\n",
            "memory usage: 203.8+ MB\n"
          ]
        }
      ],
      "source": [
        "df_checkins.info()"
      ]
    },
    {
      "cell_type": "markdown",
      "id": "nfxJfzU3OBtR",
      "metadata": {
        "id": "nfxJfzU3OBtR"
      },
      "source": [
        "Aislamos los business ids que nos interesan"
      ]
    },
    {
      "cell_type": "code",
      "execution_count": 30,
      "id": "807Rr9tMOCCq",
      "metadata": {
        "executionInfo": {
          "elapsed": 851,
          "status": "ok",
          "timestamp": 1694217303090,
          "user": {
            "displayName": "",
            "userId": ""
          },
          "user_tz": 180
        },
        "id": "807Rr9tMOCCq"
      },
      "outputs": [],
      "source": [
        "df_checkins = df_checkins[df_checkins['business_id'].isin(yelp_business_ids)]"
      ]
    },
    {
      "cell_type": "code",
      "execution_count": 31,
      "id": "28rOfHKJOHWS",
      "metadata": {
        "colab": {
          "base_uri": "https://localhost:8080/"
        },
        "executionInfo": {
          "elapsed": 393,
          "status": "ok",
          "timestamp": 1694217322774,
          "user": {
            "displayName": "",
            "userId": ""
          },
          "user_tz": 180
        },
        "id": "28rOfHKJOHWS",
        "outputId": "8207b910-cbcc-4f9d-85c5-1f499b945c2c"
      },
      "outputs": [
        {
          "name": "stdout",
          "output_type": "stream",
          "text": [
            "<class 'pandas.core.frame.DataFrame'>\n",
            "Int64Index: 101908 entries, 1503 to 13344756\n",
            "Data columns (total 2 columns):\n",
            " #   Column       Non-Null Count   Dtype         \n",
            "---  ------       --------------   -----         \n",
            " 0   business_id  101908 non-null  object        \n",
            " 1   date         101908 non-null  datetime64[ns]\n",
            "dtypes: datetime64[ns](1), object(1)\n",
            "memory usage: 2.3+ MB\n"
          ]
        }
      ],
      "source": [
        "df_checkins.info()\n"
      ]
    },
    {
      "cell_type": "markdown",
      "id": "0v5NGHY0OTAt",
      "metadata": {
        "id": "0v5NGHY0OTAt"
      },
      "source": [
        "Aislamos las fechas de nuestro alcance"
      ]
    },
    {
      "cell_type": "code",
      "execution_count": 32,
      "id": "6TOOPflNOXKb",
      "metadata": {
        "executionInfo": {
          "elapsed": 1088,
          "status": "ok",
          "timestamp": 1694217524885,
          "user": {
            "displayName": "",
            "userId": ""
          },
          "user_tz": 180
        },
        "id": "6TOOPflNOXKb"
      },
      "outputs": [],
      "source": [
        "# Rango de fechas\n",
        "start_date = '2016-01-01'\n",
        "end_date = '2020-12-31'\n",
        "\n",
        "# usamos filtro booleano\n",
        "filtered_df = df_checkins[(df_checkins['date'] >= start_date) & (df_checkins['date'] <= end_date)]\n"
      ]
    },
    {
      "cell_type": "code",
      "execution_count": 33,
      "id": "FpyxqB2TO-12",
      "metadata": {
        "colab": {
          "base_uri": "https://localhost:8080/"
        },
        "executionInfo": {
          "elapsed": 2,
          "status": "ok",
          "timestamp": 1694217542266,
          "user": {
            "displayName": "",
            "userId": ""
          },
          "user_tz": 180
        },
        "id": "FpyxqB2TO-12",
        "outputId": "f85182b1-58c6-445d-9999-70eede0db2ec"
      },
      "outputs": [
        {
          "name": "stdout",
          "output_type": "stream",
          "text": [
            "<class 'pandas.core.frame.DataFrame'>\n",
            "Int64Index: 36998 entries, 1520 to 13344756\n",
            "Data columns (total 2 columns):\n",
            " #   Column       Non-Null Count  Dtype         \n",
            "---  ------       --------------  -----         \n",
            " 0   business_id  36998 non-null  object        \n",
            " 1   date         36998 non-null  datetime64[ns]\n",
            "dtypes: datetime64[ns](1), object(1)\n",
            "memory usage: 867.1+ KB\n"
          ]
        }
      ],
      "source": [
        "filtered_df.info()\n"
      ]
    },
    {
      "cell_type": "code",
      "execution_count": 34,
      "id": "SdsNdi95PFoU",
      "metadata": {
        "executionInfo": {
          "elapsed": 397,
          "status": "ok",
          "timestamp": 1694217576524,
          "user": {
            "displayName": "",
            "userId": ""
          },
          "user_tz": 180
        },
        "id": "SdsNdi95PFoU"
      },
      "outputs": [],
      "source": [
        "filtered_df.reset_index(drop=True, inplace=True)"
      ]
    },
    {
      "cell_type": "markdown",
      "id": "2GyRBrkoPPgq",
      "metadata": {
        "id": "2GyRBrkoPPgq"
      },
      "source": [
        "Guardamos a Parquet"
      ]
    },
    {
      "cell_type": "code",
      "execution_count": 35,
      "id": "v54H0GxqPR4i",
      "metadata": {
        "executionInfo": {
          "elapsed": 1,
          "status": "ok",
          "timestamp": 1694217635413,
          "user": {
            "displayName": "",
            "userId": ""
          },
          "user_tz": 180
        },
        "id": "v54H0GxqPR4i"
      },
      "outputs": [],
      "source": [
        "# Guardar el DataFrame como archivo Parquet\n",
        "table = pa.Table.from_pandas(filtered_df)\n",
        "pq.write_table(table, output_file_path)\n",
        "\n",
        "# Subir el archivo resultante Parquet a la carpeta\n",
        "output_blob.upload_from_filename(output_file_path)\n",
        "\n",
        "# Limpieza del directorio temporal\n",
        "os.remove(input_file_path)\n",
        "os.remove(output_file_path)\n",
        "os.rmdir(temp_dir)"
      ]
    },
    {
      "cell_type": "markdown",
      "id": "OQtmGTygPf3N",
      "metadata": {
        "id": "OQtmGTygPf3N"
      },
      "source": [
        "### Tips"
      ]
    },
    {
      "cell_type": "markdown",
      "id": "5mCZO1n4PufH",
      "metadata": {
        "id": "5mCZO1n4PufH"
      },
      "source": [
        "Configuración de Paths de entrada y salida"
      ]
    },
    {
      "cell_type": "code",
      "execution_count": 13,
      "id": "2QahDokMQAiJ",
      "metadata": {
        "executionInfo": {
          "elapsed": 2830,
          "status": "ok",
          "timestamp": 1694229187886,
          "user": {
            "displayName": "",
            "userId": ""
          },
          "user_tz": 180
        },
        "id": "2QahDokMQAiJ"
      },
      "outputs": [],
      "source": [
        "input_file_name = \"tip.json\"\n",
        "output_file_name = \"tip.parquet\"\n",
        "\n",
        "# Construir la referencia al archivo de origen en la carpeta especificada\n",
        "blob_name = os.path.join(input_folder_name, input_file_name)\n",
        "input_blob = bucket.blob(blob_name)\n",
        "\n",
        "# Crear directorio temporal para trabajar con los archivos\n",
        "temp_dir = tempfile.mkdtemp()\n",
        "\n",
        "# Asignar el archivo de origen al directorio temporal\n",
        "input_file_path = os.path.join(temp_dir, input_file_name)\n",
        "input_blob.download_to_filename(input_file_path)\n",
        "\n",
        "# Crear referencia al archivo de salida de Parquet\n",
        "output_blob_name = os.path.join(output_folder_name, output_file_name)\n",
        "output_blob = bucket.blob(output_blob_name)\n",
        "\n",
        "# Vamos a guardar los datos transformados en un nuevo archivo de Parquet\n",
        "output_file_path = os.path.join(temp_dir, output_file_name)"
      ]
    },
    {
      "cell_type": "markdown",
      "id": "4ikDi2hgPjrW",
      "metadata": {
        "id": "4ikDi2hgPjrW"
      },
      "source": [
        "Leemos archivo json"
      ]
    },
    {
      "cell_type": "code",
      "execution_count": 14,
      "id": "W2mWkDLSPohw",
      "metadata": {
        "executionInfo": {
          "elapsed": 9294,
          "status": "ok",
          "timestamp": 1694229198770,
          "user": {
            "displayName": "",
            "userId": ""
          },
          "user_tz": 180
        },
        "id": "W2mWkDLSPohw"
      },
      "outputs": [],
      "source": [
        "df_tips=pd.read_json(input_file_path, lines=True)"
      ]
    },
    {
      "cell_type": "code",
      "execution_count": 41,
      "id": "ltPZkZ-EQS6q",
      "metadata": {
        "colab": {
          "base_uri": "https://localhost:8080/"
        },
        "executionInfo": {
          "elapsed": 1095,
          "status": "ok",
          "timestamp": 1694217879114,
          "user": {
            "displayName": "",
            "userId": ""
          },
          "user_tz": 180
        },
        "id": "ltPZkZ-EQS6q",
        "outputId": "8fd27133-d21c-4568-e35e-891540d2df74"
      },
      "outputs": [
        {
          "name": "stdout",
          "output_type": "stream",
          "text": [
            "<class 'pandas.core.frame.DataFrame'>\n",
            "RangeIndex: 908915 entries, 0 to 908914\n",
            "Data columns (total 5 columns):\n",
            " #   Column            Non-Null Count   Dtype         \n",
            "---  ------            --------------   -----         \n",
            " 0   user_id           908915 non-null  object        \n",
            " 1   business_id       908915 non-null  object        \n",
            " 2   text              908915 non-null  object        \n",
            " 3   date              908915 non-null  datetime64[ns]\n",
            " 4   compliment_count  908915 non-null  int64         \n",
            "dtypes: datetime64[ns](1), int64(1), object(3)\n",
            "memory usage: 34.7+ MB\n"
          ]
        }
      ],
      "source": [
        "df_tips.info()"
      ]
    },
    {
      "cell_type": "code",
      "execution_count": 15,
      "id": "bkQ2NPMuQW4X",
      "metadata": {
        "executionInfo": {
          "elapsed": 5,
          "status": "ok",
          "timestamp": 1694229202786,
          "user": {
            "displayName": "",
            "userId": ""
          },
          "user_tz": 180
        },
        "id": "bkQ2NPMuQW4X"
      },
      "outputs": [],
      "source": [
        "df_tips = df_tips[df_tips['business_id'].isin(yelp_business_ids)]"
      ]
    },
    {
      "cell_type": "code",
      "execution_count": 18,
      "id": "qhV_cKzFQZXX",
      "metadata": {
        "executionInfo": {
          "elapsed": 1830,
          "status": "ok",
          "timestamp": 1694229236267,
          "user": {
            "displayName": "",
            "userId": ""
          },
          "user_tz": 180
        },
        "id": "qhV_cKzFQZXX"
      },
      "outputs": [],
      "source": [
        "# Rango de fechas\n",
        "start_date = '2016-01-01'\n",
        "end_date = '2020-12-31'\n",
        "\n",
        "\n",
        "# usamos filtro booleano\n",
        "filtered_df = df_tips[(df_tips['date'] >= start_date) & (df_tips['date'] <= end_date)]"
      ]
    },
    {
      "cell_type": "code",
      "execution_count": 45,
      "id": "5kVwGeroQYqd",
      "metadata": {
        "colab": {
          "base_uri": "https://localhost:8080/"
        },
        "executionInfo": {
          "elapsed": 450,
          "status": "ok",
          "timestamp": 1694217953863,
          "user": {
            "displayName": "",
            "userId": ""
          },
          "user_tz": 180
        },
        "id": "5kVwGeroQYqd",
        "outputId": "fff44f6e-4cc4-4a6d-b7e0-82fd5e6a79a5"
      },
      "outputs": [
        {
          "name": "stdout",
          "output_type": "stream",
          "text": [
            "<class 'pandas.core.frame.DataFrame'>\n",
            "Int64Index: 4537 entries, 69 to 908328\n",
            "Data columns (total 5 columns):\n",
            " #   Column            Non-Null Count  Dtype         \n",
            "---  ------            --------------  -----         \n",
            " 0   user_id           4537 non-null   object        \n",
            " 1   business_id       4537 non-null   object        \n",
            " 2   text              4537 non-null   object        \n",
            " 3   date              4537 non-null   datetime64[ns]\n",
            " 4   compliment_count  4537 non-null   int64         \n",
            "dtypes: datetime64[ns](1), int64(1), object(3)\n",
            "memory usage: 212.7+ KB\n"
          ]
        }
      ],
      "source": [
        "df_tips.info()"
      ]
    },
    {
      "cell_type": "code",
      "execution_count": 19,
      "id": "6Be-HWwQQr3o",
      "metadata": {
        "executionInfo": {
          "elapsed": 1062,
          "status": "ok",
          "timestamp": 1694229242799,
          "user": {
            "displayName": "",
            "userId": ""
          },
          "user_tz": 180
        },
        "id": "6Be-HWwQQr3o"
      },
      "outputs": [],
      "source": [
        "filtered_df.reset_index(drop=True, inplace=True)"
      ]
    },
    {
      "cell_type": "markdown",
      "id": "XcWiRHH1QxFm",
      "metadata": {
        "id": "XcWiRHH1QxFm"
      },
      "source": [
        "Guardamos a Parquet"
      ]
    },
    {
      "cell_type": "code",
      "execution_count": 20,
      "id": "ewBx9DLBQzZH",
      "metadata": {
        "executionInfo": {
          "elapsed": 1955,
          "status": "ok",
          "timestamp": 1694229246276,
          "user": {
            "displayName": "",
            "userId": ""
          },
          "user_tz": 180
        },
        "id": "ewBx9DLBQzZH"
      },
      "outputs": [],
      "source": [
        "# Guardar el DataFrame como archivo Parquet\n",
        "table = pa.Table.from_pandas(filtered_df)\n",
        "pq.write_table(table, output_file_path)\n",
        "\n",
        "# Subir el archivo resultante Parquet a la carpeta\n",
        "output_blob.upload_from_filename(output_file_path)\n",
        "\n",
        "# Limpieza del directorio temporal\n",
        "os.remove(input_file_path)\n",
        "os.remove(output_file_path)\n",
        "os.rmdir(temp_dir)"
      ]
    },
    {
      "cell_type": "markdown",
      "id": "dSQuq9HpReRe",
      "metadata": {
        "id": "dSQuq9HpReRe"
      },
      "source": [
        "### Reviews"
      ]
    },
    {
      "cell_type": "markdown",
      "id": "p3NjxKuRRlmq",
      "metadata": {
        "id": "p3NjxKuRRlmq"
      },
      "source": [
        "Configuramos paths"
      ]
    },
    {
      "cell_type": "code",
      "execution_count": 13,
      "id": "HF-iasIFRgZo",
      "metadata": {
        "executionInfo": {
          "elapsed": 41150,
          "status": "ok",
          "timestamp": 1694223357771,
          "user": {
            "displayName": "",
            "userId": ""
          },
          "user_tz": 180
        },
        "id": "HF-iasIFRgZo"
      },
      "outputs": [],
      "source": [
        "input_file_name = \"review.json\"\n",
        "output_file_name = \"review.parquet\"\n",
        "\n",
        "# Construir la referencia al archivo de origen en la carpeta especificada\n",
        "blob_name = os.path.join(input_folder_name, input_file_name)\n",
        "input_blob = bucket.blob(blob_name)\n",
        "\n",
        "# Crear directorio temporal para trabajar con los archivos\n",
        "temp_dir = tempfile.mkdtemp()\n",
        "\n",
        "# Asignar el archivo de origen al directorio temporal\n",
        "input_file_path = os.path.join(temp_dir, input_file_name)\n",
        "input_blob.download_to_filename(input_file_path)\n",
        "\n",
        "# Crear referencia al archivo de salida de Parquet\n",
        "output_blob_name = os.path.join(output_folder_name, output_file_name)\n",
        "output_blob = bucket.blob(output_blob_name)\n",
        "\n",
        "# Vamos a guardar los datos transformados en un nuevo archivo de Parquet\n",
        "output_file_path = os.path.join(temp_dir, output_file_name)"
      ]
    },
    {
      "cell_type": "markdown",
      "id": "wVe8Uy9sTflR",
      "metadata": {
        "id": "wVe8Uy9sTflR"
      },
      "source": [
        "Dividiremos el archivo en 5 partes"
      ]
    },
    {
      "cell_type": "code",
      "execution_count": 14,
      "id": "LqSbdgEkUEQF",
      "metadata": {
        "executionInfo": {
          "elapsed": 2,
          "status": "ok",
          "timestamp": 1694223359828,
          "user": {
            "displayName": "",
            "userId": ""
          },
          "user_tz": 180
        },
        "id": "LqSbdgEkUEQF"
      },
      "outputs": [],
      "source": [
        "backup_folder_name = \"Yelp/Backup-ETL\""
      ]
    },
    {
      "cell_type": "code",
      "execution_count": 24,
      "id": "asoHokCmTel9",
      "metadata": {
        "executionInfo": {
          "elapsed": 108330,
          "status": "ok",
          "timestamp": 1694221130937,
          "user": {
            "displayName": "",
            "userId": ""
          },
          "user_tz": 180
        },
        "id": "asoHokCmTel9"
      },
      "outputs": [],
      "source": [
        "# Número de partes en las que deseas dividir el archivo\n",
        "num_parts = 5\n",
        "\n",
        "# Calcular el tamaño aproximado deseado para cada parte\n",
        "with open(input_file_path, 'r') as infile:\n",
        "    total_lines = sum(1 for line in infile)\n",
        "chunk_size = total_lines // num_parts\n",
        "\n",
        "with open(input_file_path, 'r') as infile:\n",
        "    chunk_count = 1\n",
        "    current_chunk = []\n",
        "\n",
        "    for line in infile:\n",
        "        current_chunk.append(line)\n",
        "\n",
        "        if len(current_chunk) >= chunk_size:\n",
        "            # Crear referencia al archivo de salida de Parquet\n",
        "            backup_output_blob_name = os.path.join(backup_folder_name, f'chunk_{chunk_count}.json')\n",
        "            backup_output_blob = bucket.blob(backup_output_blob_name)\n",
        "\n",
        "            # Vamos a guardar los datos transformados en un nuevo archivo de Parquet\n",
        "            backup_output_file_path = os.path.join(temp_dir, f'chunk_{chunk_count}.json')\n",
        "\n",
        "            with open(backup_output_file_path, 'w') as outfile:\n",
        "                outfile.writelines(current_chunk)\n",
        "            current_chunk = []\n",
        "            chunk_count += 1\n",
        "            # Subir el archivo resultante Parquet a la carpeta\n",
        "            backup_output_blob.upload_from_filename(backup_output_file_path)\n",
        "\n",
        "    # Guardar el último fragmento si es necesario\n",
        "    if current_chunk:\n",
        "        # Crear referencia al archivo de salida de Parquet\n",
        "        backup_output_blob_name = os.path.join(backup_folder_name, f'chunk_{chunk_count}.json')\n",
        "        backup_output_blob = bucket.blob(backup_output_blob_name)\n",
        "\n",
        "        # Vamos a guardar los datos transformados en un nuevo archivo de Parquet\n",
        "        backup_output_file_path = os.path.join(temp_dir, f'chunk_{chunk_count}.json')\n",
        "\n",
        "        with open(backup_output_file_path, 'w') as outfile:\n",
        "            outfile.writelines(current_chunk)\n",
        "        # Subir el archivo resultante Parquet a la carpeta\n",
        "        backup_output_blob.upload_from_filename(backup_output_file_path)"
      ]
    },
    {
      "cell_type": "markdown",
      "id": "WdsEPv8sdRxG",
      "metadata": {
        "id": "WdsEPv8sdRxG"
      },
      "source": [
        "Concatenamos y guardamos en dataframe"
      ]
    },
    {
      "cell_type": "code",
      "execution_count": 15,
      "id": "Myf61nPCTTup",
      "metadata": {
        "executionInfo": {
          "elapsed": 168134,
          "status": "ok",
          "timestamp": 1694223527961,
          "user": {
            "displayName": "",
            "userId": ""
          },
          "user_tz": 180
        },
        "id": "Myf61nPCTTup"
      },
      "outputs": [],
      "source": [
        "# Obtener la lista de archivos en el directorio\n",
        "blobs = bucket.list_blobs(prefix=backup_folder_name)\n",
        "\n",
        "# Crear una lista para almacenar los DataFrames de los fragmentos\n",
        "dataframes = []\n",
        "\n",
        "# Cargar cada fragmento en un DataFrame y agregarlo a la lista\n",
        "for blob in blobs:\n",
        "    if blob.name.endswith(\".json\"):\n",
        "        # Bajar archivos\n",
        "        temp_dir_2 = tempfile.mkdtemp()\n",
        "        local_file_path = os.path.join(temp_dir_2, os.path.basename(blob.name))\n",
        "        blob.download_to_filename(local_file_path)\n",
        "\n",
        "        df_fragment = pd.read_json(local_file_path, lines=True)\n",
        "        dataframes.append(df_fragment)\n",
        "\n",
        "# Borramos temporales de esta sección\n",
        "os.remove(local_file_path)\n",
        "os.rmdir(temp_dir_2)\n",
        "\n",
        "# Concatenar los DataFrames en uno solo\n",
        "df_reviews = pd.concat(dataframes, ignore_index=True)"
      ]
    },
    {
      "cell_type": "code",
      "execution_count": 28,
      "id": "1U5dGqrHfe_v",
      "metadata": {
        "colab": {
          "base_uri": "https://localhost:8080/"
        },
        "executionInfo": {
          "elapsed": 2319,
          "status": "ok",
          "timestamp": 1694222231566,
          "user": {
            "displayName": "",
            "userId": ""
          },
          "user_tz": 180
        },
        "id": "1U5dGqrHfe_v",
        "outputId": "2097b39e-d40d-496b-abb9-7558b5a0b19f"
      },
      "outputs": [
        {
          "name": "stdout",
          "output_type": "stream",
          "text": [
            "<class 'pandas.core.frame.DataFrame'>\n",
            "RangeIndex: 6990280 entries, 0 to 6990279\n",
            "Data columns (total 9 columns):\n",
            " #   Column       Dtype         \n",
            "---  ------       -----         \n",
            " 0   review_id    object        \n",
            " 1   user_id      object        \n",
            " 2   business_id  object        \n",
            " 3   stars        int64         \n",
            " 4   useful       int64         \n",
            " 5   funny        int64         \n",
            " 6   cool         int64         \n",
            " 7   text         object        \n",
            " 8   date         datetime64[ns]\n",
            "dtypes: datetime64[ns](1), int64(4), object(4)\n",
            "memory usage: 480.0+ MB\n"
          ]
        }
      ],
      "source": [
        "df_reviews.info()"
      ]
    },
    {
      "cell_type": "markdown",
      "id": "zPNckdxehBer",
      "metadata": {
        "id": "zPNckdxehBer"
      },
      "source": [
        "Filtramos por los business id"
      ]
    },
    {
      "cell_type": "code",
      "execution_count": 16,
      "id": "ibqSpm_fhByO",
      "metadata": {
        "executionInfo": {
          "elapsed": 3543,
          "status": "ok",
          "timestamp": 1694223531962,
          "user": {
            "displayName": "",
            "userId": ""
          },
          "user_tz": 180
        },
        "id": "ibqSpm_fhByO"
      },
      "outputs": [],
      "source": [
        "df_reviews = df_reviews[df_reviews['business_id'].isin(yelp_business_ids)]"
      ]
    },
    {
      "cell_type": "code",
      "execution_count": 30,
      "id": "vd0x06jXhZTD",
      "metadata": {
        "colab": {
          "base_uri": "https://localhost:8080/"
        },
        "executionInfo": {
          "elapsed": 1781,
          "status": "ok",
          "timestamp": 1694222389730,
          "user": {
            "displayName": "",
            "userId": ""
          },
          "user_tz": 180
        },
        "id": "vd0x06jXhZTD",
        "outputId": "0d551cd7-dcb7-4cf7-84f3-0facd94ca6a5"
      },
      "outputs": [
        {
          "name": "stdout",
          "output_type": "stream",
          "text": [
            "<class 'pandas.core.frame.DataFrame'>\n",
            "Int64Index: 50558 entries, 45 to 6990097\n",
            "Data columns (total 9 columns):\n",
            " #   Column       Non-Null Count  Dtype         \n",
            "---  ------       --------------  -----         \n",
            " 0   review_id    50558 non-null  object        \n",
            " 1   user_id      50558 non-null  object        \n",
            " 2   business_id  50558 non-null  object        \n",
            " 3   stars        50558 non-null  int64         \n",
            " 4   useful       50558 non-null  int64         \n",
            " 5   funny        50558 non-null  int64         \n",
            " 6   cool         50558 non-null  int64         \n",
            " 7   text         50558 non-null  object        \n",
            " 8   date         50558 non-null  datetime64[ns]\n",
            "dtypes: datetime64[ns](1), int64(4), object(4)\n",
            "memory usage: 3.9+ MB\n"
          ]
        }
      ],
      "source": [
        "df_reviews.info()"
      ]
    },
    {
      "cell_type": "code",
      "execution_count": 17,
      "id": "0rpO8iTphgAF",
      "metadata": {
        "executionInfo": {
          "elapsed": 2,
          "status": "ok",
          "timestamp": 1694223531962,
          "user": {
            "displayName": "",
            "userId": ""
          },
          "user_tz": 180
        },
        "id": "0rpO8iTphgAF"
      },
      "outputs": [],
      "source": [
        "# usamos filtro booleano\n",
        "\n",
        "# Rango de fechas\n",
        "start_date = '2016-01-01'\n",
        "end_date = '2020-12-31'\n",
        "filtered_df = df_reviews[(df_reviews['date'] >= start_date) & (df_reviews['date'] <= end_date)]"
      ]
    },
    {
      "cell_type": "code",
      "execution_count": 35,
      "id": "tKlQYwW0hv84",
      "metadata": {
        "colab": {
          "base_uri": "https://localhost:8080/"
        },
        "executionInfo": {
          "elapsed": 2,
          "status": "ok",
          "timestamp": 1694222532536,
          "user": {
            "displayName": "",
            "userId": ""
          },
          "user_tz": 180
        },
        "id": "tKlQYwW0hv84",
        "outputId": "706961f7-943c-4fcb-881c-762b2c2612f7"
      },
      "outputs": [
        {
          "name": "stdout",
          "output_type": "stream",
          "text": [
            "<class 'pandas.core.frame.DataFrame'>\n",
            "RangeIndex: 27972 entries, 0 to 27971\n",
            "Data columns (total 9 columns):\n",
            " #   Column       Non-Null Count  Dtype         \n",
            "---  ------       --------------  -----         \n",
            " 0   review_id    27972 non-null  object        \n",
            " 1   user_id      27972 non-null  object        \n",
            " 2   business_id  27972 non-null  object        \n",
            " 3   stars        27972 non-null  int64         \n",
            " 4   useful       27972 non-null  int64         \n",
            " 5   funny        27972 non-null  int64         \n",
            " 6   cool         27972 non-null  int64         \n",
            " 7   text         27972 non-null  object        \n",
            " 8   date         27972 non-null  datetime64[ns]\n",
            "dtypes: datetime64[ns](1), int64(4), object(4)\n",
            "memory usage: 1.9+ MB\n"
          ]
        }
      ],
      "source": [
        "filtered_df.info()\n"
      ]
    },
    {
      "cell_type": "code",
      "execution_count": 34,
      "id": "RdxTZGrxhzTQ",
      "metadata": {
        "executionInfo": {
          "elapsed": 873,
          "status": "ok",
          "timestamp": 1694222529075,
          "user": {
            "displayName": "",
            "userId": ""
          },
          "user_tz": 180
        },
        "id": "RdxTZGrxhzTQ"
      },
      "outputs": [],
      "source": [
        "filtered_df.reset_index(drop=True, inplace=True)"
      ]
    },
    {
      "cell_type": "code",
      "execution_count": 40,
      "id": "cozXC_TxiI-j",
      "metadata": {
        "executionInfo": {
          "elapsed": 2,
          "status": "ok",
          "timestamp": 1694222724332,
          "user": {
            "displayName": "",
            "userId": ""
          },
          "user_tz": 180
        },
        "id": "cozXC_TxiI-j"
      },
      "outputs": [],
      "source": [
        "# Guardar el DataFrame como archivo Parquet\n",
        "table = pa.Table.from_pandas(filtered_df)\n",
        "pq.write_table(table, output_file_path)\n",
        "\n",
        "# Subir el archivo resultante Parquet a la carpeta\n",
        "output_blob.upload_from_filename(output_file_path)\n",
        "\n",
        "# Limpieza del directorio temporal\n",
        "os.remove(input_file_path)\n",
        "os.remove(output_file_path)"
      ]
    }
  ],
  "metadata": {
    "colab": {
      "provenance": []
    },
    "kernelspec": {
      "display_name": "Python 3 (ipykernel)",
      "language": "python",
      "name": "python3"
    },
    "language_info": {
      "codemirror_mode": {
        "name": "ipython",
        "version": 3
      },
      "file_extension": ".py",
      "mimetype": "text/x-python",
      "name": "python",
      "nbconvert_exporter": "python",
      "pygments_lexer": "ipython3",
      "version": "3.10.4"
    }
  },
  "nbformat": 4,
  "nbformat_minor": 5
}
