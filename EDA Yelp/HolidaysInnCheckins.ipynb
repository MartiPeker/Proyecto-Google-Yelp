{
 "cells": [
  {
   "cell_type": "markdown",
   "metadata": {},
   "source": [
    "# Análisis exploratorio de los datos de los checkins de Yelp"
   ]
  },
  {
   "cell_type": "code",
   "execution_count": 1,
   "metadata": {},
   "outputs": [
    {
     "name": "stdout",
     "output_type": "stream",
     "text": [
      "                     business_id                 date\n",
      "0         ---kPU91CF4Lq2-WlRu9Lw  2020-03-13 21:10:56\n",
      "1         ---kPU91CF4Lq2-WlRu9Lw  2020-06-02 22:18:06\n",
      "2         ---kPU91CF4Lq2-WlRu9Lw  2020-07-24 22:42:27\n",
      "3         ---kPU91CF4Lq2-WlRu9Lw  2020-10-24 21:36:13\n",
      "4         ---kPU91CF4Lq2-WlRu9Lw  2020-12-09 21:23:33\n",
      "...                          ...                  ...\n",
      "13356870  zzu6_r3DxBJuXcjnOYVdTw  2013-12-11 00:52:49\n",
      "13356871  zzu6_r3DxBJuXcjnOYVdTw  2013-12-13 00:58:14\n",
      "13356872  zzw66H6hVjXQEt0Js3Mo4A  2016-12-03 23:33:26\n",
      "13356873  zzw66H6hVjXQEt0Js3Mo4A  2018-12-02 19:08:45\n",
      "13356874  zzyx5x0Z7xXWWvWnZFuxlQ  2015-01-06 17:51:53\n",
      "\n",
      "[13356875 rows x 2 columns]\n"
     ]
    }
   ],
   "source": [
    "import json\n",
    "import pandas as pd\n",
    "\n",
    "data = []\n",
    "\n",
    "with open('checkin.json', 'r') as file:\n",
    "    for line in file:\n",
    "        json_obj = json.loads(line)\n",
    "        business_id = json_obj['business_id']\n",
    "        dates_concatenated = json_obj['date']\n",
    "\n",
    "        dates_list = [date.strip() for date in dates_concatenated.split(\",\")]\n",
    "\n",
    "        for date in dates_list:\n",
    "            data.append({\"business_id\": business_id, \"date\": date})\n",
    "\n",
    "# Create a pandas DataFrame from the processed data\n",
    "df = pd.DataFrame(data)\n",
    "\n",
    "# Now you have a pandas DataFrame 'df' containing the data\n",
    "print(df)\n"
   ]
  },
  {
   "cell_type": "code",
   "execution_count": 2,
   "metadata": {},
   "outputs": [
    {
     "name": "stdout",
     "output_type": "stream",
     "text": [
      "<class 'pandas.core.frame.DataFrame'>\n",
      "RangeIndex: 13356875 entries, 0 to 13356874\n",
      "Data columns (total 2 columns):\n",
      " #   Column       Dtype \n",
      "---  ------       ----- \n",
      " 0   business_id  object\n",
      " 1   date         object\n",
      "dtypes: object(2)\n",
      "memory usage: 203.8+ MB\n"
     ]
    }
   ],
   "source": [
    "df.info()"
   ]
  },
  {
   "cell_type": "code",
   "execution_count": 3,
   "metadata": {},
   "outputs": [],
   "source": [
    "# Convertir la columna 'date' al formato de fecha y hora\n",
    "df['date'] = pd.to_datetime(df['date'])"
   ]
  },
  {
   "cell_type": "code",
   "execution_count": 4,
   "metadata": {},
   "outputs": [
    {
     "name": "stdout",
     "output_type": "stream",
     "text": [
      "<class 'pandas.core.frame.DataFrame'>\n",
      "RangeIndex: 13356875 entries, 0 to 13356874\n",
      "Data columns (total 2 columns):\n",
      " #   Column       Dtype         \n",
      "---  ------       -----         \n",
      " 0   business_id  object        \n",
      " 1   date         datetime64[ns]\n",
      "dtypes: datetime64[ns](1), object(1)\n",
      "memory usage: 203.8+ MB\n"
     ]
    }
   ],
   "source": [
    "df.info()"
   ]
  },
  {
   "cell_type": "markdown",
   "metadata": {},
   "source": [
    "Luego de leer y abrir la data filtramos por la cadena hotelera y la franja de fechas seleccionada."
   ]
  },
  {
   "cell_type": "code",
   "execution_count": 5,
   "metadata": {},
   "outputs": [],
   "source": [
    "# Lista de business_id que queremos filtrar\n",
    "business_ids_to_keep = ['NZG9a_jMy5e6jC8TrDvP7Q', 'tIrYpQ8I6gh1FhhqYU-Ttg', '6lWw1OjyhzQbibr-f7bqew', '3SUtD_5ZVlb9iGqJNbKLiQ', 'OXlI1vJqFk874elfVY8OAw', 'N5u3K2Ec5GDOfWu0oXUqYA', 'Nz_FSXFlkWkd3sWWkQdLJA', 'YGdLTubcDfTdhQhyLL8LFQ', '9QTHJ8ClVpWtX6rUTaZjlw', 'e5MAg98tBURFaKCkaV-LUg', 'By9Qq0NRFkE8Cb_m1lBh8g', 'jVtoisBOkIE0xCEkrGaA3w', 'wkNxhr_QcOtIr9f3V9S37w', '1c-qM06URos7EskpHBPPZQ', 'vNOBBP4EKJo4elgjRTjBVw', 'ElO-UerL1Sg6KC2oqC3o9Q', 'ujbE4kCZIrkGikbh1g9scg', 'J86LJtszDf3saL0B51W_xw', 'siJ11S7P5TDPZ-b2VliUvw', 'OUECb_njmGutp0mVLZ6krw', 'Azeee5WDaYOxzjKtnkURqg', 'IRwXxLUE1lW9OvZXGcW6Sg', 'rfL6mTPb0F9G7gnYNtHPIA', 'RJiepHovHAZFZPMVSVsjpA', 'kwPVrYzSAGluOXWZ8dLC1Q', '-w-Y_iAwyFgaj-O4Sc9xvw', 'D_fQMuXrfDop3cKeAj7XKg', 'ILCgMRAQP4Or5HVW4Qx9Xw', '8N4moq96N16VxvlwSq4i5Q', '-Thb5brv1ARwIa0j5HHBeA', 'qm4CUb96KIa2Qv7w6U_ZYQ', '7k-GMSgWrU4NkZa87ZvnFQ', 'GvgLd-yCE50BTyaW5yKwwQ', 'IwI4wpDfG-OtZA4hQTNioQ', 'MgAaivwlfBqKkH7rNYp2Tg', 'bvm2HZYlGA_OHm3RNfCJbQ', '8neVKoaCGlOJlW9dstnNzQ', 'DAzM1AiX_gfyqjFbakPN6w', '8EnjHnmackxchmoQee99zw', '2GsqaQGFZfqjEU7nau7vfg', '1CCaaunP7_hKs7wXSSJsKA', 'pZ1w9Zvqyjv2VxjDBk5dEw', 'QM6ydur0eyQxrrUYF__XMQ', 'H6_5foPDTXokxm-rptLZdw', 'gqY-6Yss6sS-rF44JPMmTw', '1L295h7W__0Ofs3tIXjI-w', 'm1zQ2DhBg0hrTco5xYnwTw', '8kj5wW4_4fRjRHBntfHTag', 'ZlSf82FO5SH-KXM5O6nglA', 'Kyr2D8DqnzlJubnNp8poSw', 'btxsig4yBkNBQmDydFh5eg', 'vGWd9h3YlkHTLbOd29io2A', '8YitVOscv0atTmfVTZXrnw', 'k8stonbWUKchWoyQnrG2KA', 'YlgUOEWxxWrYt_ZVqHYsXA', 'c7JyGysafmch_P0XZ8dAdQ', 'YT5CjacTllBtvMaMJS3IbA', '3WHcQlBTNA8aP0kVNR5MzQ', '7F4G6k_v3rB6kgGi_azx7A', 'U_wKqFYSpD8D3CBl7e8ENA', 'fcohLhqJ5GHOSoJfCcrLUQ', '--eBbs3HpZYIym5pEw8Qdw', 'dc4Ikj6vYT3FaK41RbQbTA', 'vhKv74jPIBW7rsSr1BBTag', 'vfOFJnfAmjc7_geqA2xUQg', 'vDXMGgnANH3eJixQ4aG7eQ', 'tcmFtDXMdP13nnokz34gdA', 'ALqsok4gwNEVxL5GglXAEA', 'yHiSd7SxMI7UiBxqnTUWTA', 'wVGeGxHHUMm4EgzAprLKAw', 'gA2aAwPX6emDr9XFEH81Gg', 'g6gtGk8jTdlT1e-IW-NBSQ', 'jSLfrFv9_A_kIBaHdoGggg', 'OBnGgsK3uKoGcgyogMREvA', '9glHMq7pkeH0mQ41LNuyIA', 'XWmg4BfYkZcT4E9iNmnycg', 'kNsBF2nBLAA1oUqJwN9TgQ', 'WpfXYtBebEcTA_8O8kyD9g', 'hFkOBQ506FCptEzMCxnXKg', 'RGtXfVi75B1m8EvX8HVHtg', 'CZkcQugEnx6ABMEf6xV0qg', 'Oie4PpmACqZsJaEXBMWbGw', 'e4xnETLbsvK3IOkNFoTW5Q', 'WvNFmJE-RDMRJro_yYb4UQ', 'l4sOZLkxQekdzryZGdtvKQ', 'v0bxe65xGR2s2j9S8knxFw', '7b1Q94_vAlhoxalOB16bOg', '7YB0Vgi67h_dsxTI1ErVtA', '4W38r716n6ZBajtzL66Jew', '87UBfiH8EftEL4SLzZcFFg', 'OqG-r8_91lZMJ_QxUP5RCA', '2nNrr5KamJ3BodzqtOvMwg', '16reseNPtJGil7XBx3mAyQ', '3-69Zp0UWQafow9ilWDjvA', '34XP8VKP7nzw3jnd0pWaPw', 'PqHZG4DnclnnPXtU8UCfgA', 'I39uvHCyLF4q2mkZAGu-lw', 'xV32Y7jne4duaM3H_r_ryQ', 'z2suiNYy6cKyy_Oraaurlg', 'g7gvaY6Sq28EZhPeK6zcmg', 'XuC0WlUNm7IKzyoAQIw-7A', 'NvaHGU03m-hvXIGScPe6WQ', 'OevgFa-maNijC2anmt1_mQ', 'L1i13JBm7lJwBylDccQrgw', 'C-sm_r8z42YMFkNBViHM8A', 'WztYbdm0lcWSQT8W7z_nBw', 'E6G59qYgnP4p8QmWz-fjWg', 'xoRQ94Cgwjizxax0mVLJtQ', '8GGpmSmCey7K6JP5eXJScg', '3YWVle2IalnDWQ7TF_q29A', 'SqE1V_zkgKsVraWsIt5-CA', 'Nhd13EAGVISQNN4cSeWRvw', 'PWkvPO5LKBoLPvha3rxMHg', '6gDwEX2rOncUDQC75nu_pA', 'TlvK0vNWea6eb9G-uzLTRA', '9pR0X3oKUuSeL3DCsu97_w', 'RtvURViJ4C3yW00HROmIRA', 'BZGHcvWyl9A3c8QEf4Y_kw', 'wDlhgWwRSlHPgAiyifQhOg', 'gEdBdZ-wdUbEWeZeEB3xNg', '6oP1vO91nKVG35VmM-fphQ', '5-ZJE7qEtgGzypWNs9ausA', 'GrApaWj9j6zFQmBMZetWjA', 'RIi9_NoeQ2gjqW_8HW0PYw', '61LzSAq8Y26U3xnnxqqRPA', 'pAgtmlIGqFYaWdBoCUeitw', 'UglPQH9cej01pfSj_Ibz1g', 'r3If7d4wAvYIbltQft11Zw', 'Zp2_GDbmKT7YCA04ygIHZg', 'grwQ0HSdvZBSUPzHCijk6Q', 'eQZjFI68oc4dETtLgL6AxQ', 'kH2bJtlej-8oDv8KjsEzCg', 'Gpf61fcPpeUgnG0aMEbhoQ', 'sNyeqSoXKH84Qdtr_-jwhw', 'a6gpUn1RY9vMoGZt-1vwuw', 'IOm2_nrAx7nHvFufszj9Wg', 'CLPaa33zlOGUoJjP_BQ_NA', 'cFeXqNg2amGG9qb6tQYsZQ', 'birP5Vv97kwnyy1Wi7nQ6w', 'VgGITb54IIb1G0gSVt3gkw', 'e9fy4esJqK8JcmlXZF4oeg', 'KYsXGs9LdJcLHkDMoBu75g', 'XQqIuRSUwkDKUyPhGRADXA', '3RbbTJsKllmAcaziMsC81w']\n",
    "\n",
    "# Filtrar el DataFrame para incluir solo los business_id de la lista\n",
    "filtered_df = df[df['business_id'].isin(business_ids_to_keep)]"
   ]
  },
  {
   "cell_type": "code",
   "execution_count": 6,
   "metadata": {},
   "outputs": [
    {
     "name": "stdout",
     "output_type": "stream",
     "text": [
      "<class 'pandas.core.frame.DataFrame'>\n",
      "Int64Index: 8384 entries, 1503 to 13177770\n",
      "Data columns (total 2 columns):\n",
      " #   Column       Non-Null Count  Dtype         \n",
      "---  ------       --------------  -----         \n",
      " 0   business_id  8384 non-null   object        \n",
      " 1   date         8384 non-null   datetime64[ns]\n",
      "dtypes: datetime64[ns](1), object(1)\n",
      "memory usage: 196.5+ KB\n"
     ]
    }
   ],
   "source": [
    "filtered_df.info()"
   ]
  },
  {
   "cell_type": "code",
   "execution_count": 7,
   "metadata": {},
   "outputs": [
    {
     "name": "stdout",
     "output_type": "stream",
     "text": [
      "El rango de fechas de los checkins es desde 2010-01-30 15:21:58 hasta 2022-01-18 20:33:18\n"
     ]
    }
   ],
   "source": [
    "# Obtener la fecha mínima y máxima de la columna date\n",
    "fecha_min = filtered_df[\"date\"].min()\n",
    "fecha_max = filtered_df[\"date\"].max()\n",
    "\n",
    "# Mostrar el resultado\n",
    "print(f\"El rango de fechas de los checkins es desde {fecha_min} hasta {fecha_max}\")"
   ]
  },
  {
   "cell_type": "code",
   "execution_count": 8,
   "metadata": {},
   "outputs": [],
   "source": [
    "# Filtrar por fecha en el rango especificado\n",
    "start_date = '2016-01-01'\n",
    "end_date = '2020-12-31'\n",
    "filtered_df = filtered_df[(filtered_df['date'] >= start_date) & (filtered_df['date'] <= end_date)]"
   ]
  },
  {
   "cell_type": "code",
   "execution_count": 9,
   "metadata": {},
   "outputs": [
    {
     "name": "stdout",
     "output_type": "stream",
     "text": [
      "El rango de fechas de los checkins es desde 2016-01-01 08:08:07 hasta 2020-12-29 12:52:48\n"
     ]
    }
   ],
   "source": [
    "# Obtener la fecha mínima y máxima de la columna date\n",
    "fecha_min = filtered_df[\"date\"].min()\n",
    "fecha_max = filtered_df[\"date\"].max()\n",
    "\n",
    "# Mostrar el resultado\n",
    "print(f\"El rango de fechas de los checkins es desde {fecha_min} hasta {fecha_max}\")"
   ]
  },
  {
   "cell_type": "code",
   "execution_count": 10,
   "metadata": {},
   "outputs": [
    {
     "data": {
      "application/vnd.plotly.v1+json": {
       "config": {
        "plotlyServerURL": "https://plot.ly"
       },
       "data": [
        {
         "hovertemplate": "x=%{x}<br>y=%{y}<extra></extra>",
         "legendgroup": "",
         "line": {
          "color": "#636efa",
          "dash": "solid"
         },
         "marker": {
          "symbol": "circle"
         },
         "mode": "lines",
         "name": "",
         "orientation": "v",
         "showlegend": false,
         "type": "scatter",
         "x": [
          1,
          2,
          3,
          4,
          5,
          6,
          7,
          8,
          9,
          10,
          11,
          12
         ],
         "xaxis": "x",
         "y": [
          247,
          241,
          250,
          248,
          258,
          255,
          270,
          255,
          253,
          231,
          197,
          194
         ],
         "yaxis": "y"
        }
       ],
       "layout": {
        "legend": {
         "tracegroupgap": 0
        },
        "template": {
         "data": {
          "bar": [
           {
            "error_x": {
             "color": "#2a3f5f"
            },
            "error_y": {
             "color": "#2a3f5f"
            },
            "marker": {
             "line": {
              "color": "#E5ECF6",
              "width": 0.5
             },
             "pattern": {
              "fillmode": "overlay",
              "size": 10,
              "solidity": 0.2
             }
            },
            "type": "bar"
           }
          ],
          "barpolar": [
           {
            "marker": {
             "line": {
              "color": "#E5ECF6",
              "width": 0.5
             },
             "pattern": {
              "fillmode": "overlay",
              "size": 10,
              "solidity": 0.2
             }
            },
            "type": "barpolar"
           }
          ],
          "carpet": [
           {
            "aaxis": {
             "endlinecolor": "#2a3f5f",
             "gridcolor": "white",
             "linecolor": "white",
             "minorgridcolor": "white",
             "startlinecolor": "#2a3f5f"
            },
            "baxis": {
             "endlinecolor": "#2a3f5f",
             "gridcolor": "white",
             "linecolor": "white",
             "minorgridcolor": "white",
             "startlinecolor": "#2a3f5f"
            },
            "type": "carpet"
           }
          ],
          "choropleth": [
           {
            "colorbar": {
             "outlinewidth": 0,
             "ticks": ""
            },
            "type": "choropleth"
           }
          ],
          "contour": [
           {
            "colorbar": {
             "outlinewidth": 0,
             "ticks": ""
            },
            "colorscale": [
             [
              0,
              "#0d0887"
             ],
             [
              0.1111111111111111,
              "#46039f"
             ],
             [
              0.2222222222222222,
              "#7201a8"
             ],
             [
              0.3333333333333333,
              "#9c179e"
             ],
             [
              0.4444444444444444,
              "#bd3786"
             ],
             [
              0.5555555555555556,
              "#d8576b"
             ],
             [
              0.6666666666666666,
              "#ed7953"
             ],
             [
              0.7777777777777778,
              "#fb9f3a"
             ],
             [
              0.8888888888888888,
              "#fdca26"
             ],
             [
              1,
              "#f0f921"
             ]
            ],
            "type": "contour"
           }
          ],
          "contourcarpet": [
           {
            "colorbar": {
             "outlinewidth": 0,
             "ticks": ""
            },
            "type": "contourcarpet"
           }
          ],
          "heatmap": [
           {
            "colorbar": {
             "outlinewidth": 0,
             "ticks": ""
            },
            "colorscale": [
             [
              0,
              "#0d0887"
             ],
             [
              0.1111111111111111,
              "#46039f"
             ],
             [
              0.2222222222222222,
              "#7201a8"
             ],
             [
              0.3333333333333333,
              "#9c179e"
             ],
             [
              0.4444444444444444,
              "#bd3786"
             ],
             [
              0.5555555555555556,
              "#d8576b"
             ],
             [
              0.6666666666666666,
              "#ed7953"
             ],
             [
              0.7777777777777778,
              "#fb9f3a"
             ],
             [
              0.8888888888888888,
              "#fdca26"
             ],
             [
              1,
              "#f0f921"
             ]
            ],
            "type": "heatmap"
           }
          ],
          "heatmapgl": [
           {
            "colorbar": {
             "outlinewidth": 0,
             "ticks": ""
            },
            "colorscale": [
             [
              0,
              "#0d0887"
             ],
             [
              0.1111111111111111,
              "#46039f"
             ],
             [
              0.2222222222222222,
              "#7201a8"
             ],
             [
              0.3333333333333333,
              "#9c179e"
             ],
             [
              0.4444444444444444,
              "#bd3786"
             ],
             [
              0.5555555555555556,
              "#d8576b"
             ],
             [
              0.6666666666666666,
              "#ed7953"
             ],
             [
              0.7777777777777778,
              "#fb9f3a"
             ],
             [
              0.8888888888888888,
              "#fdca26"
             ],
             [
              1,
              "#f0f921"
             ]
            ],
            "type": "heatmapgl"
           }
          ],
          "histogram": [
           {
            "marker": {
             "pattern": {
              "fillmode": "overlay",
              "size": 10,
              "solidity": 0.2
             }
            },
            "type": "histogram"
           }
          ],
          "histogram2d": [
           {
            "colorbar": {
             "outlinewidth": 0,
             "ticks": ""
            },
            "colorscale": [
             [
              0,
              "#0d0887"
             ],
             [
              0.1111111111111111,
              "#46039f"
             ],
             [
              0.2222222222222222,
              "#7201a8"
             ],
             [
              0.3333333333333333,
              "#9c179e"
             ],
             [
              0.4444444444444444,
              "#bd3786"
             ],
             [
              0.5555555555555556,
              "#d8576b"
             ],
             [
              0.6666666666666666,
              "#ed7953"
             ],
             [
              0.7777777777777778,
              "#fb9f3a"
             ],
             [
              0.8888888888888888,
              "#fdca26"
             ],
             [
              1,
              "#f0f921"
             ]
            ],
            "type": "histogram2d"
           }
          ],
          "histogram2dcontour": [
           {
            "colorbar": {
             "outlinewidth": 0,
             "ticks": ""
            },
            "colorscale": [
             [
              0,
              "#0d0887"
             ],
             [
              0.1111111111111111,
              "#46039f"
             ],
             [
              0.2222222222222222,
              "#7201a8"
             ],
             [
              0.3333333333333333,
              "#9c179e"
             ],
             [
              0.4444444444444444,
              "#bd3786"
             ],
             [
              0.5555555555555556,
              "#d8576b"
             ],
             [
              0.6666666666666666,
              "#ed7953"
             ],
             [
              0.7777777777777778,
              "#fb9f3a"
             ],
             [
              0.8888888888888888,
              "#fdca26"
             ],
             [
              1,
              "#f0f921"
             ]
            ],
            "type": "histogram2dcontour"
           }
          ],
          "mesh3d": [
           {
            "colorbar": {
             "outlinewidth": 0,
             "ticks": ""
            },
            "type": "mesh3d"
           }
          ],
          "parcoords": [
           {
            "line": {
             "colorbar": {
              "outlinewidth": 0,
              "ticks": ""
             }
            },
            "type": "parcoords"
           }
          ],
          "pie": [
           {
            "automargin": true,
            "type": "pie"
           }
          ],
          "scatter": [
           {
            "fillpattern": {
             "fillmode": "overlay",
             "size": 10,
             "solidity": 0.2
            },
            "type": "scatter"
           }
          ],
          "scatter3d": [
           {
            "line": {
             "colorbar": {
              "outlinewidth": 0,
              "ticks": ""
             }
            },
            "marker": {
             "colorbar": {
              "outlinewidth": 0,
              "ticks": ""
             }
            },
            "type": "scatter3d"
           }
          ],
          "scattercarpet": [
           {
            "marker": {
             "colorbar": {
              "outlinewidth": 0,
              "ticks": ""
             }
            },
            "type": "scattercarpet"
           }
          ],
          "scattergeo": [
           {
            "marker": {
             "colorbar": {
              "outlinewidth": 0,
              "ticks": ""
             }
            },
            "type": "scattergeo"
           }
          ],
          "scattergl": [
           {
            "marker": {
             "colorbar": {
              "outlinewidth": 0,
              "ticks": ""
             }
            },
            "type": "scattergl"
           }
          ],
          "scattermapbox": [
           {
            "marker": {
             "colorbar": {
              "outlinewidth": 0,
              "ticks": ""
             }
            },
            "type": "scattermapbox"
           }
          ],
          "scatterpolar": [
           {
            "marker": {
             "colorbar": {
              "outlinewidth": 0,
              "ticks": ""
             }
            },
            "type": "scatterpolar"
           }
          ],
          "scatterpolargl": [
           {
            "marker": {
             "colorbar": {
              "outlinewidth": 0,
              "ticks": ""
             }
            },
            "type": "scatterpolargl"
           }
          ],
          "scatterternary": [
           {
            "marker": {
             "colorbar": {
              "outlinewidth": 0,
              "ticks": ""
             }
            },
            "type": "scatterternary"
           }
          ],
          "surface": [
           {
            "colorbar": {
             "outlinewidth": 0,
             "ticks": ""
            },
            "colorscale": [
             [
              0,
              "#0d0887"
             ],
             [
              0.1111111111111111,
              "#46039f"
             ],
             [
              0.2222222222222222,
              "#7201a8"
             ],
             [
              0.3333333333333333,
              "#9c179e"
             ],
             [
              0.4444444444444444,
              "#bd3786"
             ],
             [
              0.5555555555555556,
              "#d8576b"
             ],
             [
              0.6666666666666666,
              "#ed7953"
             ],
             [
              0.7777777777777778,
              "#fb9f3a"
             ],
             [
              0.8888888888888888,
              "#fdca26"
             ],
             [
              1,
              "#f0f921"
             ]
            ],
            "type": "surface"
           }
          ],
          "table": [
           {
            "cells": {
             "fill": {
              "color": "#EBF0F8"
             },
             "line": {
              "color": "white"
             }
            },
            "header": {
             "fill": {
              "color": "#C8D4E3"
             },
             "line": {
              "color": "white"
             }
            },
            "type": "table"
           }
          ]
         },
         "layout": {
          "annotationdefaults": {
           "arrowcolor": "#2a3f5f",
           "arrowhead": 0,
           "arrowwidth": 1
          },
          "autotypenumbers": "strict",
          "coloraxis": {
           "colorbar": {
            "outlinewidth": 0,
            "ticks": ""
           }
          },
          "colorscale": {
           "diverging": [
            [
             0,
             "#8e0152"
            ],
            [
             0.1,
             "#c51b7d"
            ],
            [
             0.2,
             "#de77ae"
            ],
            [
             0.3,
             "#f1b6da"
            ],
            [
             0.4,
             "#fde0ef"
            ],
            [
             0.5,
             "#f7f7f7"
            ],
            [
             0.6,
             "#e6f5d0"
            ],
            [
             0.7,
             "#b8e186"
            ],
            [
             0.8,
             "#7fbc41"
            ],
            [
             0.9,
             "#4d9221"
            ],
            [
             1,
             "#276419"
            ]
           ],
           "sequential": [
            [
             0,
             "#0d0887"
            ],
            [
             0.1111111111111111,
             "#46039f"
            ],
            [
             0.2222222222222222,
             "#7201a8"
            ],
            [
             0.3333333333333333,
             "#9c179e"
            ],
            [
             0.4444444444444444,
             "#bd3786"
            ],
            [
             0.5555555555555556,
             "#d8576b"
            ],
            [
             0.6666666666666666,
             "#ed7953"
            ],
            [
             0.7777777777777778,
             "#fb9f3a"
            ],
            [
             0.8888888888888888,
             "#fdca26"
            ],
            [
             1,
             "#f0f921"
            ]
           ],
           "sequentialminus": [
            [
             0,
             "#0d0887"
            ],
            [
             0.1111111111111111,
             "#46039f"
            ],
            [
             0.2222222222222222,
             "#7201a8"
            ],
            [
             0.3333333333333333,
             "#9c179e"
            ],
            [
             0.4444444444444444,
             "#bd3786"
            ],
            [
             0.5555555555555556,
             "#d8576b"
            ],
            [
             0.6666666666666666,
             "#ed7953"
            ],
            [
             0.7777777777777778,
             "#fb9f3a"
            ],
            [
             0.8888888888888888,
             "#fdca26"
            ],
            [
             1,
             "#f0f921"
            ]
           ]
          },
          "colorway": [
           "#636efa",
           "#EF553B",
           "#00cc96",
           "#ab63fa",
           "#FFA15A",
           "#19d3f3",
           "#FF6692",
           "#B6E880",
           "#FF97FF",
           "#FECB52"
          ],
          "font": {
           "color": "#2a3f5f"
          },
          "geo": {
           "bgcolor": "white",
           "lakecolor": "white",
           "landcolor": "#E5ECF6",
           "showlakes": true,
           "showland": true,
           "subunitcolor": "white"
          },
          "hoverlabel": {
           "align": "left"
          },
          "hovermode": "closest",
          "mapbox": {
           "style": "light"
          },
          "paper_bgcolor": "white",
          "plot_bgcolor": "#E5ECF6",
          "polar": {
           "angularaxis": {
            "gridcolor": "white",
            "linecolor": "white",
            "ticks": ""
           },
           "bgcolor": "#E5ECF6",
           "radialaxis": {
            "gridcolor": "white",
            "linecolor": "white",
            "ticks": ""
           }
          },
          "scene": {
           "xaxis": {
            "backgroundcolor": "#E5ECF6",
            "gridcolor": "white",
            "gridwidth": 2,
            "linecolor": "white",
            "showbackground": true,
            "ticks": "",
            "zerolinecolor": "white"
           },
           "yaxis": {
            "backgroundcolor": "#E5ECF6",
            "gridcolor": "white",
            "gridwidth": 2,
            "linecolor": "white",
            "showbackground": true,
            "ticks": "",
            "zerolinecolor": "white"
           },
           "zaxis": {
            "backgroundcolor": "#E5ECF6",
            "gridcolor": "white",
            "gridwidth": 2,
            "linecolor": "white",
            "showbackground": true,
            "ticks": "",
            "zerolinecolor": "white"
           }
          },
          "shapedefaults": {
           "line": {
            "color": "#2a3f5f"
           }
          },
          "ternary": {
           "aaxis": {
            "gridcolor": "white",
            "linecolor": "white",
            "ticks": ""
           },
           "baxis": {
            "gridcolor": "white",
            "linecolor": "white",
            "ticks": ""
           },
           "bgcolor": "#E5ECF6",
           "caxis": {
            "gridcolor": "white",
            "linecolor": "white",
            "ticks": ""
           }
          },
          "title": {
           "x": 0.05
          },
          "xaxis": {
           "automargin": true,
           "gridcolor": "white",
           "linecolor": "white",
           "ticks": "",
           "title": {
            "standoff": 15
           },
           "zerolinecolor": "white",
           "zerolinewidth": 2
          },
          "yaxis": {
           "automargin": true,
           "gridcolor": "white",
           "linecolor": "white",
           "ticks": "",
           "title": {
            "standoff": 15
           },
           "zerolinecolor": "white",
           "zerolinewidth": 2
          }
         }
        },
        "title": {
         "text": "Frecuencia de Check-ins por Mes"
        },
        "xaxis": {
         "anchor": "y",
         "domain": [
          0,
          1
         ],
         "title": {
          "text": "Mes"
         }
        },
        "yaxis": {
         "anchor": "x",
         "domain": [
          0,
          1
         ],
         "title": {
          "text": "Cantidad de Check-ins"
         }
        }
       }
      }
     },
     "metadata": {},
     "output_type": "display_data"
    },
    {
     "data": {
      "application/vnd.plotly.v1+json": {
       "config": {
        "plotlyServerURL": "https://plot.ly"
       },
       "data": [
        {
         "hovertemplate": "x=%{x}<br>y=%{y}<extra></extra>",
         "legendgroup": "",
         "line": {
          "color": "#636efa",
          "dash": "solid"
         },
         "marker": {
          "symbol": "circle"
         },
         "mode": "lines",
         "name": "",
         "orientation": "v",
         "showlegend": false,
         "type": "scatter",
         "x": [
          2016,
          2017,
          2018,
          2019,
          2020
         ],
         "xaxis": "x",
         "y": [
          816,
          716,
          626,
          508,
          233
         ],
         "yaxis": "y"
        }
       ],
       "layout": {
        "legend": {
         "tracegroupgap": 0
        },
        "template": {
         "data": {
          "bar": [
           {
            "error_x": {
             "color": "#2a3f5f"
            },
            "error_y": {
             "color": "#2a3f5f"
            },
            "marker": {
             "line": {
              "color": "#E5ECF6",
              "width": 0.5
             },
             "pattern": {
              "fillmode": "overlay",
              "size": 10,
              "solidity": 0.2
             }
            },
            "type": "bar"
           }
          ],
          "barpolar": [
           {
            "marker": {
             "line": {
              "color": "#E5ECF6",
              "width": 0.5
             },
             "pattern": {
              "fillmode": "overlay",
              "size": 10,
              "solidity": 0.2
             }
            },
            "type": "barpolar"
           }
          ],
          "carpet": [
           {
            "aaxis": {
             "endlinecolor": "#2a3f5f",
             "gridcolor": "white",
             "linecolor": "white",
             "minorgridcolor": "white",
             "startlinecolor": "#2a3f5f"
            },
            "baxis": {
             "endlinecolor": "#2a3f5f",
             "gridcolor": "white",
             "linecolor": "white",
             "minorgridcolor": "white",
             "startlinecolor": "#2a3f5f"
            },
            "type": "carpet"
           }
          ],
          "choropleth": [
           {
            "colorbar": {
             "outlinewidth": 0,
             "ticks": ""
            },
            "type": "choropleth"
           }
          ],
          "contour": [
           {
            "colorbar": {
             "outlinewidth": 0,
             "ticks": ""
            },
            "colorscale": [
             [
              0,
              "#0d0887"
             ],
             [
              0.1111111111111111,
              "#46039f"
             ],
             [
              0.2222222222222222,
              "#7201a8"
             ],
             [
              0.3333333333333333,
              "#9c179e"
             ],
             [
              0.4444444444444444,
              "#bd3786"
             ],
             [
              0.5555555555555556,
              "#d8576b"
             ],
             [
              0.6666666666666666,
              "#ed7953"
             ],
             [
              0.7777777777777778,
              "#fb9f3a"
             ],
             [
              0.8888888888888888,
              "#fdca26"
             ],
             [
              1,
              "#f0f921"
             ]
            ],
            "type": "contour"
           }
          ],
          "contourcarpet": [
           {
            "colorbar": {
             "outlinewidth": 0,
             "ticks": ""
            },
            "type": "contourcarpet"
           }
          ],
          "heatmap": [
           {
            "colorbar": {
             "outlinewidth": 0,
             "ticks": ""
            },
            "colorscale": [
             [
              0,
              "#0d0887"
             ],
             [
              0.1111111111111111,
              "#46039f"
             ],
             [
              0.2222222222222222,
              "#7201a8"
             ],
             [
              0.3333333333333333,
              "#9c179e"
             ],
             [
              0.4444444444444444,
              "#bd3786"
             ],
             [
              0.5555555555555556,
              "#d8576b"
             ],
             [
              0.6666666666666666,
              "#ed7953"
             ],
             [
              0.7777777777777778,
              "#fb9f3a"
             ],
             [
              0.8888888888888888,
              "#fdca26"
             ],
             [
              1,
              "#f0f921"
             ]
            ],
            "type": "heatmap"
           }
          ],
          "heatmapgl": [
           {
            "colorbar": {
             "outlinewidth": 0,
             "ticks": ""
            },
            "colorscale": [
             [
              0,
              "#0d0887"
             ],
             [
              0.1111111111111111,
              "#46039f"
             ],
             [
              0.2222222222222222,
              "#7201a8"
             ],
             [
              0.3333333333333333,
              "#9c179e"
             ],
             [
              0.4444444444444444,
              "#bd3786"
             ],
             [
              0.5555555555555556,
              "#d8576b"
             ],
             [
              0.6666666666666666,
              "#ed7953"
             ],
             [
              0.7777777777777778,
              "#fb9f3a"
             ],
             [
              0.8888888888888888,
              "#fdca26"
             ],
             [
              1,
              "#f0f921"
             ]
            ],
            "type": "heatmapgl"
           }
          ],
          "histogram": [
           {
            "marker": {
             "pattern": {
              "fillmode": "overlay",
              "size": 10,
              "solidity": 0.2
             }
            },
            "type": "histogram"
           }
          ],
          "histogram2d": [
           {
            "colorbar": {
             "outlinewidth": 0,
             "ticks": ""
            },
            "colorscale": [
             [
              0,
              "#0d0887"
             ],
             [
              0.1111111111111111,
              "#46039f"
             ],
             [
              0.2222222222222222,
              "#7201a8"
             ],
             [
              0.3333333333333333,
              "#9c179e"
             ],
             [
              0.4444444444444444,
              "#bd3786"
             ],
             [
              0.5555555555555556,
              "#d8576b"
             ],
             [
              0.6666666666666666,
              "#ed7953"
             ],
             [
              0.7777777777777778,
              "#fb9f3a"
             ],
             [
              0.8888888888888888,
              "#fdca26"
             ],
             [
              1,
              "#f0f921"
             ]
            ],
            "type": "histogram2d"
           }
          ],
          "histogram2dcontour": [
           {
            "colorbar": {
             "outlinewidth": 0,
             "ticks": ""
            },
            "colorscale": [
             [
              0,
              "#0d0887"
             ],
             [
              0.1111111111111111,
              "#46039f"
             ],
             [
              0.2222222222222222,
              "#7201a8"
             ],
             [
              0.3333333333333333,
              "#9c179e"
             ],
             [
              0.4444444444444444,
              "#bd3786"
             ],
             [
              0.5555555555555556,
              "#d8576b"
             ],
             [
              0.6666666666666666,
              "#ed7953"
             ],
             [
              0.7777777777777778,
              "#fb9f3a"
             ],
             [
              0.8888888888888888,
              "#fdca26"
             ],
             [
              1,
              "#f0f921"
             ]
            ],
            "type": "histogram2dcontour"
           }
          ],
          "mesh3d": [
           {
            "colorbar": {
             "outlinewidth": 0,
             "ticks": ""
            },
            "type": "mesh3d"
           }
          ],
          "parcoords": [
           {
            "line": {
             "colorbar": {
              "outlinewidth": 0,
              "ticks": ""
             }
            },
            "type": "parcoords"
           }
          ],
          "pie": [
           {
            "automargin": true,
            "type": "pie"
           }
          ],
          "scatter": [
           {
            "fillpattern": {
             "fillmode": "overlay",
             "size": 10,
             "solidity": 0.2
            },
            "type": "scatter"
           }
          ],
          "scatter3d": [
           {
            "line": {
             "colorbar": {
              "outlinewidth": 0,
              "ticks": ""
             }
            },
            "marker": {
             "colorbar": {
              "outlinewidth": 0,
              "ticks": ""
             }
            },
            "type": "scatter3d"
           }
          ],
          "scattercarpet": [
           {
            "marker": {
             "colorbar": {
              "outlinewidth": 0,
              "ticks": ""
             }
            },
            "type": "scattercarpet"
           }
          ],
          "scattergeo": [
           {
            "marker": {
             "colorbar": {
              "outlinewidth": 0,
              "ticks": ""
             }
            },
            "type": "scattergeo"
           }
          ],
          "scattergl": [
           {
            "marker": {
             "colorbar": {
              "outlinewidth": 0,
              "ticks": ""
             }
            },
            "type": "scattergl"
           }
          ],
          "scattermapbox": [
           {
            "marker": {
             "colorbar": {
              "outlinewidth": 0,
              "ticks": ""
             }
            },
            "type": "scattermapbox"
           }
          ],
          "scatterpolar": [
           {
            "marker": {
             "colorbar": {
              "outlinewidth": 0,
              "ticks": ""
             }
            },
            "type": "scatterpolar"
           }
          ],
          "scatterpolargl": [
           {
            "marker": {
             "colorbar": {
              "outlinewidth": 0,
              "ticks": ""
             }
            },
            "type": "scatterpolargl"
           }
          ],
          "scatterternary": [
           {
            "marker": {
             "colorbar": {
              "outlinewidth": 0,
              "ticks": ""
             }
            },
            "type": "scatterternary"
           }
          ],
          "surface": [
           {
            "colorbar": {
             "outlinewidth": 0,
             "ticks": ""
            },
            "colorscale": [
             [
              0,
              "#0d0887"
             ],
             [
              0.1111111111111111,
              "#46039f"
             ],
             [
              0.2222222222222222,
              "#7201a8"
             ],
             [
              0.3333333333333333,
              "#9c179e"
             ],
             [
              0.4444444444444444,
              "#bd3786"
             ],
             [
              0.5555555555555556,
              "#d8576b"
             ],
             [
              0.6666666666666666,
              "#ed7953"
             ],
             [
              0.7777777777777778,
              "#fb9f3a"
             ],
             [
              0.8888888888888888,
              "#fdca26"
             ],
             [
              1,
              "#f0f921"
             ]
            ],
            "type": "surface"
           }
          ],
          "table": [
           {
            "cells": {
             "fill": {
              "color": "#EBF0F8"
             },
             "line": {
              "color": "white"
             }
            },
            "header": {
             "fill": {
              "color": "#C8D4E3"
             },
             "line": {
              "color": "white"
             }
            },
            "type": "table"
           }
          ]
         },
         "layout": {
          "annotationdefaults": {
           "arrowcolor": "#2a3f5f",
           "arrowhead": 0,
           "arrowwidth": 1
          },
          "autotypenumbers": "strict",
          "coloraxis": {
           "colorbar": {
            "outlinewidth": 0,
            "ticks": ""
           }
          },
          "colorscale": {
           "diverging": [
            [
             0,
             "#8e0152"
            ],
            [
             0.1,
             "#c51b7d"
            ],
            [
             0.2,
             "#de77ae"
            ],
            [
             0.3,
             "#f1b6da"
            ],
            [
             0.4,
             "#fde0ef"
            ],
            [
             0.5,
             "#f7f7f7"
            ],
            [
             0.6,
             "#e6f5d0"
            ],
            [
             0.7,
             "#b8e186"
            ],
            [
             0.8,
             "#7fbc41"
            ],
            [
             0.9,
             "#4d9221"
            ],
            [
             1,
             "#276419"
            ]
           ],
           "sequential": [
            [
             0,
             "#0d0887"
            ],
            [
             0.1111111111111111,
             "#46039f"
            ],
            [
             0.2222222222222222,
             "#7201a8"
            ],
            [
             0.3333333333333333,
             "#9c179e"
            ],
            [
             0.4444444444444444,
             "#bd3786"
            ],
            [
             0.5555555555555556,
             "#d8576b"
            ],
            [
             0.6666666666666666,
             "#ed7953"
            ],
            [
             0.7777777777777778,
             "#fb9f3a"
            ],
            [
             0.8888888888888888,
             "#fdca26"
            ],
            [
             1,
             "#f0f921"
            ]
           ],
           "sequentialminus": [
            [
             0,
             "#0d0887"
            ],
            [
             0.1111111111111111,
             "#46039f"
            ],
            [
             0.2222222222222222,
             "#7201a8"
            ],
            [
             0.3333333333333333,
             "#9c179e"
            ],
            [
             0.4444444444444444,
             "#bd3786"
            ],
            [
             0.5555555555555556,
             "#d8576b"
            ],
            [
             0.6666666666666666,
             "#ed7953"
            ],
            [
             0.7777777777777778,
             "#fb9f3a"
            ],
            [
             0.8888888888888888,
             "#fdca26"
            ],
            [
             1,
             "#f0f921"
            ]
           ]
          },
          "colorway": [
           "#636efa",
           "#EF553B",
           "#00cc96",
           "#ab63fa",
           "#FFA15A",
           "#19d3f3",
           "#FF6692",
           "#B6E880",
           "#FF97FF",
           "#FECB52"
          ],
          "font": {
           "color": "#2a3f5f"
          },
          "geo": {
           "bgcolor": "white",
           "lakecolor": "white",
           "landcolor": "#E5ECF6",
           "showlakes": true,
           "showland": true,
           "subunitcolor": "white"
          },
          "hoverlabel": {
           "align": "left"
          },
          "hovermode": "closest",
          "mapbox": {
           "style": "light"
          },
          "paper_bgcolor": "white",
          "plot_bgcolor": "#E5ECF6",
          "polar": {
           "angularaxis": {
            "gridcolor": "white",
            "linecolor": "white",
            "ticks": ""
           },
           "bgcolor": "#E5ECF6",
           "radialaxis": {
            "gridcolor": "white",
            "linecolor": "white",
            "ticks": ""
           }
          },
          "scene": {
           "xaxis": {
            "backgroundcolor": "#E5ECF6",
            "gridcolor": "white",
            "gridwidth": 2,
            "linecolor": "white",
            "showbackground": true,
            "ticks": "",
            "zerolinecolor": "white"
           },
           "yaxis": {
            "backgroundcolor": "#E5ECF6",
            "gridcolor": "white",
            "gridwidth": 2,
            "linecolor": "white",
            "showbackground": true,
            "ticks": "",
            "zerolinecolor": "white"
           },
           "zaxis": {
            "backgroundcolor": "#E5ECF6",
            "gridcolor": "white",
            "gridwidth": 2,
            "linecolor": "white",
            "showbackground": true,
            "ticks": "",
            "zerolinecolor": "white"
           }
          },
          "shapedefaults": {
           "line": {
            "color": "#2a3f5f"
           }
          },
          "ternary": {
           "aaxis": {
            "gridcolor": "white",
            "linecolor": "white",
            "ticks": ""
           },
           "baxis": {
            "gridcolor": "white",
            "linecolor": "white",
            "ticks": ""
           },
           "bgcolor": "#E5ECF6",
           "caxis": {
            "gridcolor": "white",
            "linecolor": "white",
            "ticks": ""
           }
          },
          "title": {
           "x": 0.05
          },
          "xaxis": {
           "automargin": true,
           "gridcolor": "white",
           "linecolor": "white",
           "ticks": "",
           "title": {
            "standoff": 15
           },
           "zerolinecolor": "white",
           "zerolinewidth": 2
          },
          "yaxis": {
           "automargin": true,
           "gridcolor": "white",
           "linecolor": "white",
           "ticks": "",
           "title": {
            "standoff": 15
           },
           "zerolinecolor": "white",
           "zerolinewidth": 2
          }
         }
        },
        "title": {
         "text": "Frecuencia de Check-ins por Año"
        },
        "xaxis": {
         "anchor": "y",
         "domain": [
          0,
          1
         ],
         "title": {
          "text": "Año"
         }
        },
        "yaxis": {
         "anchor": "x",
         "domain": [
          0,
          1
         ],
         "title": {
          "text": "Cantidad de Check-ins"
         }
        }
       }
      }
     },
     "metadata": {},
     "output_type": "display_data"
    }
   ],
   "source": [
    "import plotly.express as px\n",
    "\n",
    "\n",
    "# Agregar columnas de mes y año\n",
    "filtered_df['year'] = filtered_df['date'].dt.year\n",
    "filtered_df['month'] = filtered_df['date'].dt.month\n",
    "\n",
    "# Calcular la frecuencia de check-ins por mes y por año\n",
    "freq_by_month = filtered_df.groupby('month')['business_id'].count()\n",
    "freq_by_year = filtered_df.groupby('year')['business_id'].count()\n",
    "\n",
    "# Crear gráficos interactivos con plotly express\n",
    "fig1 = px.line(x=freq_by_month.index, y=freq_by_month.values, title='Frecuencia de Check-ins por Mes')\n",
    "fig1.update_xaxes(title_text='Mes')\n",
    "fig1.update_yaxes(title_text='Cantidad de Check-ins')\n",
    "\n",
    "fig2 = px.line(x=freq_by_year.index, y=freq_by_year.values, title='Frecuencia de Check-ins por Año')\n",
    "fig2.update_xaxes(title_text='Año')\n",
    "fig2.update_yaxes(title_text='Cantidad de Check-ins')\n",
    "\n",
    "# Mostrar los gráficos interactivos\n",
    "fig1.show()\n",
    "fig2.show()"
   ]
  },
  {
   "cell_type": "markdown",
   "metadata": {},
   "source": [
    "Soponemos que debido al dolar, bajo el nivel de chekins, ya que era caro vacacionar en EEUU."
   ]
  },
  {
   "cell_type": "code",
   "execution_count": 11,
   "metadata": {},
   "outputs": [
    {
     "data": {
      "application/vnd.plotly.v1+json": {
       "config": {
        "plotlyServerURL": "https://plot.ly"
       },
       "data": [
        {
         "alignmentgroup": "True",
         "hovertemplate": "business_id=%{x}<br>date=%{y}<extra></extra>",
         "legendgroup": "",
         "marker": {
          "color": "#636efa",
          "pattern": {
           "shape": ""
          }
         },
         "name": "",
         "offsetgroup": "",
         "orientation": "v",
         "showlegend": false,
         "textposition": "auto",
         "type": "bar",
         "x": [
          "--eBbs3HpZYIym5pEw8Qdw",
          "-Thb5brv1ARwIa0j5HHBeA",
          "-w-Y_iAwyFgaj-O4Sc9xvw",
          "16reseNPtJGil7XBx3mAyQ",
          "1CCaaunP7_hKs7wXSSJsKA",
          "1L295h7W__0Ofs3tIXjI-w",
          "1c-qM06URos7EskpHBPPZQ",
          "2GsqaQGFZfqjEU7nau7vfg",
          "2nNrr5KamJ3BodzqtOvMwg",
          "3-69Zp0UWQafow9ilWDjvA",
          "34XP8VKP7nzw3jnd0pWaPw",
          "3RbbTJsKllmAcaziMsC81w",
          "3SUtD_5ZVlb9iGqJNbKLiQ",
          "3WHcQlBTNA8aP0kVNR5MzQ",
          "3YWVle2IalnDWQ7TF_q29A",
          "4W38r716n6ZBajtzL66Jew",
          "5-ZJE7qEtgGzypWNs9ausA",
          "61LzSAq8Y26U3xnnxqqRPA",
          "6gDwEX2rOncUDQC75nu_pA",
          "6lWw1OjyhzQbibr-f7bqew",
          "6oP1vO91nKVG35VmM-fphQ",
          "7F4G6k_v3rB6kgGi_azx7A",
          "7YB0Vgi67h_dsxTI1ErVtA",
          "7b1Q94_vAlhoxalOB16bOg",
          "7k-GMSgWrU4NkZa87ZvnFQ",
          "87UBfiH8EftEL4SLzZcFFg",
          "8EnjHnmackxchmoQee99zw",
          "8GGpmSmCey7K6JP5eXJScg",
          "8N4moq96N16VxvlwSq4i5Q",
          "8YitVOscv0atTmfVTZXrnw",
          "8kj5wW4_4fRjRHBntfHTag",
          "8neVKoaCGlOJlW9dstnNzQ",
          "9glHMq7pkeH0mQ41LNuyIA",
          "ALqsok4gwNEVxL5GglXAEA",
          "Azeee5WDaYOxzjKtnkURqg",
          "By9Qq0NRFkE8Cb_m1lBh8g",
          "C-sm_r8z42YMFkNBViHM8A",
          "CLPaa33zlOGUoJjP_BQ_NA",
          "DAzM1AiX_gfyqjFbakPN6w",
          "D_fQMuXrfDop3cKeAj7XKg",
          "E6G59qYgnP4p8QmWz-fjWg",
          "ElO-UerL1Sg6KC2oqC3o9Q",
          "Gpf61fcPpeUgnG0aMEbhoQ",
          "GrApaWj9j6zFQmBMZetWjA",
          "GvgLd-yCE50BTyaW5yKwwQ",
          "H6_5foPDTXokxm-rptLZdw",
          "I39uvHCyLF4q2mkZAGu-lw",
          "ILCgMRAQP4Or5HVW4Qx9Xw",
          "IOm2_nrAx7nHvFufszj9Wg",
          "IRwXxLUE1lW9OvZXGcW6Sg",
          "IwI4wpDfG-OtZA4hQTNioQ",
          "J86LJtszDf3saL0B51W_xw",
          "KYsXGs9LdJcLHkDMoBu75g",
          "Kyr2D8DqnzlJubnNp8poSw",
          "L1i13JBm7lJwBylDccQrgw",
          "MgAaivwlfBqKkH7rNYp2Tg",
          "N5u3K2Ec5GDOfWu0oXUqYA",
          "NvaHGU03m-hvXIGScPe6WQ",
          "Nz_FSXFlkWkd3sWWkQdLJA",
          "OBnGgsK3uKoGcgyogMREvA",
          "OUECb_njmGutp0mVLZ6krw",
          "OXlI1vJqFk874elfVY8OAw",
          "OevgFa-maNijC2anmt1_mQ",
          "OqG-r8_91lZMJ_QxUP5RCA",
          "PWkvPO5LKBoLPvha3rxMHg",
          "QM6ydur0eyQxrrUYF__XMQ",
          "RGtXfVi75B1m8EvX8HVHtg",
          "RIi9_NoeQ2gjqW_8HW0PYw",
          "RJiepHovHAZFZPMVSVsjpA",
          "SqE1V_zkgKsVraWsIt5-CA",
          "U_wKqFYSpD8D3CBl7e8ENA",
          "UglPQH9cej01pfSj_Ibz1g",
          "VgGITb54IIb1G0gSVt3gkw",
          "WpfXYtBebEcTA_8O8kyD9g",
          "WztYbdm0lcWSQT8W7z_nBw",
          "XWmg4BfYkZcT4E9iNmnycg",
          "XuC0WlUNm7IKzyoAQIw-7A",
          "YGdLTubcDfTdhQhyLL8LFQ",
          "YT5CjacTllBtvMaMJS3IbA",
          "YlgUOEWxxWrYt_ZVqHYsXA",
          "ZlSf82FO5SH-KXM5O6nglA",
          "Zp2_GDbmKT7YCA04ygIHZg",
          "birP5Vv97kwnyy1Wi7nQ6w",
          "btxsig4yBkNBQmDydFh5eg",
          "bvm2HZYlGA_OHm3RNfCJbQ",
          "c7JyGysafmch_P0XZ8dAdQ",
          "cFeXqNg2amGG9qb6tQYsZQ",
          "dc4Ikj6vYT3FaK41RbQbTA",
          "e9fy4esJqK8JcmlXZF4oeg",
          "eQZjFI68oc4dETtLgL6AxQ",
          "fcohLhqJ5GHOSoJfCcrLUQ",
          "g6gtGk8jTdlT1e-IW-NBSQ",
          "g7gvaY6Sq28EZhPeK6zcmg",
          "gEdBdZ-wdUbEWeZeEB3xNg",
          "jSLfrFv9_A_kIBaHdoGggg",
          "jVtoisBOkIE0xCEkrGaA3w",
          "k8stonbWUKchWoyQnrG2KA",
          "kH2bJtlej-8oDv8KjsEzCg",
          "kNsBF2nBLAA1oUqJwN9TgQ",
          "kwPVrYzSAGluOXWZ8dLC1Q",
          "l4sOZLkxQekdzryZGdtvKQ",
          "m1zQ2DhBg0hrTco5xYnwTw",
          "pAgtmlIGqFYaWdBoCUeitw",
          "pZ1w9Zvqyjv2VxjDBk5dEw",
          "qm4CUb96KIa2Qv7w6U_ZYQ",
          "r3If7d4wAvYIbltQft11Zw",
          "rfL6mTPb0F9G7gnYNtHPIA",
          "sNyeqSoXKH84Qdtr_-jwhw",
          "siJ11S7P5TDPZ-b2VliUvw",
          "tIrYpQ8I6gh1FhhqYU-Ttg",
          "tcmFtDXMdP13nnokz34gdA",
          "ujbE4kCZIrkGikbh1g9scg",
          "v0bxe65xGR2s2j9S8knxFw",
          "vDXMGgnANH3eJixQ4aG7eQ",
          "vGWd9h3YlkHTLbOd29io2A",
          "vNOBBP4EKJo4elgjRTjBVw",
          "vfOFJnfAmjc7_geqA2xUQg",
          "vhKv74jPIBW7rsSr1BBTag",
          "wVGeGxHHUMm4EgzAprLKAw",
          "wkNxhr_QcOtIr9f3V9S37w",
          "xV32Y7jne4duaM3H_r_ryQ",
          "xoRQ94Cgwjizxax0mVLJtQ",
          "yHiSd7SxMI7UiBxqnTUWTA",
          "z2suiNYy6cKyy_Oraaurlg"
         ],
         "xaxis": "x",
         "y": [
          10,
          4,
          10,
          27,
          12,
          15,
          10,
          42,
          8,
          41,
          5,
          65,
          10,
          19,
          5,
          24,
          11,
          26,
          22,
          34,
          22,
          12,
          6,
          7,
          19,
          61,
          17,
          21,
          6,
          5,
          3,
          18,
          15,
          26,
          20,
          2,
          22,
          79,
          15,
          7,
          16,
          6,
          43,
          35,
          12,
          2,
          10,
          27,
          30,
          3,
          8,
          77,
          40,
          12,
          33,
          16,
          25,
          61,
          25,
          15,
          19,
          2,
          86,
          61,
          3,
          17,
          10,
          35,
          20,
          8,
          2,
          13,
          23,
          23,
          17,
          1,
          29,
          44,
          23,
          20,
          4,
          102,
          51,
          18,
          2,
          23,
          2,
          31,
          13,
          11,
          13,
          59,
          27,
          55,
          19,
          10,
          20,
          42,
          13,
          33,
          17,
          51,
          70,
          14,
          13,
          42,
          4,
          30,
          4,
          81,
          19,
          11,
          31,
          19,
          10,
          10,
          10,
          20,
          21,
          33,
          63,
          1,
          15,
          27
         ],
         "yaxis": "y"
        }
       ],
       "layout": {
        "barmode": "relative",
        "legend": {
         "tracegroupgap": 0
        },
        "template": {
         "data": {
          "bar": [
           {
            "error_x": {
             "color": "#2a3f5f"
            },
            "error_y": {
             "color": "#2a3f5f"
            },
            "marker": {
             "line": {
              "color": "#E5ECF6",
              "width": 0.5
             },
             "pattern": {
              "fillmode": "overlay",
              "size": 10,
              "solidity": 0.2
             }
            },
            "type": "bar"
           }
          ],
          "barpolar": [
           {
            "marker": {
             "line": {
              "color": "#E5ECF6",
              "width": 0.5
             },
             "pattern": {
              "fillmode": "overlay",
              "size": 10,
              "solidity": 0.2
             }
            },
            "type": "barpolar"
           }
          ],
          "carpet": [
           {
            "aaxis": {
             "endlinecolor": "#2a3f5f",
             "gridcolor": "white",
             "linecolor": "white",
             "minorgridcolor": "white",
             "startlinecolor": "#2a3f5f"
            },
            "baxis": {
             "endlinecolor": "#2a3f5f",
             "gridcolor": "white",
             "linecolor": "white",
             "minorgridcolor": "white",
             "startlinecolor": "#2a3f5f"
            },
            "type": "carpet"
           }
          ],
          "choropleth": [
           {
            "colorbar": {
             "outlinewidth": 0,
             "ticks": ""
            },
            "type": "choropleth"
           }
          ],
          "contour": [
           {
            "colorbar": {
             "outlinewidth": 0,
             "ticks": ""
            },
            "colorscale": [
             [
              0,
              "#0d0887"
             ],
             [
              0.1111111111111111,
              "#46039f"
             ],
             [
              0.2222222222222222,
              "#7201a8"
             ],
             [
              0.3333333333333333,
              "#9c179e"
             ],
             [
              0.4444444444444444,
              "#bd3786"
             ],
             [
              0.5555555555555556,
              "#d8576b"
             ],
             [
              0.6666666666666666,
              "#ed7953"
             ],
             [
              0.7777777777777778,
              "#fb9f3a"
             ],
             [
              0.8888888888888888,
              "#fdca26"
             ],
             [
              1,
              "#f0f921"
             ]
            ],
            "type": "contour"
           }
          ],
          "contourcarpet": [
           {
            "colorbar": {
             "outlinewidth": 0,
             "ticks": ""
            },
            "type": "contourcarpet"
           }
          ],
          "heatmap": [
           {
            "colorbar": {
             "outlinewidth": 0,
             "ticks": ""
            },
            "colorscale": [
             [
              0,
              "#0d0887"
             ],
             [
              0.1111111111111111,
              "#46039f"
             ],
             [
              0.2222222222222222,
              "#7201a8"
             ],
             [
              0.3333333333333333,
              "#9c179e"
             ],
             [
              0.4444444444444444,
              "#bd3786"
             ],
             [
              0.5555555555555556,
              "#d8576b"
             ],
             [
              0.6666666666666666,
              "#ed7953"
             ],
             [
              0.7777777777777778,
              "#fb9f3a"
             ],
             [
              0.8888888888888888,
              "#fdca26"
             ],
             [
              1,
              "#f0f921"
             ]
            ],
            "type": "heatmap"
           }
          ],
          "heatmapgl": [
           {
            "colorbar": {
             "outlinewidth": 0,
             "ticks": ""
            },
            "colorscale": [
             [
              0,
              "#0d0887"
             ],
             [
              0.1111111111111111,
              "#46039f"
             ],
             [
              0.2222222222222222,
              "#7201a8"
             ],
             [
              0.3333333333333333,
              "#9c179e"
             ],
             [
              0.4444444444444444,
              "#bd3786"
             ],
             [
              0.5555555555555556,
              "#d8576b"
             ],
             [
              0.6666666666666666,
              "#ed7953"
             ],
             [
              0.7777777777777778,
              "#fb9f3a"
             ],
             [
              0.8888888888888888,
              "#fdca26"
             ],
             [
              1,
              "#f0f921"
             ]
            ],
            "type": "heatmapgl"
           }
          ],
          "histogram": [
           {
            "marker": {
             "pattern": {
              "fillmode": "overlay",
              "size": 10,
              "solidity": 0.2
             }
            },
            "type": "histogram"
           }
          ],
          "histogram2d": [
           {
            "colorbar": {
             "outlinewidth": 0,
             "ticks": ""
            },
            "colorscale": [
             [
              0,
              "#0d0887"
             ],
             [
              0.1111111111111111,
              "#46039f"
             ],
             [
              0.2222222222222222,
              "#7201a8"
             ],
             [
              0.3333333333333333,
              "#9c179e"
             ],
             [
              0.4444444444444444,
              "#bd3786"
             ],
             [
              0.5555555555555556,
              "#d8576b"
             ],
             [
              0.6666666666666666,
              "#ed7953"
             ],
             [
              0.7777777777777778,
              "#fb9f3a"
             ],
             [
              0.8888888888888888,
              "#fdca26"
             ],
             [
              1,
              "#f0f921"
             ]
            ],
            "type": "histogram2d"
           }
          ],
          "histogram2dcontour": [
           {
            "colorbar": {
             "outlinewidth": 0,
             "ticks": ""
            },
            "colorscale": [
             [
              0,
              "#0d0887"
             ],
             [
              0.1111111111111111,
              "#46039f"
             ],
             [
              0.2222222222222222,
              "#7201a8"
             ],
             [
              0.3333333333333333,
              "#9c179e"
             ],
             [
              0.4444444444444444,
              "#bd3786"
             ],
             [
              0.5555555555555556,
              "#d8576b"
             ],
             [
              0.6666666666666666,
              "#ed7953"
             ],
             [
              0.7777777777777778,
              "#fb9f3a"
             ],
             [
              0.8888888888888888,
              "#fdca26"
             ],
             [
              1,
              "#f0f921"
             ]
            ],
            "type": "histogram2dcontour"
           }
          ],
          "mesh3d": [
           {
            "colorbar": {
             "outlinewidth": 0,
             "ticks": ""
            },
            "type": "mesh3d"
           }
          ],
          "parcoords": [
           {
            "line": {
             "colorbar": {
              "outlinewidth": 0,
              "ticks": ""
             }
            },
            "type": "parcoords"
           }
          ],
          "pie": [
           {
            "automargin": true,
            "type": "pie"
           }
          ],
          "scatter": [
           {
            "fillpattern": {
             "fillmode": "overlay",
             "size": 10,
             "solidity": 0.2
            },
            "type": "scatter"
           }
          ],
          "scatter3d": [
           {
            "line": {
             "colorbar": {
              "outlinewidth": 0,
              "ticks": ""
             }
            },
            "marker": {
             "colorbar": {
              "outlinewidth": 0,
              "ticks": ""
             }
            },
            "type": "scatter3d"
           }
          ],
          "scattercarpet": [
           {
            "marker": {
             "colorbar": {
              "outlinewidth": 0,
              "ticks": ""
             }
            },
            "type": "scattercarpet"
           }
          ],
          "scattergeo": [
           {
            "marker": {
             "colorbar": {
              "outlinewidth": 0,
              "ticks": ""
             }
            },
            "type": "scattergeo"
           }
          ],
          "scattergl": [
           {
            "marker": {
             "colorbar": {
              "outlinewidth": 0,
              "ticks": ""
             }
            },
            "type": "scattergl"
           }
          ],
          "scattermapbox": [
           {
            "marker": {
             "colorbar": {
              "outlinewidth": 0,
              "ticks": ""
             }
            },
            "type": "scattermapbox"
           }
          ],
          "scatterpolar": [
           {
            "marker": {
             "colorbar": {
              "outlinewidth": 0,
              "ticks": ""
             }
            },
            "type": "scatterpolar"
           }
          ],
          "scatterpolargl": [
           {
            "marker": {
             "colorbar": {
              "outlinewidth": 0,
              "ticks": ""
             }
            },
            "type": "scatterpolargl"
           }
          ],
          "scatterternary": [
           {
            "marker": {
             "colorbar": {
              "outlinewidth": 0,
              "ticks": ""
             }
            },
            "type": "scatterternary"
           }
          ],
          "surface": [
           {
            "colorbar": {
             "outlinewidth": 0,
             "ticks": ""
            },
            "colorscale": [
             [
              0,
              "#0d0887"
             ],
             [
              0.1111111111111111,
              "#46039f"
             ],
             [
              0.2222222222222222,
              "#7201a8"
             ],
             [
              0.3333333333333333,
              "#9c179e"
             ],
             [
              0.4444444444444444,
              "#bd3786"
             ],
             [
              0.5555555555555556,
              "#d8576b"
             ],
             [
              0.6666666666666666,
              "#ed7953"
             ],
             [
              0.7777777777777778,
              "#fb9f3a"
             ],
             [
              0.8888888888888888,
              "#fdca26"
             ],
             [
              1,
              "#f0f921"
             ]
            ],
            "type": "surface"
           }
          ],
          "table": [
           {
            "cells": {
             "fill": {
              "color": "#EBF0F8"
             },
             "line": {
              "color": "white"
             }
            },
            "header": {
             "fill": {
              "color": "#C8D4E3"
             },
             "line": {
              "color": "white"
             }
            },
            "type": "table"
           }
          ]
         },
         "layout": {
          "annotationdefaults": {
           "arrowcolor": "#2a3f5f",
           "arrowhead": 0,
           "arrowwidth": 1
          },
          "autotypenumbers": "strict",
          "coloraxis": {
           "colorbar": {
            "outlinewidth": 0,
            "ticks": ""
           }
          },
          "colorscale": {
           "diverging": [
            [
             0,
             "#8e0152"
            ],
            [
             0.1,
             "#c51b7d"
            ],
            [
             0.2,
             "#de77ae"
            ],
            [
             0.3,
             "#f1b6da"
            ],
            [
             0.4,
             "#fde0ef"
            ],
            [
             0.5,
             "#f7f7f7"
            ],
            [
             0.6,
             "#e6f5d0"
            ],
            [
             0.7,
             "#b8e186"
            ],
            [
             0.8,
             "#7fbc41"
            ],
            [
             0.9,
             "#4d9221"
            ],
            [
             1,
             "#276419"
            ]
           ],
           "sequential": [
            [
             0,
             "#0d0887"
            ],
            [
             0.1111111111111111,
             "#46039f"
            ],
            [
             0.2222222222222222,
             "#7201a8"
            ],
            [
             0.3333333333333333,
             "#9c179e"
            ],
            [
             0.4444444444444444,
             "#bd3786"
            ],
            [
             0.5555555555555556,
             "#d8576b"
            ],
            [
             0.6666666666666666,
             "#ed7953"
            ],
            [
             0.7777777777777778,
             "#fb9f3a"
            ],
            [
             0.8888888888888888,
             "#fdca26"
            ],
            [
             1,
             "#f0f921"
            ]
           ],
           "sequentialminus": [
            [
             0,
             "#0d0887"
            ],
            [
             0.1111111111111111,
             "#46039f"
            ],
            [
             0.2222222222222222,
             "#7201a8"
            ],
            [
             0.3333333333333333,
             "#9c179e"
            ],
            [
             0.4444444444444444,
             "#bd3786"
            ],
            [
             0.5555555555555556,
             "#d8576b"
            ],
            [
             0.6666666666666666,
             "#ed7953"
            ],
            [
             0.7777777777777778,
             "#fb9f3a"
            ],
            [
             0.8888888888888888,
             "#fdca26"
            ],
            [
             1,
             "#f0f921"
            ]
           ]
          },
          "colorway": [
           "#636efa",
           "#EF553B",
           "#00cc96",
           "#ab63fa",
           "#FFA15A",
           "#19d3f3",
           "#FF6692",
           "#B6E880",
           "#FF97FF",
           "#FECB52"
          ],
          "font": {
           "color": "#2a3f5f"
          },
          "geo": {
           "bgcolor": "white",
           "lakecolor": "white",
           "landcolor": "#E5ECF6",
           "showlakes": true,
           "showland": true,
           "subunitcolor": "white"
          },
          "hoverlabel": {
           "align": "left"
          },
          "hovermode": "closest",
          "mapbox": {
           "style": "light"
          },
          "paper_bgcolor": "white",
          "plot_bgcolor": "#E5ECF6",
          "polar": {
           "angularaxis": {
            "gridcolor": "white",
            "linecolor": "white",
            "ticks": ""
           },
           "bgcolor": "#E5ECF6",
           "radialaxis": {
            "gridcolor": "white",
            "linecolor": "white",
            "ticks": ""
           }
          },
          "scene": {
           "xaxis": {
            "backgroundcolor": "#E5ECF6",
            "gridcolor": "white",
            "gridwidth": 2,
            "linecolor": "white",
            "showbackground": true,
            "ticks": "",
            "zerolinecolor": "white"
           },
           "yaxis": {
            "backgroundcolor": "#E5ECF6",
            "gridcolor": "white",
            "gridwidth": 2,
            "linecolor": "white",
            "showbackground": true,
            "ticks": "",
            "zerolinecolor": "white"
           },
           "zaxis": {
            "backgroundcolor": "#E5ECF6",
            "gridcolor": "white",
            "gridwidth": 2,
            "linecolor": "white",
            "showbackground": true,
            "ticks": "",
            "zerolinecolor": "white"
           }
          },
          "shapedefaults": {
           "line": {
            "color": "#2a3f5f"
           }
          },
          "ternary": {
           "aaxis": {
            "gridcolor": "white",
            "linecolor": "white",
            "ticks": ""
           },
           "baxis": {
            "gridcolor": "white",
            "linecolor": "white",
            "ticks": ""
           },
           "bgcolor": "#E5ECF6",
           "caxis": {
            "gridcolor": "white",
            "linecolor": "white",
            "ticks": ""
           }
          },
          "title": {
           "x": 0.05
          },
          "xaxis": {
           "automargin": true,
           "gridcolor": "white",
           "linecolor": "white",
           "ticks": "",
           "title": {
            "standoff": 15
           },
           "zerolinecolor": "white",
           "zerolinewidth": 2
          },
          "yaxis": {
           "automargin": true,
           "gridcolor": "white",
           "linecolor": "white",
           "ticks": "",
           "title": {
            "standoff": 15
           },
           "zerolinecolor": "white",
           "zerolinewidth": 2
          }
         }
        },
        "title": {
         "text": "Número Total de Check-ins por Business ID"
        },
        "xaxis": {
         "anchor": "y",
         "categoryorder": "total descending",
         "domain": [
          0,
          1
         ],
         "title": {
          "text": "Business ID"
         }
        },
        "yaxis": {
         "anchor": "x",
         "domain": [
          0,
          1
         ],
         "title": {
          "text": "Número de Check-ins"
         }
        }
       }
      }
     },
     "metadata": {},
     "output_type": "display_data"
    }
   ],
   "source": [
    "# Calcular el número total de check-ins por negocio\n",
    "checkins_per_business = filtered_df.groupby('business_id')['date'].count().reset_index()\n",
    "\n",
    "# Crear el gráfico interactivo de barras con Plotly\n",
    "fig = px.bar(checkins_per_business, x='business_id', y='date', title='Número Total de Check-ins por Business ID')\n",
    "fig.update_xaxes(categoryorder='total descending')  # Ordenar las barras por el total descendente\n",
    "fig.update_layout(xaxis_title='Business ID', yaxis_title='Número de Check-ins')\n",
    "fig.show()"
   ]
  },
  {
   "cell_type": "code",
   "execution_count": 12,
   "metadata": {},
   "outputs": [
    {
     "name": "stdout",
     "output_type": "stream",
     "text": [
      "Zp2_GDbmKT7YCA04ygIHZg    102\n",
      "OevgFa-maNijC2anmt1_mQ     86\n",
      "tIrYpQ8I6gh1FhhqYU-Ttg     81\n",
      "CLPaa33zlOGUoJjP_BQ_NA     79\n",
      "J86LJtszDf3saL0B51W_xw     77\n",
      "                         ... \n",
      "By9Qq0NRFkE8Cb_m1lBh8g      2\n",
      "bvm2HZYlGA_OHm3RNfCJbQ      2\n",
      "cFeXqNg2amGG9qb6tQYsZQ      2\n",
      "XWmg4BfYkZcT4E9iNmnycg      1\n",
      "xoRQ94Cgwjizxax0mVLJtQ      1\n",
      "Name: business_id, Length: 124, dtype: int64\n"
     ]
    }
   ],
   "source": [
    "business_id_counts = filtered_df['business_id'].value_counts()\n",
    "print(business_id_counts)"
   ]
  }
 ],
 "metadata": {
  "kernelspec": {
   "display_name": "base",
   "language": "python",
   "name": "python3"
  },
  "language_info": {
   "codemirror_mode": {
    "name": "ipython",
    "version": 3
   },
   "file_extension": ".py",
   "mimetype": "text/x-python",
   "name": "python",
   "nbconvert_exporter": "python",
   "pygments_lexer": "ipython3",
   "version": "3.10.9"
  },
  "orig_nbformat": 4
 },
 "nbformat": 4,
 "nbformat_minor": 2
}
