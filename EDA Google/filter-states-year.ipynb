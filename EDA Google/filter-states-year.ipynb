{
 "cells": [
  {
   "cell_type": "code",
   "execution_count": 60,
   "metadata": {},
   "outputs": [],
   "source": [
    "import os\n",
    "import json\n",
    "import pandas as pd\n",
    "import pyarrow as pa\n",
    "import pyarrow.parquet as pq\n",
    "from datetime import datetime"
   ]
  },
  {
   "cell_type": "markdown",
   "metadata": {},
   "source": [
    "Para poder tener una mirada más amplia y prolija sobre la data de cada estado, decidí unificar los json dentro de las carpetas de cada estado."
   ]
  },
  {
   "cell_type": "markdown",
   "metadata": {},
   "source": [
    "Ya que dentro de cada archivo cada linea representa un json, tomé la decisión de iterar cada linea/json de archivo y convertirlo en un dataframe. Como este proceso debe repetirse por cada archivo dentro de la carpeta estado, no instancio aún el archivo dentro de la siguiente función. Más adelante con el funcionamiento correcto de cada función voy a unificar los procesos para operar de manera prolija sobre la información."
   ]
  },
  {
   "cell_type": "code",
   "execution_count": 61,
   "metadata": {},
   "outputs": [],
   "source": [
    "def iterador_linea(archivo_json):\n",
    "    #archivo_json = \"../reviews-estados/review-Alabama/1.json\"\n",
    "    objetos_json = []\n",
    "\n",
    "    #iteracion del archivo linea por linea, agregando nuevos objetos al array vacio.\n",
    "    with open(archivo_json, \"r\") as file:\n",
    "        for linea in file:\n",
    "            objeto = json.loads(linea)\n",
    "            objetos_json.append(objeto)\n",
    "            \n",
    "    #creo el dataframe donde se va a alojar esta nueva info.\n",
    "    df = pd.DataFrame(objetos_json)\n",
    "    return df"
   ]
  },
  {
   "cell_type": "code",
   "execution_count": 62,
   "metadata": {},
   "outputs": [
    {
     "data": {
      "text/html": [
       "<div>\n",
       "<style scoped>\n",
       "    .dataframe tbody tr th:only-of-type {\n",
       "        vertical-align: middle;\n",
       "    }\n",
       "\n",
       "    .dataframe tbody tr th {\n",
       "        vertical-align: top;\n",
       "    }\n",
       "\n",
       "    .dataframe thead th {\n",
       "        text-align: right;\n",
       "    }\n",
       "</style>\n",
       "<table border=\"1\" class=\"dataframe\">\n",
       "  <thead>\n",
       "    <tr style=\"text-align: right;\">\n",
       "      <th></th>\n",
       "      <th>user_id</th>\n",
       "      <th>name</th>\n",
       "      <th>time</th>\n",
       "      <th>rating</th>\n",
       "      <th>text</th>\n",
       "      <th>pics</th>\n",
       "      <th>resp</th>\n",
       "      <th>gmap_id</th>\n",
       "    </tr>\n",
       "  </thead>\n",
       "  <tbody>\n",
       "    <tr>\n",
       "      <th>0</th>\n",
       "      <td>114043824230907811356</td>\n",
       "      <td>Kanisha Mixon</td>\n",
       "      <td>1597168272670</td>\n",
       "      <td>5</td>\n",
       "      <td>Very Personable staff! Beautiful and clean env...</td>\n",
       "      <td>None</td>\n",
       "      <td>None</td>\n",
       "      <td>0x8862134e67ff5c87:0x38b5e2ae99cd1fcf</td>\n",
       "    </tr>\n",
       "    <tr>\n",
       "      <th>1</th>\n",
       "      <td>116009008420407071921</td>\n",
       "      <td>Brandie Hodges</td>\n",
       "      <td>1609899039594</td>\n",
       "      <td>5</td>\n",
       "      <td>Best clothing intown</td>\n",
       "      <td>None</td>\n",
       "      <td>None</td>\n",
       "      <td>0x8862134e67ff5c87:0x38b5e2ae99cd1fcf</td>\n",
       "    </tr>\n",
       "    <tr>\n",
       "      <th>2</th>\n",
       "      <td>106239928178034609776</td>\n",
       "      <td>Sharon King</td>\n",
       "      <td>1547235290843</td>\n",
       "      <td>4</td>\n",
       "      <td>None</td>\n",
       "      <td>None</td>\n",
       "      <td>None</td>\n",
       "      <td>0x8862134e67ff5c87:0x38b5e2ae99cd1fcf</td>\n",
       "    </tr>\n",
       "    <tr>\n",
       "      <th>3</th>\n",
       "      <td>104970056115801744726</td>\n",
       "      <td>Veronica Pierce</td>\n",
       "      <td>1517709403534</td>\n",
       "      <td>5</td>\n",
       "      <td>None</td>\n",
       "      <td>None</td>\n",
       "      <td>None</td>\n",
       "      <td>0x8862134e67ff5c87:0x38b5e2ae99cd1fcf</td>\n",
       "    </tr>\n",
       "    <tr>\n",
       "      <th>4</th>\n",
       "      <td>110587471700525107383</td>\n",
       "      <td>Whitney Waldon Collier</td>\n",
       "      <td>1535245718492</td>\n",
       "      <td>5</td>\n",
       "      <td>None</td>\n",
       "      <td>None</td>\n",
       "      <td>None</td>\n",
       "      <td>0x8862134e67ff5c87:0x38b5e2ae99cd1fcf</td>\n",
       "    </tr>\n",
       "    <tr>\n",
       "      <th>...</th>\n",
       "      <td>...</td>\n",
       "      <td>...</td>\n",
       "      <td>...</td>\n",
       "      <td>...</td>\n",
       "      <td>...</td>\n",
       "      <td>...</td>\n",
       "      <td>...</td>\n",
       "      <td>...</td>\n",
       "    </tr>\n",
       "    <tr>\n",
       "      <th>149995</th>\n",
       "      <td>116508195431461017782</td>\n",
       "      <td>Lee Lee</td>\n",
       "      <td>1601666489107</td>\n",
       "      <td>5</td>\n",
       "      <td>Just a good old hardware friendly people</td>\n",
       "      <td>None</td>\n",
       "      <td>None</td>\n",
       "      <td>0x889a89fd92d55353:0x78e335f5e98e75b2</td>\n",
       "    </tr>\n",
       "    <tr>\n",
       "      <th>149996</th>\n",
       "      <td>108020832340640374305</td>\n",
       "      <td>Hayward Salter</td>\n",
       "      <td>1621994613217</td>\n",
       "      <td>5</td>\n",
       "      <td>Good people</td>\n",
       "      <td>None</td>\n",
       "      <td>None</td>\n",
       "      <td>0x889a89fd92d55353:0x78e335f5e98e75b2</td>\n",
       "    </tr>\n",
       "    <tr>\n",
       "      <th>149997</th>\n",
       "      <td>105464581418690693091</td>\n",
       "      <td>James McBride</td>\n",
       "      <td>1601863228986</td>\n",
       "      <td>4</td>\n",
       "      <td>Good for locals needing supplies to fix damage...</td>\n",
       "      <td>None</td>\n",
       "      <td>None</td>\n",
       "      <td>0x889a89fd92d55353:0x78e335f5e98e75b2</td>\n",
       "    </tr>\n",
       "    <tr>\n",
       "      <th>149998</th>\n",
       "      <td>111886905477779410743</td>\n",
       "      <td>Karen Sullivan</td>\n",
       "      <td>1593013285677</td>\n",
       "      <td>1</td>\n",
       "      <td>Very rude female employees at the cash counter...</td>\n",
       "      <td>None</td>\n",
       "      <td>None</td>\n",
       "      <td>0x889a89fd92d55353:0x78e335f5e98e75b2</td>\n",
       "    </tr>\n",
       "    <tr>\n",
       "      <th>149999</th>\n",
       "      <td>110992000623002616861</td>\n",
       "      <td>Scott Reid</td>\n",
       "      <td>1573317350293</td>\n",
       "      <td>4</td>\n",
       "      <td>Good hardware and lumber store. Prices on lumb...</td>\n",
       "      <td>None</td>\n",
       "      <td>None</td>\n",
       "      <td>0x889a89fd92d55353:0x78e335f5e98e75b2</td>\n",
       "    </tr>\n",
       "  </tbody>\n",
       "</table>\n",
       "<p>150000 rows × 8 columns</p>\n",
       "</div>"
      ],
      "text/plain": [
       "                      user_id                    name           time  rating  \\\n",
       "0       114043824230907811356           Kanisha Mixon  1597168272670       5   \n",
       "1       116009008420407071921          Brandie Hodges  1609899039594       5   \n",
       "2       106239928178034609776             Sharon King  1547235290843       4   \n",
       "3       104970056115801744726         Veronica Pierce  1517709403534       5   \n",
       "4       110587471700525107383  Whitney Waldon Collier  1535245718492       5   \n",
       "...                       ...                     ...            ...     ...   \n",
       "149995  116508195431461017782                 Lee Lee  1601666489107       5   \n",
       "149996  108020832340640374305          Hayward Salter  1621994613217       5   \n",
       "149997  105464581418690693091           James McBride  1601863228986       4   \n",
       "149998  111886905477779410743          Karen Sullivan  1593013285677       1   \n",
       "149999  110992000623002616861              Scott Reid  1573317350293       4   \n",
       "\n",
       "                                                     text  pics  resp  \\\n",
       "0       Very Personable staff! Beautiful and clean env...  None  None   \n",
       "1                                    Best clothing intown  None  None   \n",
       "2                                                    None  None  None   \n",
       "3                                                    None  None  None   \n",
       "4                                                    None  None  None   \n",
       "...                                                   ...   ...   ...   \n",
       "149995           Just a good old hardware friendly people  None  None   \n",
       "149996                                        Good people  None  None   \n",
       "149997  Good for locals needing supplies to fix damage...  None  None   \n",
       "149998  Very rude female employees at the cash counter...  None  None   \n",
       "149999  Good hardware and lumber store. Prices on lumb...  None  None   \n",
       "\n",
       "                                      gmap_id  \n",
       "0       0x8862134e67ff5c87:0x38b5e2ae99cd1fcf  \n",
       "1       0x8862134e67ff5c87:0x38b5e2ae99cd1fcf  \n",
       "2       0x8862134e67ff5c87:0x38b5e2ae99cd1fcf  \n",
       "3       0x8862134e67ff5c87:0x38b5e2ae99cd1fcf  \n",
       "4       0x8862134e67ff5c87:0x38b5e2ae99cd1fcf  \n",
       "...                                       ...  \n",
       "149995  0x889a89fd92d55353:0x78e335f5e98e75b2  \n",
       "149996  0x889a89fd92d55353:0x78e335f5e98e75b2  \n",
       "149997  0x889a89fd92d55353:0x78e335f5e98e75b2  \n",
       "149998  0x889a89fd92d55353:0x78e335f5e98e75b2  \n",
       "149999  0x889a89fd92d55353:0x78e335f5e98e75b2  \n",
       "\n",
       "[150000 rows x 8 columns]"
      ]
     },
     "execution_count": 62,
     "metadata": {},
     "output_type": "execute_result"
    }
   ],
   "source": [
    "#prueba\n",
    "df1 = \"../reviews-estados/review-Alabama/1.json\"\n",
    "iterador_linea(df1)"
   ]
  },
  {
   "cell_type": "markdown",
   "metadata": {},
   "source": [
    "Ahora quiero lograr una función que itere archivo por archivo de la carpeta-estado que elija, aplicando la conversión de cada archivo a dataframe y luego unirlos en un unico dataframe."
   ]
  },
  {
   "cell_type": "code",
   "execution_count": 64,
   "metadata": {},
   "outputs": [],
   "source": [
    "def iterador_archivo(carpeta):\n",
    "    dataframes = []\n",
    "    #iteracion archivo por archivo, aplicando la función creada anteriormente para transformarlos.\n",
    "    for archivo in os.listdir(carpeta):\n",
    "        ruta_archivo = os.path.join(carpeta, archivo)\n",
    "        if os.path.isfile(ruta_archivo):\n",
    "            dataframes.append(iterador_linea(ruta_archivo))\n",
    "    df = pd.concat(dataframes, axis=0, ignore_index=True)\n",
    "    return df"
   ]
  },
  {
   "cell_type": "markdown",
   "metadata": {},
   "source": [
    "Corroboro que este metodo esté funcionando correctamente."
   ]
  },
  {
   "cell_type": "code",
   "execution_count": 65,
   "metadata": {},
   "outputs": [],
   "source": [
    "alabama = \"../reviews-estados/review-Alabama\"\n",
    "df = iterador_archivo(alabama)"
   ]
  },
  {
   "cell_type": "markdown",
   "metadata": {},
   "source": [
    "Una vez la información del estado unificada en un solo dataframe, me voy a quedar unicamente con todos aquellos registros que daten del 2020 en adelante.\n",
    "Para esto, tengo que transformar el formato de time, que se encuentra en timestamp Unix (segundos transcurridos desde el 1 de enero de 1970) a formato date YYYY-MM-DD y luego filtrar la informacion con la que me quiero quedar."
   ]
  },
  {
   "cell_type": "code",
   "execution_count": 66,
   "metadata": {},
   "outputs": [],
   "source": [
    "def filter_year(dataframe):\n",
    "    dataframe['time'] = pd.to_datetime(dataframe['time'], unit='ms', utc=True)\n",
    "    df_filtrado = dataframe[dataframe['time'].dt.year >= 2020]\n",
    "    return df_filtrado"
   ]
  },
  {
   "cell_type": "markdown",
   "metadata": {},
   "source": [
    "Corroboro que esta función me devuelva correctamente la data del 2020 en adelante"
   ]
  },
  {
   "cell_type": "code",
   "execution_count": 67,
   "metadata": {},
   "outputs": [],
   "source": [
    "df = filter_year(df)"
   ]
  },
  {
   "cell_type": "markdown",
   "metadata": {},
   "source": [
    "Ahora debo unificar todas estas acciones en un solo metodo."
   ]
  },
  {
   "cell_type": "code",
   "execution_count": 68,
   "metadata": {},
   "outputs": [
    {
     "name": "stdout",
     "output_type": "stream",
     "text": [
      "Fecha mínima: 2020-01-01 00:02:02.297000+00:00\n",
      "Fecha máxima: 2021-09-09 01:02:47.785000+00:00\n"
     ]
    }
   ],
   "source": [
    "date_min = df['time'].min()\n",
    "date_max = df['time'].max()\n",
    "\n",
    "#se imprimen tanto la menor fecha registrada en el dataframe como la maxima fecha en el mismo.\n",
    "print(\"Fecha mínima:\", date_min)\n",
    "print(\"Fecha máxima:\", date_max)"
   ]
  },
  {
   "cell_type": "markdown",
   "metadata": {},
   "source": [
    "Una vez chequeada la funcionalidad de cada paso por separado, creo una función cual va a unificar todos estos procesos y va a recorrer carpeta por carpeta, transformando los archivos y guardandolos en un nuevo archivo parquet."
   ]
  },
  {
   "cell_type": "markdown",
   "metadata": {},
   "source": [
    "La siguiente función se encarga de convertir el dataframe instanciado en un archivo .parquet, se toma el nombre de la carpeta para nombrar el archivo, para poder identificar facilmente los archivos cuando suceda la conversion."
   ]
  },
  {
   "cell_type": "code",
   "execution_count": 77,
   "metadata": {},
   "outputs": [],
   "source": [
    "def conversor_parquet(dataframe, name_folder):\n",
    "    name_parquet = f\"{name_folder}.parquet\"\n",
    "    dataframe.to_parquet(name_parquet, index=False)\n",
    "    print(f\"DataFrame guardado en '{name_parquet}'\")"
   ]
  },
  {
   "cell_type": "code",
   "execution_count": 70,
   "metadata": {},
   "outputs": [
    {
     "name": "stdout",
     "output_type": "stream",
     "text": [
      "DataFrame guardado en 'reviews-jupiter.parquet'\n"
     ]
    }
   ],
   "source": [
    "conversor_parquet(df)"
   ]
  },
  {
   "cell_type": "code",
   "execution_count": 78,
   "metadata": {},
   "outputs": [],
   "source": [
    "def iterador_carpeta(carpeta_raiz):\n",
    "    for ruta_actual, carpetas_sub, _ in os.walk(carpeta_raiz):\n",
    "        for carpeta_sub in carpetas_sub:\n",
    "            ruta_carpeta_sub = os.path.join(ruta_actual, carpeta_sub)\n",
    "            dataframe = iterador_archivo(ruta_carpeta_sub)\n",
    "            dataframe_filtrado = filter_year(dataframe)\n",
    "            conversor_parquet(dataframe_filtrado, ruta_carpeta_sub)"
   ]
  },
  {
   "cell_type": "code",
   "execution_count": 80,
   "metadata": {},
   "outputs": [
    {
     "name": "stdout",
     "output_type": "stream",
     "text": [
      "../reviews-estados/\n",
      "DataFrame guardado en '../reviews-estados/review-Alabama.parquet'\n",
      "DataFrame guardado en '../reviews-estados/review-Alaska.parquet'\n",
      "DataFrame guardado en '../reviews-estados/review-Arizona.parquet'\n",
      "DataFrame guardado en '../reviews-estados/review-Arkansas.parquet'\n",
      "DataFrame guardado en '../reviews-estados/review-California.parquet'\n",
      "DataFrame guardado en '../reviews-estados/review-Colorado.parquet'\n",
      "DataFrame guardado en '../reviews-estados/review-Connecticut.parquet'\n",
      "DataFrame guardado en '../reviews-estados/review-Delaware.parquet'\n",
      "DataFrame guardado en '../reviews-estados/review-District_of_Columbia.parquet'\n",
      "DataFrame guardado en '../reviews-estados/review-Florida.parquet'\n",
      "DataFrame guardado en '../reviews-estados/review-Georgia.parquet'\n",
      "DataFrame guardado en '../reviews-estados/review-Hawaii.parquet'\n",
      "DataFrame guardado en '../reviews-estados/review-Idaho.parquet'\n",
      "DataFrame guardado en '../reviews-estados/review-Illinois.parquet'\n",
      "DataFrame guardado en '../reviews-estados/review-Indiana.parquet'\n",
      "DataFrame guardado en '../reviews-estados/review-Iowa.parquet'\n",
      "DataFrame guardado en '../reviews-estados/review-Kansas.parquet'\n",
      "DataFrame guardado en '../reviews-estados/review-Kentucky.parquet'\n",
      "DataFrame guardado en '../reviews-estados/review-Louisiana.parquet'\n",
      "DataFrame guardado en '../reviews-estados/review-Maine.parquet'\n",
      "DataFrame guardado en '../reviews-estados/review-Maryland.parquet'\n",
      "DataFrame guardado en '../reviews-estados/review-Massachusetts.parquet'\n",
      "DataFrame guardado en '../reviews-estados/review-Michigan.parquet'\n",
      "DataFrame guardado en '../reviews-estados/review-Minnesota.parquet'\n",
      "DataFrame guardado en '../reviews-estados/review-Mississippi.parquet'\n",
      "DataFrame guardado en '../reviews-estados/review-Missouri.parquet'\n",
      "DataFrame guardado en '../reviews-estados/review-Montana.parquet'\n",
      "DataFrame guardado en '../reviews-estados/review-Nebraska.parquet'\n",
      "DataFrame guardado en '../reviews-estados/review-Nevada.parquet'\n",
      "DataFrame guardado en '../reviews-estados/review-New_Hampshire.parquet'\n",
      "DataFrame guardado en '../reviews-estados/review-New_Jersey.parquet'\n",
      "DataFrame guardado en '../reviews-estados/review-New_Mexico.parquet'\n",
      "DataFrame guardado en '../reviews-estados/review-New_York.parquet'\n",
      "DataFrame guardado en '../reviews-estados/review-North_Carolina.parquet'\n",
      "DataFrame guardado en '../reviews-estados/review-North_Dakota.parquet'\n",
      "DataFrame guardado en '../reviews-estados/review-Ohio.parquet'\n",
      "DataFrame guardado en '../reviews-estados/review-Oklahoma.parquet'\n",
      "DataFrame guardado en '../reviews-estados/review-Oregon.parquet'\n",
      "DataFrame guardado en '../reviews-estados/review-Pennsylvania.parquet'\n",
      "DataFrame guardado en '../reviews-estados/review-Rhode_Island.parquet'\n",
      "DataFrame guardado en '../reviews-estados/review-South_Carolina.parquet'\n",
      "DataFrame guardado en '../reviews-estados/review-South_Dakota.parquet'\n",
      "DataFrame guardado en '../reviews-estados/review-Tennessee.parquet'\n",
      "DataFrame guardado en '../reviews-estados/review-Texas.parquet'\n",
      "DataFrame guardado en '../reviews-estados/review-Utah.parquet'\n",
      "DataFrame guardado en '../reviews-estados/review-Vermont.parquet'\n",
      "DataFrame guardado en '../reviews-estados/review-Virginia.parquet'\n",
      "DataFrame guardado en '../reviews-estados/review-Washington.parquet'\n",
      "DataFrame guardado en '../reviews-estados/review-West_Virginia.parquet'\n",
      "DataFrame guardado en '../reviews-estados/review-Wisconsin.parquet'\n",
      "DataFrame guardado en '../reviews-estados/review-Wyoming.parquet'\n"
     ]
    }
   ],
   "source": [
    "carpeta_principal = \"../reviews-estados/\"\n",
    "print(carpeta_principal)\n",
    "iterador_carpeta(carpeta_principal)"
   ]
  }
 ],
 "metadata": {
  "kernelspec": {
   "display_name": "venv",
   "language": "python",
   "name": "python3"
  },
  "language_info": {
   "codemirror_mode": {
    "name": "ipython",
    "version": 3
   },
   "file_extension": ".py",
   "mimetype": "text/x-python",
   "name": "python",
   "nbconvert_exporter": "python",
   "pygments_lexer": "ipython3",
   "version": "3.11.4"
  },
  "orig_nbformat": 4
 },
 "nbformat": 4,
 "nbformat_minor": 2
}
